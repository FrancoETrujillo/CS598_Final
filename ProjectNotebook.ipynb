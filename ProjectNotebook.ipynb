{
 "cells": [
  {
   "cell_type": "markdown",
   "id": "f954d686b0a84023",
   "metadata": {
    "collapsed": false
   },
   "source": [
    "# Improving Medical Predictions by Irregular Multimodal Electronic Health Records Modeling"
   ]
  },
  {
   "cell_type": "markdown",
   "id": "27d2cda9f6d05930",
   "metadata": {
    "collapsed": false
   },
   "source": [
    "# Team and Repo\n",
    "## Team Members:\n",
    "- Franco E.Trujillo - fet2@illinois.edu\n",
    "- Hongyi Wu - hongyiw6@illinois.edu\n",
    "\n",
    "## Project Repo:\n",
    "- [https://github.com/FrancoETrujillo/CS598_Final](https://github.com/FrancoETrujillo/CS598_Final)\n",
    "\n",
    "## Reference Repos:\n",
    "- [https://github.com/XZhang97666/MultimodalMIMIC](https://github.com/XZhang97666/MultimodalMIMIC)\n",
    "- [https://github.com/YerevaNN/mimic3-benchmarks](https://github.com/YerevaNN/mimic3-benchmarks)\n",
    "- [https://github.com/kaggarwal/ClinicalNotesICU](https://github.com/kaggarwal/ClinicalNotesICU)"
   ]
  },
  {
   "cell_type": "markdown",
   "id": "b51b40d117099b4b",
   "metadata": {
    "collapsed": false
   },
   "source": [
    "# Introduction\n",
    "This paper intends to address the challenges of handling irregularity and the integration of multimodal data for medical prediction tasks.\n",
    "\n",
    "## Background of the problem\n",
    "### What type of problem:\n",
    "The paper focuses on 2 main problems; Mortality Prediction and Phenotype Classification\n",
    "### What is the importance/meaning of solving the problem: \n",
    "ICUs admit patients with life-threatening conditions, Improving the efficacy and efficiency of predictions by accounting for irregular data in EHRs can help the medical providers to make more accurate and quick decisions that could save lives.\n",
    "\n",
    "### What is the difficulty of the problem:\n",
    "The primary difficulty is the handling the irregular sampling of data and the effective integration and modeling of EHR records like numerical time series and textual notes taken in multiple points in time and frequencies.\n",
    "\n",
    "![EHR sample image](.img/sample_ehr.png)\n",
    "\n",
    "### The state of the art methods and effectiveness.\n",
    "For irregular data handling;\n",
    "> [1] Lipton, Z. C., Kale, D., and Wetzel, R. Directly modeling\n",
    "> missing data in sequences with rnns: Improved classification of clinical time series. In Machine learning for\n",
    "> healthcare conference, pp. 253–270. PMLR, 2016.\n",
    "\n",
    "> [2] Shukla, S. N. and Marlin, B. M. Multi-time attention networks for irregularly sampled time series. arXiv preprint\n",
    "> arXiv:2101.10318, 2021.\n",
    "\n",
    "For irregular clinical notes processing;\n",
    "> [3] Golmaei, S. N. and Luo, X. Deepnote-gnn: predicting hospital readmission using clinical notes and patient network.\n",
    "> In Proceedings of the 12th ACM Conference on Bioinformatics, Computational Biology, and Health Informatics,\n",
    "> pp. 1–9, 2021.\n",
    "\n",
    "> [4]Mahbub, M., Srinivasan, S., Danciu, I., Peluso, A., Begoli, E., Tamang, S., and Peterson, G. D. \n",
    "> Unstructured clinical notes within the 24 hours since admission predict short,> mid & long-term mortality in adult icu patients. \n",
    "> Plos one, 17(1):e0262182, 2022.\n",
    "\n",
    "## Paper explanation\n",
    "### What did the paper propose\n",
    "The general problem addressed in this paper is to find a better approach to handling irregular multimodal data obtained on EHRs to better assess real-time predictions in ICUs. \n",
    "\n",
    "### What is the innovations of the method\n",
    "To better approach irregularity and multi-modal data the paper proposes integrating the real-time series and clinical notes while considering their irregularities. This by doing the following:\n",
    "\n",
    "![High level arch](.img/high_arch_w_desc.png)\n",
    "\n",
    "#### Modeling Irregularity in Time Series:\n",
    "1. Temporal Discretization-Based Embeddings (TDE): Utilizes a novel unified\n",
    "approach (UTDE) that combines:\n",
    "    - Imputation: Regularizes time series by filling in missing values based\n",
    "on prior observations or statistical methods.\n",
    "    - Discretized Multi-Time Attention (mTAND): Applies a learned\n",
    "interpolation method using a multi-time attention mechanism to\n",
    "represent the irregular time series data better.\n",
    "2. Unified Approach (UTDE): This approach integrates imputation and mTAND\n",
    "through a gating mechanism to dynamically combine the representation of\n",
    "the time series.\n",
    " \n",
    " ![Detail arch](.img/imputation_plus_mtand.png)\n",
    "\n",
    "#### Processing Irregular Clinical Notes:\n",
    "1. Text Encoding: Uses a pretrained model (TextEncoder) to encode clinical\n",
    "notes into a series of representations.\n",
    "2. Irregularity Modeling: Sorts these representations by time, treats them as\n",
    "Multivariate Irregularly Sampled Time Series (MINSTS), and employs mTAND\n",
    "to generate a set of text interpolation representations to handle irregularities.\n",
    "\n",
    "\n",
    "#### Multimodal Fusion:\n",
    "1. Interleaved Attention Mechanism: Fuses time series and clinical note\n",
    "representations across temporal steps, integrating irregularity into multimodal\n",
    "representations.\n",
    "2. Self and Cross-Attention:\n",
    "    - Multi-Head Self-Attention (MH): Acquires contextual embeddings for\n",
    "each modality by focusing within the same modality across time.\n",
    "    - Multi-Head Cross-Attention (CMH): Each modality learns from the\n",
    "other, integrating information across modalities.\n",
    "3. Feed-Forward and Prediction Layers: A feed-forward sublayer follows the\n",
    "CMH outputs, with layer normalization and residual connections applied. The\n",
    "final step involves passing the integrated representations through fully\n",
    "connected layers to predict the outcome.\n",
    "\n",
    "\n",
    "### How well the proposed method work (in its own metrics)\n",
    " The proposed methods for two medical prediction tasks consistently outperforms state-ofthe-art (SOTA) baselines in each single modality and multimodal fusion scenarios. \n",
    "Observing a relative improvements of 6.5%, 3.6%, and 4.3% in F1 for time series, clinical notes, and multimodal fusion, respectively. \n",
    "\n",
    "### What is the contribution to the reasearch regime (referring the Background above, how important the paper is to the problem).\n",
    "The paper's contribution is important because it provides a new direction for EHR-based predictive models to consider time irregularity that could lead to more accurate and reliable medical predictions, helping patients and healthcare processes."
   ]
  },
  {
   "cell_type": "markdown",
   "id": "f091ff27ef282204",
   "metadata": {
    "collapsed": false
   },
   "source": [
    "# Scope of Reproducibility:\n",
    "\n",
    "For our project we plan to reproduce the experiment with In Hospital Mortality (IHM). And prove the following hypotheses:\n",
    "\n",
    "\n",
    "1. The inclusion of UTDE improves the performance of the model.\n",
    "2. Considering irregularities in clinical note embedding improves the performance of the model.\n",
    "3. The introduction of UTDE and mTAND for processing time series and clinical notes, respectively, plus the integration of Multimodal fusion outperforms F1 score against standard baselines."
   ]
  },
  {
   "cell_type": "markdown",
   "id": "4eaf5f852216c24d",
   "metadata": {
    "collapsed": false
   },
   "source": [
    "# Prerequisites to Reproduce the project\n",
    "- Get access to the MIMIC dataset\n",
    "- Modify the GlobalConfigs.py to use your own project and data paths\n",
    "- Install the required dependencies listed on Requirements.txt, we recommend using Conda with python 3.11\n",
    "- Modify the directory variables on the **Configuring imports and directories** section bellow if needed\n",
    "\n",
    "**Notes:** \n",
    "\n",
    "- We are unable to share the preprocess pkl files due to the [MIMIC DUA](https://physionet.org/content/mimiciii/view-dua/1.4/)\n",
    "- This project has being developed and tested using Linux Mint 21.2, ubuntu variants should work, but you may need to modify it to execute on another OS\n",
    "- More information about our dir structure can be found on our README.md \n",
    "- For this project we've used an NVDIA 4070 GPU with a limited dataset, you may need more resources for your case."
   ]
  },
  {
   "cell_type": "markdown",
   "id": "5f6d958f689e7c76",
   "metadata": {
    "collapsed": false
   },
   "source": [
    "# Methodology\n",
    "\n",
    "The project reproduction consists on the following sections\n",
    "- Data\n",
    "- Models\n",
    "- Training\n",
    "- Evaluation"
   ]
  },
  {
   "cell_type": "markdown",
   "id": "302fccbbee93bdeb",
   "metadata": {
    "collapsed": false
   },
   "source": [
    "# Data\n",
    "\n",
    "This paper uses the MIMICIII dataset as starting point to obtain timeseries information and medical notes. \n"
   ]
  },
  {
   "cell_type": "markdown",
   "id": "18ea0197a327d87e",
   "metadata": {
    "collapsed": false
   },
   "source": [
    " \n",
    "## Getting the data\n",
    " The following code contains some useful code to download and extract the dataset files locally\n",
    " \n",
    "**Note**: To download the mimic dataset is necessary to complete the request for access at [Physionet](https://physionet.org/)\n"
   ]
  },
  {
   "cell_type": "markdown",
   "id": "d55643c225c7bfa5",
   "metadata": {
    "collapsed": false
   },
   "source": [
    "## Config tasks to execute\n",
    "Open and edit GlobalConfigs.py to set up the local path to the project."
   ]
  },
  {
   "cell_type": "code",
   "execution_count": 1,
   "id": "9e41a54007f74873",
   "metadata": {
    "collapsed": false,
    "ExecuteTime": {
     "end_time": "2024-04-14T04:49:43.022053690Z",
     "start_time": "2024-04-14T04:49:42.323564063Z"
    }
   },
   "outputs": [
    {
     "name": "stdout",
     "output_type": "stream",
     "text": [
      "Executing mimic multimodal preprocess\n"
     ]
    }
   ],
   "source": [
    "# Imports and configs\n",
    "import subprocess\n",
    "import pickle\n",
    "import os\n",
    "\n",
    "import MultimodalMIMIC.preprocessing\n",
    "from GlobalConfigs import *\n",
    "\n",
    "DOWNLOAD_DATASET = False\n",
    "EXTRACT_COMPRESSED_CSVS = False\n",
    "PREPROCESS_BENCHMARKS = False\n",
    "PREPROCESS_CLINICAL_NOTES = False\n",
    "PREPROCESS_MULTIMODAL = False"
   ]
  },
  {
   "cell_type": "markdown",
   "id": "7d9b9290b2ec9b76",
   "metadata": {
    "collapsed": false
   },
   "source": [
    "## Download dataset"
   ]
  },
  {
   "cell_type": "code",
   "execution_count": 2,
   "id": "dd912cb01d3abcc0",
   "metadata": {
    "collapsed": false,
    "ExecuteTime": {
     "end_time": "2024-04-14T04:49:43.085861169Z",
     "start_time": "2024-04-14T04:49:43.077017693Z"
    }
   },
   "outputs": [],
   "source": [
    "# change physionet_username to your username\n",
    "if DOWNLOAD_DATASET:\n",
    "\n",
    "    physionet_username = \"your_user_name\"\n",
    "    password = \"your_pass\"\n",
    "    destination_directory = \"data/MIMICIII_Original\"\n",
    "\n",
    "    command = [\n",
    "        \"wget\", \"-r\", \"-N\", \"-c\", \"-np\",\n",
    "        \"--user\", physionet_username,\n",
    "        \"--password\", password,\n",
    "        \"https://physionet.org/files/mimiciii/1.4/\",\n",
    "        \"-P\", destination_directory\n",
    "    ]\n",
    "\n",
    "    process = subprocess.Popen(command, stdout=subprocess.PIPE, stderr=subprocess.STDOUT, text=True)\n",
    "\n",
    "    for line in process.stdout:\n",
    "        print(line, end='')\n",
    "\n",
    "    process.wait()\n",
    "\n",
    "    if process.returncode != 0:\n",
    "        print(f\"Command failed with return code {process.returncode}\")\n"
   ]
  },
  {
   "cell_type": "code",
   "execution_count": 3,
   "id": "7b7101051b10d00a",
   "metadata": {
    "collapsed": false,
    "ExecuteTime": {
     "end_time": "2024-04-14T04:49:43.118581359Z",
     "start_time": "2024-04-14T04:49:43.078666853Z"
    }
   },
   "outputs": [],
   "source": [
    "if EXTRACT_COMPRESSED_CSVS:\n",
    "    command = ['./decompress_mimic.sh', '-d', 'data/MIMICIII_Original/physionet.org/files/mimiciii/1.4/', '-o',\n",
    "               'data/mimic3']\n",
    "\n",
    "    process = subprocess.Popen(command, stdout=subprocess.PIPE, stderr=subprocess.STDOUT, text=True)\n",
    "\n",
    "    for line in process.stdout:\n",
    "        print(line, end='')\n",
    "\n",
    "    process.wait()\n",
    "\n",
    "    if process.returncode != 0:\n",
    "        print(f\"Command failed with return code {process.returncode}\")\n"
   ]
  },
  {
   "cell_type": "markdown",
   "id": "13ee902ed9e8ef43",
   "metadata": {
    "collapsed": false
   },
   "source": [
    "# Preparing the data\n",
    "The original paper leverages the following projects to help on the data preparation and extraction from the original MIMIC CSVs\n",
    "\n",
    "It leverages the **mimic3-benchmarks** and the **ClinicalNotesICU** for the following:\n",
    "\n",
    "- Cleanup invalid data\n",
    "- Map the events, diagnoses, and stays for each patient.\n",
    "- Extract timeseries for in-hospital-mortality \n",
    "- Split timeseries data into train and test sets\n",
    "- Extract Medical notes for patients\n",
    "- Split Medical notes for train and test sets"
   ]
  },
  {
   "cell_type": "markdown",
   "id": "6c63cceb7ae9be99",
   "metadata": {
    "collapsed": false
   },
   "source": [
    "### MIMIC benchmarks\n",
    "Helps to process timeseries data and divide train and test sets\n",
    "[mimic3-benchmarks](https://github.com/YerevaNN/mimic3-benchmarks.git)\n",
    "\n",
    "This repo contains a set of scripts that take the RAW mimic CSVs and prepare the irregular data:\n",
    "- extract_subjects.py:\n",
    "Generates one directory per SUBJECT_ID and writes ICU stay information to data/{SUBJECT_ID}/stays.csv, diagnoses to data/{SUBJECT_ID}/diagnoses.csv, and events to data/{SUBJECT_ID}/events.csv\n",
    "\n",
    "\n",
    "- validate_events.py\n",
    "Attempts to fix some issues (ICU stay ID is missing) and removes the events that have missing information. About 80% of events remain after removing all suspicious rows\n",
    "\n",
    "\n",
    "- extract_episodes_from_subjects.py\n",
    "Breaks up per-subject data into separate episodes (pertaining to ICU stays). Time series of events are stored in {SUBJECT_ID}/episode{#}_timeseries.csv (where # counts distinct episodes) while episode-level information (patient age, gender, ethnicity, height, weight) and outcomes (mortality, length of stay, diagnoses) are stores in {SUBJECT_ID}/episode{#}.csv. This script requires two files, one that maps event ITEMIDs to clinical variables and another that defines valid ranges for clinical variables\n",
    "\n",
    "\n",
    "- split_train_and_test.py\n",
    "Splits the whole dataset into training and testing sets.\n",
    "\n",
    "\n",
    "- create_in_hospital_mortality.py\n",
    "Generate task-specific datasets for in-hospital-mortality prediction\n",
    "\n",
    "After running the preparation scripts we end up with a directory data/in-hospital-mortality we have two subdirectories: train and test. Each of them contains a bunch of ICU stays and one file with name listfile.csv, which lists all samples in that particular set. Each row of listfile.csv has the following form: icu_stay, period_length, label(s). A row specifies a sample for which the input is the collection of ICU event of icu_stay that occurred in the first period_length hours of the stay and the target are label(s). In in-hospital mortality prediction task period_length is always 48 hours.\n",
    "\n",
    "\n",
    "The project does not work out of the box, so we downloaded the sourcecode and modify it inside this repo under the [mimic3-benchmarks](./mimic3-benchmarks) folder\n",
    "To simplify the process we have created the following script `./build_benchmark_data.sh` to run all timeseries required tasks.\n",
    "\n"
   ]
  },
  {
   "cell_type": "code",
   "execution_count": 4,
   "id": "572e454792dbbde4",
   "metadata": {
    "collapsed": false,
    "ExecuteTime": {
     "end_time": "2024-04-14T04:49:43.159191005Z",
     "start_time": "2024-04-14T04:49:43.105679189Z"
    }
   },
   "outputs": [],
   "source": [
    "if PREPROCESS_BENCHMARKS:\n",
    "    command = [\"./build_benchmark_data.sh\"]\n",
    "\n",
    "    process = subprocess.Popen(command, stdout=subprocess.PIPE, stderr=subprocess.STDOUT, text=True, shell=True)\n",
    "\n",
    "    for line in process.stdout:\n",
    "        print(line, end='')\n",
    "    process.wait()\n",
    "\n",
    "    if process.returncode != 0:\n",
    "        print(f\"Command failed with return code {process.returncode}\")\n"
   ]
  },
  {
   "cell_type": "markdown",
   "id": "44f45bd0bc84d872",
   "metadata": {
    "collapsed": false
   },
   "source": [
    "### ClinicalNotesICU\n",
    "Helps to process medical notes and divide in train and test\n",
    " [ClinicalNotesICU](https://github.com/kaggarwal/ClinicalNotesICU.git)\n",
    "\n",
    "Similar to the mimic3-benchmarks, this repo contains a set of scripts that take the RAW mimic CSVs and process the clinical notes for the previously generated train and test datasets.\n",
    "\n",
    "- extract_notes.py\n",
    "Uses the NOTEEVENTS.csv and the previously generated train and test sets to extract the notes within the first 48 hours of the event and saves them on its own train a test data directories \n",
    "\n",
    "- extract_T0.py\n",
    "Uses the stays.csv and events.csv to extract the episodes start time and save them into a binary pkl file.\n",
    "\n",
    "The project does not work out of the box, so we downloaded the sourcecode and modify it inside this repo under the [ClinicalNotesICU](./ClinicalNotesICU) folder\n",
    "\n",
    "To simplify the process we have created the following script `./extract_med_notes.sh` tu run all the required tasks for clinical notes.\n"
   ]
  },
  {
   "cell_type": "code",
   "execution_count": 5,
   "id": "d23722350fecd73f",
   "metadata": {
    "collapsed": false,
    "ExecuteTime": {
     "end_time": "2024-04-14T04:49:43.177509287Z",
     "start_time": "2024-04-14T04:49:43.136539521Z"
    }
   },
   "outputs": [],
   "source": [
    "if PREPROCESS_CLINICAL_NOTES:\n",
    "    command = [\"./extract_med_notes.sh\"]\n",
    "\n",
    "    process = subprocess.Popen(command, stdout=subprocess.PIPE, stderr=subprocess.STDOUT, text=True, shell=True)\n",
    "\n",
    "    for line in process.stdout:\n",
    "        print(line, end='')\n",
    "    process.wait()\n",
    "\n",
    "    if process.returncode != 0:\n",
    "        print(f\"Command failed with return code {process.returncode}\")"
   ]
  },
  {
   "cell_type": "markdown",
   "id": "839edc8722b2b0e5",
   "metadata": {
    "collapsed": false
   },
   "source": [
    "# Preprocess time series For Mimic Multimodal \n",
    "The next step is to discretize and normalize the timeseries data, as well as link the clinical notes with their corresponding timestamps.\n",
    "\n",
    "The [paper's repo](https://github.com/XZhang97666/MultimodalMIMIC.git) provides a preprocessing script to work on this task.\n",
    "\n",
    "After running the preprocessing steps we save the following PKLs to be used by the model: \n",
    "```\n",
    "mean_std.pkl \n",
    "norm_ts_test.pkl\n",
    "norm_ts_train.pkl\n",
    "norm_ts_val.pkl\n",
    "testp2x_data.pkl\n",
    "trainp2x_data.pkl\n",
    "ts_test.pkl\n",
    "ts_train.pkl\n",
    "ts_val.pkl\n",
    "valp2x_data.pkl\n",
    "```\n",
    "The project does not work out of the box, so we used it partially to call some of the functions from this notebook; the downloaded sourcecode and modifications are inside this repo under the [MultimodalMIMIC](./MultimodalMIMIC) folder"
   ]
  },
  {
   "cell_type": "markdown",
   "id": "b9d88a4406872a51",
   "metadata": {
    "collapsed": false
   },
   "source": [
    "# Configuring imports and directories"
   ]
  },
  {
   "cell_type": "code",
   "execution_count": 6,
   "id": "1ed034beed47eeaf",
   "metadata": {
    "collapsed": false,
    "ExecuteTime": {
     "end_time": "2024-04-14T04:49:43.212936511Z",
     "start_time": "2024-04-14T04:49:43.164363258Z"
    }
   },
   "outputs": [],
   "source": [
    "from mimic3benchmark.readers import InHospitalMortalityReader\n",
    "from MultimodalMIMIC.preprocessing import Discretizer_multi\n",
    "from tqdm import tqdm\n",
    "from typing import Optional, Any\n",
    "from readers import Reader\n",
    "import gzip\n",
    "from mimic3models.preprocessing import Normalizer\n",
    "from MultimodalMIMIC.preprocessing import extract_irregular\n",
    "from MultimodalMIMIC.preprocessing import mean_std\n",
    "from MultimodalMIMIC.preprocessing import normalize\n",
    "from MultimodalMIMIC.text_utils import TextReader\n",
    "from MultimodalMIMIC.preprocessing import merge_text_ts\n",
    "\n",
    "\n",
    "GENERATE_PREPROCESSED_PKL = True\n",
    "\n",
    "# Paths for data\n",
    "ihm_data_path = f\"{BENCHMARKS_ROOT_PATH}/data/in-hospital-mortality\"\n",
    "ihm_train_data_path = f\"{ihm_data_path}/train\"\n",
    "ihm_test_data_path = f\"{ihm_data_path}/test\"\n",
    "discretizer_config_path = f\"{MULTI_MODAL_MIMIC_PATH}/Data/irregular/discretizer_config.json\"\n",
    "channel_info_path = f\"{MULTI_MODAL_MIMIC_PATH}/Data/irregular/channel_info.json\"\n",
    "textdata_fixed = f\"{BENCHMARKS_ROOT_PATH}/data/root/text_fixed/train/\"\n",
    "text_start_time_path = f\"{BENCHMARKS_ROOT_PATH}/data/root/text_fixed/starttime.pkl\"\n",
    "test_textdata_fixed = f\"{BENCHMARKS_ROOT_PATH}/data/root/text_fixed/test/\"\n",
    "test_text_start_time_path = f\"{BENCHMARKS_ROOT_PATH}/data/root/text_fixed/test_starttime.pkl\"\n",
    "ihm_discrete_save_path = f\"{MULTI_MODAL_MIMIC_PATH}/Data/ihm/\"\n",
    "\n",
    "# Modify this to take only a subset of the full data; None takes the full data\n",
    "n_samples_elements = 1000\n",
    "\n",
    "mortality_period = 48\n",
    "timestep = 1.0\n",
    "imputation = \"previous\"\n",
    "dataset_types = [\"train\", \"val\", \"test\"]\n",
    "\n",
    "normalizer_state_file_path = f'{BENCHMARKS_ROOT_PATH}/mimic3models/in_hospital_mortality/ihm_ts{timestep}.input_str-{imputation}.start_time-zero.normalizer'\n"
   ]
  },
  {
   "cell_type": "markdown",
   "id": "c972d061613ed073",
   "metadata": {
    "collapsed": false
   },
   "source": [
    "### Reading the data\n",
    "First define the InHospitalMortalityReader to help us easily access the split datasets generated by mimic3-benchmarks. It provides helper functions to read multiple data series samples and labels by patient and map to a dictionary."
   ]
  },
  {
   "cell_type": "code",
   "execution_count": 7,
   "id": "2f0db8b42d1f1ab5",
   "metadata": {
    "collapsed": false,
    "ExecuteTime": {
     "end_time": "2024-04-14T04:49:43.253347953Z",
     "start_time": "2024-04-14T04:49:43.208162408Z"
    }
   },
   "outputs": [
    {
     "name": "stdout",
     "output_type": "stream",
     "text": [
      "/media/ftrujillo/FRD/Projects/UIUC/DLH/CS598_Final/mimic3-benchmarks/data/in-hospital-mortality/train\n"
     ]
    }
   ],
   "source": [
    "if GENERATE_PREPROCESSED_PKL:\n",
    "    print(ihm_train_data_path)\n",
    "    train_reader = InHospitalMortalityReader(dataset_dir=ihm_train_data_path,\n",
    "                                             listfile=os.path.join(ihm_train_data_path, 'listfile.csv'),\n",
    "                                             period_length=mortality_period)\n",
    "    val_reader = InHospitalMortalityReader(dataset_dir=ihm_train_data_path,\n",
    "                                           listfile=os.path.join(ihm_train_data_path, 'listfile.csv'),\n",
    "                                           period_length=mortality_period)\n",
    "    \n",
    "    test_reader = InHospitalMortalityReader(dataset_dir=ihm_test_data_path,\n",
    "                                            listfile=os.path.join(ihm_test_data_path, 'listfile.csv'),\n",
    "                                            period_length=mortality_period)"
   ]
  },
  {
   "cell_type": "code",
   "execution_count": 8,
   "id": "e05696cbeab2d89a",
   "metadata": {
    "collapsed": false,
    "ExecuteTime": {
     "end_time": "2024-04-14T04:49:43.294121959Z",
     "start_time": "2024-04-14T04:49:43.248086672Z"
    }
   },
   "outputs": [],
   "source": [
    "\n",
    "def save_compressed_pkl_gz(data_to_dump: Any, save_name: str):\n",
    "    print(\"saving and compressing:\", save_name)\n",
    "    with gzip.open(f'{save_name}.pkl.gz', 'wb') as file:\n",
    "        pickle.dump(data_to_dump, file)\n",
    "\n",
    "\n",
    "def load_compressed_pkl(full_file_name: str) -> Any:\n",
    "    with gzip.open(full_file_name, 'rb') as file:\n",
    "        data_loaded = pickle.load(file)\n",
    "    return data_loaded\n",
    "\n",
    "\n",
    "def read_chunk(reader, chunk_size):\n",
    "    chunk_data = {}\n",
    "    for _ in tqdm(range(chunk_size), desc=\"reading data\"):\n",
    "        ret = reader.read_next()\n",
    "        for k, v in ret.items():\n",
    "            if k not in chunk_data:\n",
    "                chunk_data[k] = []\n",
    "            chunk_data[k].append(v)\n",
    "    chunk_data[\"header\"] = chunk_data[\"header\"][0]\n",
    "    return chunk_data\n",
    "\n",
    "\n",
    "def discretize_and_save_data(reader: Reader, discretizer: Discretizer_multi, save_path: str,\n",
    "                             partial_n_samples: Optional[int] = None, save_name=str, compress_pkl: bool = False):\n",
    "    n_samples = reader.get_number_of_examples()\n",
    "    if partial_n_samples:\n",
    "        n_samples = partial_n_samples\n",
    "    ret = read_chunk(reader, n_samples)\n",
    "    irg_data = ret[\"X\"]\n",
    "    ts = ret[\"t\"]\n",
    "    labels = ret[\"y\"]\n",
    "    discrete_names = ret[\"name\"]\n",
    "\n",
    "    reg_data = []\n",
    "    for X, t in tqdm(zip(irg_data, ts), total=len(irg_data), desc=f\"discretizing data \"):\n",
    "        transformed_data = discretizer.transform(X, end=t)[0]\n",
    "        reg_data.append(transformed_data)\n",
    "\n",
    "    os.makedirs(save_path, exist_ok=True)\n",
    "    save_full_path = save_path + save_name\n",
    "    if compress_pkl:\n",
    "        save_compressed_pkl_gz((irg_data, reg_data, labels, discrete_names), save_full_path)\n",
    "    else:\n",
    "        print(\"Saving\", f\"{save_full_path}.pkl\")\n",
    "        with open(f\"{save_full_path}.pkl\", 'wb') as file:\n",
    "            pickle.dump((irg_data, reg_data, labels, discrete_names), file)\n"
   ]
  },
  {
   "cell_type": "markdown",
   "id": "1ba45dd4edd24c95",
   "metadata": {
    "collapsed": false
   },
   "source": [
    "### Discretize temporal data and add imputation\n",
    "\n",
    "In order to create the embeddings for the proposed model first we need to discretize and add the imputation to the missing values. In our case we will use imputation using the previous value of the series.\n",
    "\n",
    "The Discretizer_multi takes care of transforming the irregular data into samples at each timestep while filling the missing data with the desired imputation strategy considering all time based features.\n",
    "\n",
    "![Discretizer image](.img/only_discretize.png)\n"
   ]
  },
  {
   "cell_type": "code",
   "execution_count": 9,
   "id": "e5be5a812eb8f9ec",
   "metadata": {
    "collapsed": false,
    "ExecuteTime": {
     "end_time": "2024-04-14T04:49:53.806727087Z",
     "start_time": "2024-04-14T04:49:43.291839495Z"
    }
   },
   "outputs": [
    {
     "name": "stdout",
     "output_type": "stream",
     "text": [
      "discretize and save train\n"
     ]
    },
    {
     "name": "stderr",
     "output_type": "stream",
     "text": [
      "reading data: 100%|██████████| 1000/1000 [00:01<00:00, 970.31it/s]\n",
      "discretizing data : 100%|██████████| 1000/1000 [00:02<00:00, 383.42it/s]\n"
     ]
    },
    {
     "name": "stdout",
     "output_type": "stream",
     "text": [
      "Saving /media/ftrujillo/FRD/Projects/UIUC/DLH/CS598_Final/MultimodalMIMIC/Data/ihm/ts_train.pkl\n",
      "discretize and save val\n"
     ]
    },
    {
     "name": "stderr",
     "output_type": "stream",
     "text": [
      "reading data: 100%|██████████| 1000/1000 [00:00<00:00, 1976.68it/s]\n",
      "discretizing data : 100%|██████████| 1000/1000 [00:01<00:00, 539.29it/s]\n"
     ]
    },
    {
     "name": "stdout",
     "output_type": "stream",
     "text": [
      "Saving /media/ftrujillo/FRD/Projects/UIUC/DLH/CS598_Final/MultimodalMIMIC/Data/ihm/ts_val.pkl\n",
      "discretize and save test\n"
     ]
    },
    {
     "name": "stderr",
     "output_type": "stream",
     "text": [
      "reading data: 100%|██████████| 1000/1000 [00:00<00:00, 1850.38it/s]\n",
      "discretizing data : 100%|██████████| 1000/1000 [00:01<00:00, 571.93it/s]\n"
     ]
    },
    {
     "name": "stdout",
     "output_type": "stream",
     "text": [
      "Saving /media/ftrujillo/FRD/Projects/UIUC/DLH/CS598_Final/MultimodalMIMIC/Data/ihm/ts_test.pkl\n"
     ]
    }
   ],
   "source": [
    "if GENERATE_PREPROCESSED_PKL:\n",
    "    discretizer_multi = Discretizer_multi(\n",
    "        impute_strategy='previous',\n",
    "        store_masks=True,\n",
    "        start_time='zero',\n",
    "        config_path=discretizer_config_path,\n",
    "        channel_path=channel_info_path\n",
    "    )\n",
    "    discretizer_header = discretizer_multi.transform(train_reader.read_example(0)[\"X\"])[1].split(',')\n",
    "    cont_channels = [i for (i, x) in enumerate(discretizer_header) if x.find(\"->\") == -1]\n",
    "\n",
    "    \n",
    "    print(\"discretize and save train\")\n",
    "    discretize_and_save_data(train_reader, discretizer_multi, ihm_discrete_save_path, n_samples_elements, \"ts_train\")\n",
    "    print(\"discretize and save val\")\n",
    "    discretize_and_save_data(val_reader, discretizer_multi, ihm_discrete_save_path, n_samples_elements, \"ts_val\")\n",
    "    print(\"discretize and save test\")\n",
    "    discretize_and_save_data(test_reader, discretizer_multi, ihm_discrete_save_path, n_samples_elements, \"ts_test\")"
   ]
  },
  {
   "cell_type": "markdown",
   "id": "c3f129af1f21d395",
   "metadata": {
    "collapsed": false
   },
   "source": [
    "### Paddings and masks\n",
    "After discretize we need to apply paddings and create masks for all features. For this we can use the function extract_irregular from MultimodalMimic. It creates the padded irregular and mask arrays and save them for later use. "
   ]
  },
  {
   "cell_type": "code",
   "execution_count": 10,
   "id": "72092e5bc118117e",
   "metadata": {
    "collapsed": false,
    "ExecuteTime": {
     "end_time": "2024-04-14T04:49:57.664075905Z",
     "start_time": "2024-04-14T04:49:53.809324305Z"
    }
   },
   "outputs": [
    {
     "name": "stdout",
     "output_type": "stream",
     "text": [
      "Extracting train irregular data\n",
      "Saving: /media/ftrujillo/FRD/Projects/UIUC/DLH/CS598_Final/MultimodalMIMIC/Data/ihm/ts_train.pkl\n",
      "Extracting val irregular data\n",
      "Saving: /media/ftrujillo/FRD/Projects/UIUC/DLH/CS598_Final/MultimodalMIMIC/Data/ihm/ts_val.pkl\n",
      "Extracting test irregular data\n",
      "Saving: /media/ftrujillo/FRD/Projects/UIUC/DLH/CS598_Final/MultimodalMIMIC/Data/ihm/ts_test.pkl\n"
     ]
    }
   ],
   "source": [
    "if GENERATE_PREPROCESSED_PKL:\n",
    "    for dataset_type in dataset_types:\n",
    "        print(f\"Extracting {dataset_type} irregular data\", flush=True)\n",
    "        in_extract_data_path = ihm_discrete_save_path + 'ts_' + dataset_type + '.pkl'\n",
    "        out_extract_data_path = ihm_discrete_save_path + 'ts_' + dataset_type + '.pkl'\n",
    "        extract_irregular(in_extract_data_path, out_extract_data_path, channel_info_path, discretizer_config_path)\n"
   ]
  },
  {
   "cell_type": "code",
   "execution_count": 11,
   "id": "acce6019f9e94910",
   "metadata": {
    "collapsed": false,
    "ExecuteTime": {
     "end_time": "2024-04-14T04:49:59.006972032Z",
     "start_time": "2024-04-14T04:49:57.666781367Z"
    }
   },
   "outputs": [
    {
     "name": "stdout",
     "output_type": "stream",
     "text": [
      "Saving: /media/ftrujillo/FRD/Projects/UIUC/DLH/CS598_Final/MultimodalMIMIC/Data/ihm/mean_std.pkl\n"
     ]
    }
   ],
   "source": [
    "if GENERATE_PREPROCESSED_PKL:\n",
    "    mean_std(ihm_discrete_save_path + 'ts_train.pkl', ihm_discrete_save_path + 'mean_std.pkl')\n"
   ]
  },
  {
   "cell_type": "markdown",
   "id": "407668b846604ce6",
   "metadata": {
    "collapsed": false
   },
   "source": [
    "### Normalizing timeseries data\n",
    "Now we apply normalization to our data by x = (x - means[f_idx]) / stds[f_idx], For this, we leverage the Normalizer provided by the mimic3-benchmarks repo\n"
   ]
  },
  {
   "cell_type": "code",
   "execution_count": 12,
   "id": "3b6d118f0c2f7865",
   "metadata": {
    "collapsed": false,
    "ExecuteTime": {
     "end_time": "2024-04-14T04:50:02.070419600Z",
     "start_time": "2024-04-14T04:49:59.007478046Z"
    }
   },
   "outputs": [
    {
     "name": "stdout",
     "output_type": "stream",
     "text": [
      "Normalizing train times data\n",
      "Saving: /media/ftrujillo/FRD/Projects/UIUC/DLH/CS598_Final/MultimodalMIMIC/Data/ihm/norm_ts_train.pkl\n",
      "Normalizing val times data\n",
      "Saving: /media/ftrujillo/FRD/Projects/UIUC/DLH/CS598_Final/MultimodalMIMIC/Data/ihm/norm_ts_val.pkl\n",
      "Normalizing test times data\n",
      "Saving: /media/ftrujillo/FRD/Projects/UIUC/DLH/CS598_Final/MultimodalMIMIC/Data/ihm/norm_ts_test.pkl\n"
     ]
    }
   ],
   "source": [
    "if GENERATE_PREPROCESSED_PKL:\n",
    "    normalizer = Normalizer(fields=cont_channels)\n",
    "    normalizer.load_params(normalizer_state_file_path)\n",
    "    \n",
    "    for dataset_type in dataset_types:\n",
    "        print(f\"Normalizing {dataset_type} times data\", flush=True)\n",
    "        normalize(ihm_discrete_save_path + 'ts_' + dataset_type + '.pkl',\n",
    "                  ihm_discrete_save_path + 'norm_ts_' + dataset_type + '.pkl',\n",
    "              ihm_discrete_save_path + 'mean_std.pkl')"
   ]
  },
  {
   "cell_type": "markdown",
   "id": "ef855063840a6659",
   "metadata": {
    "collapsed": false
   },
   "source": [
    "### Preparing the Text data\n",
    "We finally prepare the text data within a period (48 in our case) and generate a json containing the note as well as the time until the end of the period. For this we use the TextReader helper from the MultimodalMIMIC module."
   ]
  },
  {
   "cell_type": "code",
   "execution_count": 13,
   "id": "ae28b8cd4f293522",
   "metadata": {
    "collapsed": false,
    "ExecuteTime": {
     "end_time": "2024-04-14T04:50:04.223487935Z",
     "start_time": "2024-04-14T04:50:02.071693111Z"
    }
   },
   "outputs": [
    {
     "name": "stdout",
     "output_type": "stream",
     "text": [
      "Preparing  train text data\n",
      "Suceed Merging:  750\n",
      "Missing Merging:  250\n",
      "File dumped at: /media/ftrujillo/FRD/Projects/UIUC/DLH/CS598_Final/MultimodalMIMIC/Data/ihm/trainp2x_data.pkl\n",
      "Preparing  val text data\n",
      "Suceed Merging:  750\n",
      "Missing Merging:  250\n",
      "File dumped at: /media/ftrujillo/FRD/Projects/UIUC/DLH/CS598_Final/MultimodalMIMIC/Data/ihm/valp2x_data.pkl\n",
      "Preparing  test text data\n",
      "Suceed Merging:  762\n",
      "Missing Merging:  238\n",
      "File dumped at: /media/ftrujillo/FRD/Projects/UIUC/DLH/CS598_Final/MultimodalMIMIC/Data/ihm/testp2x_data.pkl\n"
     ]
    }
   ],
   "source": [
    "\n",
    "if GENERATE_PREPROCESSED_PKL:\n",
    "    for dataset_type in dataset_types:\n",
    "        print(f\"Preparing  {dataset_type} text data\", flush=True)\n",
    "    \n",
    "        with open(ihm_discrete_save_path + 'norm_ts_' + dataset_type + '.pkl', 'rb') as f:\n",
    "            tsdata = pickle.load(f)\n",
    "    \n",
    "        names = [data['name'] for data in tsdata]\n",
    "    \n",
    "        if (dataset_type == 'train') or (dataset_type == 'val'):\n",
    "            text_reader = TextReader(textdata_fixed, text_start_time_path)\n",
    "        else:\n",
    "            text_reader = TextReader(test_textdata_fixed, test_text_start_time_path)\n",
    "    \n",
    "        data_text, data_times, data_time = text_reader.read_all_text_append_json(names, mortality_period)\n",
    "        merge_text_ts(data_text, data_times, data_time, tsdata, mortality_period,\n",
    "                      ihm_discrete_save_path + dataset_type + 'p2x_data.pkl')"
   ]
  },
  {
   "cell_type": "markdown",
   "id": "ea129f0ca6817b1b",
   "metadata": {
    "collapsed": false
   },
   "source": [
    "# Train Model"
   ]
  },
  {
   "cell_type": "markdown",
   "id": "d742c8dbf677eb5a",
   "metadata": {
    "collapsed": false
   },
   "source": [
    "## import required module"
   ]
  },
  {
   "cell_type": "code",
   "execution_count": 14,
   "id": "d5c0d798e3e52fc7",
   "metadata": {
    "collapsed": false,
    "ExecuteTime": {
     "end_time": "2024-04-14T04:50:06.562045784Z",
     "start_time": "2024-04-14T04:50:04.225499238Z"
    }
   },
   "outputs": [],
   "source": [
    "import pandas as pd\n",
    "import os\n",
    "import torch\n",
    "import torch.nn as nn\n",
    "import torch.nn.functional as F\n",
    "import sys\n",
    "\n",
    "from tensorboardX import SummaryWriter\n",
    "\n",
    "import warnings\n",
    "import time\n",
    "import logging\n",
    "\n",
    "logger = logging.getLogger(__name__)\n",
    "sys.path.insert(0, 'MultimodalMIMIC')\n",
    "from GlobalConfigs import *\n",
    "from model import *\n",
    "from train import *\n",
    "from checkpoint import *\n",
    "from util import *\n",
    "from accelerate import Accelerator\n",
    "from interp import *\n",
    "import argparse"
   ]
  },
  {
   "cell_type": "markdown",
   "id": "edf6062fd6a39c7d",
   "metadata": {
    "collapsed": false
   },
   "source": [
    "## set arguments\n",
    "\n",
    "this step is to set up parameter to set up how to train and evaluatate the model.\n",
    "\n",
    "here we only train the model for 1 epoch for demonstration."
   ]
  },
  {
   "cell_type": "code",
   "execution_count": 15,
   "id": "3ebe52b12edd5709",
   "metadata": {
    "collapsed": false,
    "ExecuteTime": {
     "end_time": "2024-04-14T04:50:06.572208668Z",
     "start_time": "2024-04-14T04:50:06.564865471Z"
    }
   },
   "outputs": [
    {
     "name": "stdout",
     "output_type": "stream",
     "text": [
      "{'task': 'ihm', 'file_path': '/media/ftrujillo/FRD/Projects/UIUC/DLH/CS598_Final/MultimodalMIMIC/Data/ihm/', 'output_dir': 'run/TS_Text', 'tensorboard_dir': None, 'seed': 42, 'mode': 'train', 'modeltype': 'TS_Text', 'eval_score': ['auc', 'auprc', 'f1'], 'num_labels': 2, 'max_length': 1024, 'pad_to_max_length': False, 'model_path': None, 'train_batch_size': 2, 'eval_batch_size': 8, 'num_update_bert_epochs': 2, 'num_train_epochs': 1, 'txt_learning_rate': 5e-05, 'ts_learning_rate': 0.0004, 'gradient_accumulation_steps': 16, 'weight_decay': 0.01, 'lr_scheduler_type': 'linear', 'pt_mask_ratio': 0.15, 'mean_mask_length': 3, 'chunk': False, 'chunk_type': 'sent_doc_pos', 'warmup_proportion': 0.1, 'kernel_size': 1, 'num_heads': 8, 'layers': 3, 'cross_layers': 3, 'embed_dim': 128, 'irregular_learn_emb_ts': True, 'irregular_learn_emb_text': True, 'reg_ts': True, 'tt_max': 48, 'embed_time': 64, 'ts_to_txt': False, 'txt_to_ts': False, 'dropout': 0.1, 'model_name': 'bioLongformer', 'num_of_notes': 5, 'notes_order': 'Last', 'ratio_notes_order': None, 'bertcount': 3, 'first_n_item': 3, 'fine_tune': False, 'self_cross': False, 'TS_mixup': False, 'mixup_level': 'batch', 'fp16': True, 'debug': False, 'generate_data': False, 'FTLSTM': False, 'Interp': False, 'cpu': False, 'datagereate_seed': 42, 'TS_model': 'Atten', 'cross_method': 'self_cross'}\n"
     ]
    }
   ],
   "source": [
    "ihm_discrete_save_path = f'{MULTI_MODAL_MIMIC_PATH}/Data/ihm' if ihm_discrete_save_path is None else ihm_discrete_save_path\n",
    "\n",
    "parser = parse_args()\n",
    "args = parser.parse_args(['--num_train_epochs','1',\n",
    "                         '--train_batch_size','2',\n",
    "                         '--eval_batch_size','8',\n",
    "                         '--gradient_accumulation_steps','16',\n",
    "                         '--num_update_bert_epochs','2',\n",
    "                         '--notes_order','Last',\n",
    "                         '--max_length','1024',\n",
    "                         '--output_dir','run/TS_Text',\n",
    "                         '--embed_dim','128',\n",
    "                         '--model_name','bioLongformer',\n",
    "                         '--file_path',f'{ihm_discrete_save_path}',\n",
    "                         '--mixup_level','batch',\n",
    "                         '--fp16',\n",
    "                         '--irregular_learn_emb_text',\n",
    "                         '--irregular_learn_emb_ts',\n",
    "                         '--reg_ts'])\n",
    "\n",
    "\n",
    "print(vars(args))"
   ]
  },
  {
   "cell_type": "markdown",
   "id": "ba5545519ecc6bcd",
   "metadata": {
    "collapsed": false
   },
   "source": [
    "## Set up training environment\n",
    "\n",
    "based on given argument above, set up the training environment"
   ]
  },
  {
   "cell_type": "code",
   "execution_count": 16,
   "id": "8001c7cfaa4a4ac9",
   "metadata": {
    "collapsed": false,
    "ExecuteTime": {
     "end_time": "2024-04-14T04:50:06.644105502Z",
     "start_time": "2024-04-14T04:50:06.573657510Z"
    }
   },
   "outputs": [
    {
     "name": "stdout",
     "output_type": "stream",
     "text": [
      "device: cuda\n",
      "run/TS_Text/ihm/TS_Text/TS_48/Atten/Text_48/bioLongformer/1024/cross_attn3/irregular_TS_64/irregular_Text_64/5e-05_2_3_0.0004_1_8_128_1_2/\n"
     ]
    }
   ],
   "source": [
    "if args.fp16:\n",
    "        args.mixed_precision = \"fp16\"\n",
    "else:\n",
    "    args.mixed_precision = \"no\"\n",
    "accelerator = Accelerator(mixed_precision=args.mixed_precision, cpu=args.cpu)\n",
    "\n",
    "device = accelerator.device\n",
    "print(f'device: {device}')\n",
    "os.makedirs(args.output_dir, exist_ok=True)\n",
    "if args.tensorboard_dir != None:\n",
    "    writer = SummaryWriter(args.tensorboard_dir)\n",
    "else:\n",
    "    writer = None\n",
    "\n",
    "warnings.filterwarnings('ignore')\n",
    "logging.basicConfig(\n",
    "    format=\"%(asctime)s - %(levelname)s - %(name)s - %(message)s\",\n",
    "    datefmt=\"%m/%d/%Y %H:%M:%S\",\n",
    "    level=logging.INFO,\n",
    ")\n",
    "\n",
    "if args.seed is not None:\n",
    "    set_seed(args.seed)\n",
    "\n",
    "output_path = make_save_dir(args)\n",
    "\n",
    "if args.seed == 0:\n",
    "    copy_file(args.ck_file_path + 'model/', src=os.getcwd())"
   ]
  },
  {
   "cell_type": "markdown",
   "id": "7d0fe1b9546a9eac",
   "metadata": {
    "collapsed": false
   },
   "source": [
    "## Load data\n",
    "\n",
    "Load training, validation and test dataset."
   ]
  },
  {
   "cell_type": "code",
   "execution_count": 17,
   "id": "1abb566257e28182",
   "metadata": {
    "collapsed": false,
    "ExecuteTime": {
     "end_time": "2024-04-14T04:50:07.702612758Z",
     "start_time": "2024-04-14T04:50:06.649045066Z"
    }
   },
   "outputs": [
    {
     "name": "stderr",
     "output_type": "stream",
     "text": [
      "Some weights of LongformerModel were not initialized from the model checkpoint at yikuan8/Clinical-Longformer and are newly initialized: ['longformer.pooler.dense.bias', 'longformer.pooler.dense.weight']\n",
      "You should probably TRAIN this model on a down-stream task to be able to use it for predictions and inference.\n"
     ]
    },
    {
     "name": "stdout",
     "output_type": "stream",
     "text": [
      "Franco Trying to load: /media/ftrujillo/FRD/Projects/UIUC/DLH/CS598_Final/MultimodalMIMIC/Data/ihm/trainp2x_data.pkl\n",
      "Using /media/ftrujillo/FRD/Projects/UIUC/DLH/CS598_Final/MultimodalMIMIC/Data/ihm/trainp2x_data.pkl\n",
      "Franco Trying to load: /media/ftrujillo/FRD/Projects/UIUC/DLH/CS598_Final/MultimodalMIMIC/Data/ihm/valp2x_data.pkl\n",
      "Using /media/ftrujillo/FRD/Projects/UIUC/DLH/CS598_Final/MultimodalMIMIC/Data/ihm/valp2x_data.pkl\n",
      "Franco Trying to load: /media/ftrujillo/FRD/Projects/UIUC/DLH/CS598_Final/MultimodalMIMIC/Data/ihm/testp2x_data.pkl\n",
      "Using /media/ftrujillo/FRD/Projects/UIUC/DLH/CS598_Final/MultimodalMIMIC/Data/ihm/testp2x_data.pkl\n"
     ]
    }
   ],
   "source": [
    "if args.mode == 'train':\n",
    "        if 'Text' in args.modeltype:\n",
    "            BioBert, BioBertConfig, tokenizer = loadBert(args, device)\n",
    "        else:\n",
    "            BioBert, tokenizer = None, None\n",
    "        train_dataset, train_sampler, train_dataloader = data_perpare(args, 'train', tokenizer)\n",
    "        val_dataset, val_sampler, val_dataloader = data_perpare(args, 'val', tokenizer)\n",
    "        _, _, test_data_loader = data_perpare(args, 'test', tokenizer)"
   ]
  },
  {
   "cell_type": "markdown",
   "id": "36408e5fb15eac2f",
   "metadata": {
    "collapsed": false
   },
   "source": [
    "## Load model\n",
    "\n",
    "load model from model python.\n",
    "for full model implementation, check github.\n",
    "\n",
    "based on given argument model type, the below code will load one of two models.\n",
    "\n",
    "- MULTCrossModel:\n",
    "  - This is a multi-modal cross model. It combines both text and time series data. Depending on the configuration, it may employ Transformer encoders for processing time series data and apply attention mechanisms for processing text embeddings. The model integrates text and time series data at different levels using various fusion techniques such as self-cross attention or cross-modal fusion. Again, the output depends on the task (ihm or pheno), and appropriate loss functions are used accordingly.\n",
    "- \n",
    "TSMixed\n",
    "  - This is a mixed model for time series data. It combines interpolation techniques, such as S_Interp and Cross_Interp, with Transformer-based encoders or other models like LSTM or CNN for processing time series data. It handles mixed-level data, such as batch-level, sequence-level, or feature-level mixup, and outputs predictions based on the task (ihm or pheno)."
   ]
  },
  {
   "cell_type": "markdown",
   "id": "bd17d700490ade34",
   "metadata": {
    "collapsed": false
   },
   "source": [
    "![high level arch with desc](.img/high_arch_w_desc.png)"
   ]
  },
  {
   "cell_type": "code",
   "execution_count": 18,
   "id": "7814a16c38a9b49c",
   "metadata": {
    "collapsed": false,
    "ExecuteTime": {
     "end_time": "2024-04-14T04:50:07.741445364Z",
     "start_time": "2024-04-14T04:50:07.704277036Z"
    }
   },
   "outputs": [],
   "source": [
    "if 'Text' in args.modeltype:\n",
    "    model = MULTCrossModel(args=args, device=device, orig_d_ts=17, orig_reg_d_ts=34, orig_d_txt=768,\n",
    "                           ts_seq_num=args.tt_max, text_seq_num=args.num_of_notes, Biobert=BioBert)\n",
    "else:\n",
    "    model = TSMixed(args=args, device=device, orig_d_ts=17, orig_reg_d_ts=34, ts_seq_num=args.tt_max)"
   ]
  },
  {
   "cell_type": "markdown",
   "id": "357c72c29e3d47c1",
   "metadata": {
    "collapsed": false
   },
   "source": [
    "## train\n",
    "\n",
    "This part of code train model. \n",
    "Given modeltype argument from above, it will set optimizer for different model type. (Text, Timeseries or mix)"
   ]
  },
  {
   "cell_type": "code",
   "execution_count": 19,
   "id": "a458eff6e7e8cbc8",
   "metadata": {
    "collapsed": false,
    "ExecuteTime": {
     "end_time": "2024-04-14T04:55:44.334499199Z",
     "start_time": "2024-04-14T04:50:07.724350448Z"
    }
   },
   "outputs": [
    {
     "name": "stderr",
     "output_type": "stream",
     "text": [
      "  0%|          | 0/1 [00:00<?, ?it/s]"
     ]
    },
    {
     "name": "stdout",
     "output_type": "stream",
     "text": [
      "0 False\n"
     ]
    },
    {
     "name": "stderr",
     "output_type": "stream",
     "text": [
      "\n",
      "0it [00:00, ?it/s]\u001B[A\n",
      "1it [00:00,  1.27it/s]\u001B[AInput ids are automatically padded from 485 to 512 to be a multiple of `config.attention_window`: 512\n",
      "\n",
      "2it [00:01,  2.18it/s]\u001B[AInput ids are automatically padded from 738 to 1024 to be a multiple of `config.attention_window`: 512\n",
      "\n",
      "3it [00:01,  2.24it/s]\u001B[AInput ids are automatically padded from 311 to 512 to be a multiple of `config.attention_window`: 512\n",
      "\n",
      "4it [00:01,  2.46it/s]\u001B[A\n",
      "5it [00:02,  1.98it/s]\u001B[AInput ids are automatically padded from 519 to 1024 to be a multiple of `config.attention_window`: 512\n",
      "\n",
      "6it [00:02,  2.15it/s]\u001B[AInput ids are automatically padded from 544 to 1024 to be a multiple of `config.attention_window`: 512\n",
      "\n",
      "7it [00:03,  2.28it/s]\u001B[AInput ids are automatically padded from 741 to 1024 to be a multiple of `config.attention_window`: 512\n",
      "\n",
      "8it [00:03,  2.38it/s]\u001B[AInput ids are automatically padded from 763 to 1024 to be a multiple of `config.attention_window`: 512\n",
      "\n",
      "9it [00:04,  2.44it/s]\u001B[AInput ids are automatically padded from 896 to 1024 to be a multiple of `config.attention_window`: 512\n",
      "\n",
      "10it [00:04,  2.39it/s]\u001B[AInput ids are automatically padded from 3 to 512 to be a multiple of `config.attention_window`: 512\n",
      "\n",
      "11it [00:04,  2.75it/s]\u001B[AInput ids are automatically padded from 781 to 1024 to be a multiple of `config.attention_window`: 512\n",
      "\n",
      "12it [00:05,  2.59it/s]\u001B[A\n",
      "13it [00:05,  2.59it/s]\u001B[AInput ids are automatically padded from 468 to 512 to be a multiple of `config.attention_window`: 512\n",
      "\n",
      "14it [00:05,  2.93it/s]\u001B[A\n",
      "15it [00:06,  2.56it/s]\u001B[A\n",
      "16it [00:06,  2.75it/s]\u001B[A\n",
      "17it [00:07,  2.47it/s]\u001B[AInput ids are automatically padded from 313 to 512 to be a multiple of `config.attention_window`: 512\n",
      "\n",
      "18it [00:07,  2.83it/s]\u001B[AInput ids are automatically padded from 559 to 1024 to be a multiple of `config.attention_window`: 512\n",
      "\n",
      "19it [00:07,  2.78it/s]\u001B[AInput ids are automatically padded from 387 to 512 to be a multiple of `config.attention_window`: 512\n",
      "\n",
      "20it [00:07,  3.11it/s]\u001B[AInput ids are automatically padded from 592 to 1024 to be a multiple of `config.attention_window`: 512\n",
      "\n",
      "21it [00:08,  2.95it/s]\u001B[AInput ids are automatically padded from 426 to 512 to be a multiple of `config.attention_window`: 512\n",
      "\n",
      "22it [00:08,  3.27it/s]\u001B[AInput ids are automatically padded from 350 to 512 to be a multiple of `config.attention_window`: 512\n",
      "\n",
      "23it [00:08,  3.54it/s]\u001B[AInput ids are automatically padded from 718 to 1024 to be a multiple of `config.attention_window`: 512\n",
      "\n",
      "24it [00:09,  3.15it/s]\u001B[AInput ids are automatically padded from 262 to 512 to be a multiple of `config.attention_window`: 512\n",
      "\n",
      "25it [00:09,  3.39it/s]\u001B[A\n",
      "26it [00:09,  3.67it/s]\u001B[AInput ids are automatically padded from 806 to 1024 to be a multiple of `config.attention_window`: 512\n",
      "\n",
      "27it [00:10,  3.07it/s]\u001B[A\n",
      "28it [00:10,  2.61it/s]\u001B[AInput ids are automatically padded from 518 to 1024 to be a multiple of `config.attention_window`: 512\n",
      "\n",
      "29it [00:10,  2.61it/s]\u001B[AInput ids are automatically padded from 471 to 512 to be a multiple of `config.attention_window`: 512\n",
      "\n",
      "30it [00:11,  2.83it/s]\u001B[AInput ids are automatically padded from 972 to 1024 to be a multiple of `config.attention_window`: 512\n",
      "\n",
      "31it [00:11,  2.28it/s]\u001B[AInput ids are automatically padded from 515 to 1024 to be a multiple of `config.attention_window`: 512\n",
      "\n",
      "32it [00:12,  2.26it/s]\u001B[A\n",
      "33it [00:12,  2.16it/s]\u001B[AInput ids are automatically padded from 663 to 1024 to be a multiple of `config.attention_window`: 512\n",
      "\n",
      "34it [00:13,  2.26it/s]\u001B[AInput ids are automatically padded from 548 to 1024 to be a multiple of `config.attention_window`: 512\n",
      "\n",
      "35it [00:13,  2.36it/s]\u001B[AInput ids are automatically padded from 461 to 512 to be a multiple of `config.attention_window`: 512\n",
      "\n",
      "36it [00:13,  2.76it/s]\u001B[AInput ids are automatically padded from 795 to 1024 to be a multiple of `config.attention_window`: 512\n",
      "\n",
      "37it [00:14,  2.46it/s]\u001B[AInput ids are automatically padded from 266 to 512 to be a multiple of `config.attention_window`: 512\n",
      "\n",
      "38it [00:14,  2.50it/s]\u001B[A\n",
      "39it [00:14,  2.78it/s]\u001B[AInput ids are automatically padded from 589 to 1024 to be a multiple of `config.attention_window`: 512\n",
      "\n",
      "40it [00:15,  2.54it/s]\u001B[AInput ids are automatically padded from 653 to 1024 to be a multiple of `config.attention_window`: 512\n",
      "\n",
      "41it [00:15,  2.56it/s]\u001B[AInput ids are automatically padded from 470 to 512 to be a multiple of `config.attention_window`: 512\n",
      "\n",
      "42it [00:16,  2.90it/s]\u001B[AInput ids are automatically padded from 407 to 512 to be a multiple of `config.attention_window`: 512\n",
      "\n",
      "43it [00:16,  3.24it/s]\u001B[AInput ids are automatically padded from 531 to 1024 to be a multiple of `config.attention_window`: 512\n",
      "\n",
      "44it [00:16,  2.65it/s]\u001B[AInput ids are automatically padded from 399 to 512 to be a multiple of `config.attention_window`: 512\n",
      "\n",
      "45it [00:17,  3.00it/s]\u001B[AInput ids are automatically padded from 341 to 512 to be a multiple of `config.attention_window`: 512\n",
      "\n",
      "46it [00:17,  3.17it/s]\u001B[AInput ids are automatically padded from 322 to 512 to be a multiple of `config.attention_window`: 512\n",
      "\n",
      "47it [00:17,  3.25it/s]\u001B[AInput ids are automatically padded from 944 to 1024 to be a multiple of `config.attention_window`: 512\n",
      "\n",
      "48it [00:18,  2.91it/s]\u001B[AInput ids are automatically padded from 506 to 512 to be a multiple of `config.attention_window`: 512\n",
      "\n",
      "49it [00:18,  3.22it/s]\u001B[AInput ids are automatically padded from 420 to 512 to be a multiple of `config.attention_window`: 512\n",
      "\n",
      "50it [00:18,  3.31it/s]\u001B[AInput ids are automatically padded from 130 to 512 to be a multiple of `config.attention_window`: 512\n",
      "\n",
      "51it [00:18,  3.49it/s]\u001B[AInput ids are automatically padded from 932 to 1024 to be a multiple of `config.attention_window`: 512\n",
      "\n",
      "52it [00:19,  3.15it/s]\u001B[AInput ids are automatically padded from 848 to 1024 to be a multiple of `config.attention_window`: 512\n",
      "\n",
      "53it [00:19,  2.96it/s]\u001B[AInput ids are automatically padded from 846 to 1024 to be a multiple of `config.attention_window`: 512\n",
      "\n",
      "54it [00:20,  2.78it/s]\u001B[AInput ids are automatically padded from 438 to 512 to be a multiple of `config.attention_window`: 512\n",
      "\n",
      "55it [00:20,  3.09it/s]\u001B[AInput ids are automatically padded from 192 to 512 to be a multiple of `config.attention_window`: 512\n",
      "\n",
      "56it [00:20,  3.08it/s]\u001B[AInput ids are automatically padded from 447 to 512 to be a multiple of `config.attention_window`: 512\n",
      "\n",
      "57it [00:20,  3.02it/s]\u001B[AInput ids are automatically padded from 141 to 512 to be a multiple of `config.attention_window`: 512\n",
      "\n",
      "58it [00:21,  3.33it/s]\u001B[AInput ids are automatically padded from 752 to 1024 to be a multiple of `config.attention_window`: 512\n",
      "\n",
      "59it [00:21,  3.06it/s]\u001B[A\n",
      "60it [00:21,  2.90it/s]\u001B[AInput ids are automatically padded from 521 to 1024 to be a multiple of `config.attention_window`: 512\n",
      "\n",
      "61it [00:22,  2.79it/s]\u001B[AInput ids are automatically padded from 473 to 512 to be a multiple of `config.attention_window`: 512\n",
      "\n",
      "62it [00:22,  3.11it/s]\u001B[AInput ids are automatically padded from 651 to 1024 to be a multiple of `config.attention_window`: 512\n",
      "\n",
      "63it [00:22,  2.95it/s]\u001B[AInput ids are automatically padded from 235 to 512 to be a multiple of `config.attention_window`: 512\n",
      "\n",
      "64it [00:23,  3.24it/s]\u001B[AInput ids are automatically padded from 672 to 1024 to be a multiple of `config.attention_window`: 512\n",
      "\n",
      "65it [00:23,  3.01it/s]\u001B[A\n",
      "66it [00:23,  2.87it/s]\u001B[AInput ids are automatically padded from 821 to 1024 to be a multiple of `config.attention_window`: 512\n",
      "\n",
      "67it [00:24,  2.75it/s]\u001B[AInput ids are automatically padded from 725 to 1024 to be a multiple of `config.attention_window`: 512\n",
      "\n",
      "68it [00:24,  2.69it/s]\u001B[AInput ids are automatically padded from 413 to 512 to be a multiple of `config.attention_window`: 512\n",
      "\n",
      "69it [00:24,  3.01it/s]\u001B[AInput ids are automatically padded from 545 to 1024 to be a multiple of `config.attention_window`: 512\n",
      "\n",
      "70it [00:25,  2.85it/s]\u001B[AInput ids are automatically padded from 549 to 1024 to be a multiple of `config.attention_window`: 512\n",
      "\n",
      "71it [00:25,  2.77it/s]\u001B[AInput ids are automatically padded from 466 to 512 to be a multiple of `config.attention_window`: 512\n",
      "\n",
      "72it [00:25,  3.08it/s]\u001B[AInput ids are automatically padded from 780 to 1024 to be a multiple of `config.attention_window`: 512\n",
      "\n",
      "73it [00:26,  2.90it/s]\u001B[AInput ids are automatically padded from 829 to 1024 to be a multiple of `config.attention_window`: 512\n",
      "\n",
      "74it [00:26,  2.79it/s]\u001B[A\n",
      "75it [00:27,  2.72it/s]\u001B[A\n",
      "76it [00:27,  2.70it/s]\u001B[AInput ids are automatically padded from 777 to 1024 to be a multiple of `config.attention_window`: 512\n",
      "\n",
      "77it [00:27,  2.64it/s]\u001B[AInput ids are automatically padded from 537 to 1024 to be a multiple of `config.attention_window`: 512\n",
      "\n",
      "78it [00:28,  2.62it/s]\u001B[AInput ids are automatically padded from 329 to 512 to be a multiple of `config.attention_window`: 512\n",
      "\n",
      "79it [00:28,  2.93it/s]\u001B[AInput ids are automatically padded from 386 to 512 to be a multiple of `config.attention_window`: 512\n",
      "\n",
      "80it [00:28,  3.08it/s]\u001B[AInput ids are automatically padded from 920 to 1024 to be a multiple of `config.attention_window`: 512\n",
      "\n",
      "81it [00:29,  2.75it/s]\u001B[AInput ids are automatically padded from 390 to 512 to be a multiple of `config.attention_window`: 512\n",
      "\n",
      "82it [00:29,  2.97it/s]\u001B[A\n",
      "83it [00:29,  3.19it/s]\u001B[AInput ids are automatically padded from 882 to 1024 to be a multiple of `config.attention_window`: 512\n",
      "\n",
      "84it [00:30,  2.95it/s]\u001B[AInput ids are automatically padded from 638 to 1024 to be a multiple of `config.attention_window`: 512\n",
      "\n",
      "85it [00:30,  2.83it/s]\u001B[AInput ids are automatically padded from 484 to 512 to be a multiple of `config.attention_window`: 512\n",
      "\n",
      "86it [00:30,  3.17it/s]\u001B[AInput ids are automatically padded from 369 to 512 to be a multiple of `config.attention_window`: 512\n",
      "\n",
      "87it [00:31,  3.45it/s]\u001B[AInput ids are automatically padded from 440 to 512 to be a multiple of `config.attention_window`: 512\n",
      "\n",
      "88it [00:31,  3.69it/s]\u001B[AInput ids are automatically padded from 867 to 1024 to be a multiple of `config.attention_window`: 512\n",
      "\n",
      "89it [00:31,  3.28it/s]\u001B[AInput ids are automatically padded from 377 to 512 to be a multiple of `config.attention_window`: 512\n",
      "\n",
      "90it [00:31,  3.53it/s]\u001B[AInput ids are automatically padded from 612 to 1024 to be a multiple of `config.attention_window`: 512\n",
      "\n",
      "91it [00:32,  3.17it/s]\u001B[AInput ids are automatically padded from 552 to 1024 to be a multiple of `config.attention_window`: 512\n",
      "\n",
      "92it [00:32,  2.98it/s]\u001B[AInput ids are automatically padded from 602 to 1024 to be a multiple of `config.attention_window`: 512\n",
      "\n",
      "93it [00:33,  2.82it/s]\u001B[AInput ids are automatically padded from 575 to 1024 to be a multiple of `config.attention_window`: 512\n",
      "\n",
      "94it [00:33,  2.71it/s]\u001B[AInput ids are automatically padded from 720 to 1024 to be a multiple of `config.attention_window`: 512\n",
      "\n",
      "95it [00:33,  2.63it/s]\u001B[AInput ids are automatically padded from 858 to 1024 to be a multiple of `config.attention_window`: 512\n",
      "\n",
      "96it [00:34,  2.62it/s]\u001B[AInput ids are automatically padded from 301 to 512 to be a multiple of `config.attention_window`: 512\n",
      "\n",
      "97it [00:34,  2.98it/s]\u001B[AInput ids are automatically padded from 434 to 512 to be a multiple of `config.attention_window`: 512\n",
      "\n",
      "98it [00:34,  3.25it/s]\u001B[AInput ids are automatically padded from 596 to 1024 to be a multiple of `config.attention_window`: 512\n",
      "\n",
      "99it [00:35,  3.02it/s]\u001B[AInput ids are automatically padded from 676 to 1024 to be a multiple of `config.attention_window`: 512\n",
      "\n",
      "100it [00:35,  2.88it/s]\u001B[AInput ids are automatically padded from 509 to 512 to be a multiple of `config.attention_window`: 512\n",
      "\n",
      "101it [00:35,  3.22it/s]\u001B[AInput ids are automatically padded from 632 to 1024 to be a multiple of `config.attention_window`: 512\n",
      "\n",
      "102it [00:36,  2.96it/s]\u001B[AInput ids are automatically padded from 871 to 1024 to be a multiple of `config.attention_window`: 512\n",
      "\n",
      "103it [00:36,  2.81it/s]\u001B[AInput ids are automatically padded from 648 to 1024 to be a multiple of `config.attention_window`: 512\n",
      "\n",
      "104it [00:36,  2.72it/s]\u001B[A\n",
      "105it [00:37,  2.64it/s]\u001B[AInput ids are automatically padded from 618 to 1024 to be a multiple of `config.attention_window`: 512\n",
      "\n",
      "106it [00:37,  3.02it/s]\u001B[AInput ids are automatically padded from 682 to 1024 to be a multiple of `config.attention_window`: 512\n",
      "\n",
      "107it [00:38,  2.81it/s]\u001B[AInput ids are automatically padded from 535 to 1024 to be a multiple of `config.attention_window`: 512\n",
      "\n",
      "108it [00:38,  2.74it/s]\u001B[AInput ids are automatically padded from 367 to 512 to be a multiple of `config.attention_window`: 512\n",
      "\n",
      "109it [00:38,  3.08it/s]\u001B[AInput ids are automatically padded from 338 to 512 to be a multiple of `config.attention_window`: 512\n",
      "\n",
      "110it [00:38,  3.37it/s]\u001B[AInput ids are automatically padded from 694 to 1024 to be a multiple of `config.attention_window`: 512\n",
      "\n",
      "111it [00:39,  3.10it/s]\u001B[AInput ids are automatically padded from 359 to 512 to be a multiple of `config.attention_window`: 512\n",
      "\n",
      "112it [00:39,  3.34it/s]\u001B[AInput ids are automatically padded from 828 to 1024 to be a multiple of `config.attention_window`: 512\n",
      "\n",
      "113it [00:39,  3.08it/s]\u001B[AInput ids are automatically padded from 755 to 1024 to be a multiple of `config.attention_window`: 512\n",
      "\n",
      "114it [00:40,  2.91it/s]\u001B[AInput ids are automatically padded from 501 to 512 to be a multiple of `config.attention_window`: 512\n",
      "\n",
      "115it [00:40,  3.21it/s]\u001B[AInput ids are automatically padded from 645 to 1024 to be a multiple of `config.attention_window`: 512\n",
      "\n",
      "116it [00:40,  2.99it/s]\u001B[A\n",
      "117it [00:41,  2.87it/s]\u001B[A\n",
      "118it [00:41,  3.19it/s]\u001B[A\n",
      "119it [00:41,  3.49it/s]\u001B[AInput ids are automatically padded from 459 to 512 to be a multiple of `config.attention_window`: 512\n",
      "\n",
      "120it [00:41,  3.73it/s]\u001B[A\n",
      "121it [00:42,  3.92it/s]\u001B[A\n",
      "122it [00:42,  3.39it/s]\u001B[AInput ids are automatically padded from 613 to 1024 to be a multiple of `config.attention_window`: 512\n",
      "\n",
      "123it [00:42,  3.11it/s]\u001B[A\n",
      "124it [00:43,  3.41it/s]\u001B[AInput ids are automatically padded from 409 to 512 to be a multiple of `config.attention_window`: 512\n",
      "\n",
      "125it [00:43,  3.65it/s]\u001B[AInput ids are automatically padded from 467 to 512 to be a multiple of `config.attention_window`: 512\n",
      "\n",
      "126it [00:43,  3.88it/s]\u001B[AInput ids are automatically padded from 665 to 1024 to be a multiple of `config.attention_window`: 512\n",
      "\n",
      "127it [00:44,  3.33it/s]\u001B[A\n",
      "128it [00:44,  3.10it/s]\u001B[AInput ids are automatically padded from 270 to 512 to be a multiple of `config.attention_window`: 512\n",
      "\n",
      "129it [00:44,  3.37it/s]\u001B[AInput ids are automatically padded from 406 to 512 to be a multiple of `config.attention_window`: 512\n",
      "\n",
      "130it [00:44,  3.58it/s]\u001B[A\n",
      "131it [00:45,  3.15it/s]\u001B[AInput ids are automatically padded from 669 to 1024 to be a multiple of `config.attention_window`: 512\n",
      "\n",
      "132it [00:45,  2.91it/s]\u001B[AInput ids are automatically padded from 326 to 512 to be a multiple of `config.attention_window`: 512\n",
      "\n",
      "133it [00:45,  3.20it/s]\u001B[AInput ids are automatically padded from 758 to 1024 to be a multiple of `config.attention_window`: 512\n",
      "\n",
      "134it [00:46,  2.96it/s]\u001B[AInput ids are automatically padded from 436 to 512 to be a multiple of `config.attention_window`: 512\n",
      "\n",
      "135it [00:46,  3.24it/s]\u001B[AInput ids are automatically padded from 380 to 512 to be a multiple of `config.attention_window`: 512\n",
      "\n",
      "136it [00:46,  3.44it/s]\u001B[AInput ids are automatically padded from 690 to 1024 to be a multiple of `config.attention_window`: 512\n",
      "\n",
      "137it [00:47,  3.06it/s]\u001B[AInput ids are automatically padded from 351 to 512 to be a multiple of `config.attention_window`: 512\n",
      "\n",
      "138it [00:47,  3.36it/s]\u001B[A\n",
      "139it [00:47,  3.60it/s]\u001B[AInput ids are automatically padded from 457 to 512 to be a multiple of `config.attention_window`: 512\n",
      "\n",
      "140it [00:47,  3.81it/s]\u001B[AInput ids are automatically padded from 224 to 512 to be a multiple of `config.attention_window`: 512\n",
      "\n",
      "141it [00:48,  3.92it/s]\u001B[AInput ids are automatically padded from 475 to 512 to be a multiple of `config.attention_window`: 512\n",
      "\n",
      "142it [00:48,  4.07it/s]\u001B[A\n",
      "143it [00:48,  4.12it/s]\u001B[AInput ids are automatically padded from 686 to 1024 to be a multiple of `config.attention_window`: 512\n",
      "\n",
      "144it [00:48,  3.49it/s]\u001B[A\n",
      "145it [00:49,  3.73it/s]\u001B[AInput ids are automatically padded from 458 to 512 to be a multiple of `config.attention_window`: 512\n",
      "\n",
      "146it [00:49,  3.87it/s]\u001B[A\n",
      "147it [00:49,  3.37it/s]\u001B[AInput ids are automatically padded from 637 to 1024 to be a multiple of `config.attention_window`: 512\n",
      "\n",
      "148it [00:50,  3.06it/s]\u001B[AInput ids are automatically padded from 462 to 512 to be a multiple of `config.attention_window`: 512\n",
      "\n",
      "149it [00:50,  3.33it/s]\u001B[AInput ids are automatically padded from 505 to 512 to be a multiple of `config.attention_window`: 512\n",
      "\n",
      "150it [00:50,  3.57it/s]\u001B[AInput ids are automatically padded from 930 to 1024 to be a multiple of `config.attention_window`: 512\n",
      "\n",
      "151it [00:51,  3.25it/s]\u001B[A\n",
      "152it [00:51,  3.03it/s]\u001B[A\n",
      "153it [00:51,  2.91it/s]\u001B[AInput ids are automatically padded from 370 to 512 to be a multiple of `config.attention_window`: 512\n",
      "\n",
      "154it [00:52,  3.24it/s]\u001B[A\n",
      "155it [00:52,  3.03it/s]\u001B[AInput ids are automatically padded from 723 to 1024 to be a multiple of `config.attention_window`: 512\n",
      "\n",
      "156it [00:52,  2.87it/s]\u001B[A\n",
      "157it [00:53,  2.76it/s]\u001B[AInput ids are automatically padded from 865 to 1024 to be a multiple of `config.attention_window`: 512\n",
      "\n",
      "158it [00:53,  2.71it/s]\u001B[A\n",
      "159it [00:53,  2.66it/s]\u001B[AInput ids are automatically padded from 1021 to 1024 to be a multiple of `config.attention_window`: 512\n",
      "\n",
      "160it [00:54,  2.61it/s]\u001B[A\n",
      "161it [00:54,  2.61it/s]\u001B[AInput ids are automatically padded from 751 to 1024 to be a multiple of `config.attention_window`: 512\n",
      "\n",
      "162it [00:55,  2.58it/s]\u001B[AInput ids are automatically padded from 263 to 512 to be a multiple of `config.attention_window`: 512\n",
      "\n",
      "163it [00:55,  2.92it/s]\u001B[AInput ids are automatically padded from 556 to 1024 to be a multiple of `config.attention_window`: 512\n",
      "\n",
      "164it [00:55,  2.81it/s]\u001B[AInput ids are automatically padded from 321 to 512 to be a multiple of `config.attention_window`: 512\n",
      "\n",
      "165it [00:56,  3.16it/s]\u001B[AInput ids are automatically padded from 619 to 1024 to be a multiple of `config.attention_window`: 512\n",
      "\n",
      "166it [00:56,  2.98it/s]\u001B[AInput ids are automatically padded from 874 to 1024 to be a multiple of `config.attention_window`: 512\n",
      "\n",
      "167it [00:56,  2.84it/s]\u001B[AInput ids are automatically padded from 845 to 1024 to be a multiple of `config.attention_window`: 512\n",
      "\n",
      "168it [00:57,  2.77it/s]\u001B[AInput ids are automatically padded from 749 to 1024 to be a multiple of `config.attention_window`: 512\n",
      "\n",
      "169it [00:57,  2.73it/s]\u001B[AInput ids are automatically padded from 355 to 512 to be a multiple of `config.attention_window`: 512\n",
      "\n",
      "170it [00:57,  3.09it/s]\u001B[AInput ids are automatically padded from 561 to 1024 to be a multiple of `config.attention_window`: 512\n",
      "\n",
      "171it [00:58,  2.97it/s]\u001B[A\n",
      "172it [00:58,  3.34it/s]\u001B[A\n",
      "173it [00:58,  3.62it/s]\u001B[AInput ids are automatically padded from 1017 to 1024 to be a multiple of `config.attention_window`: 512\n",
      "\n",
      "174it [00:58,  3.26it/s]\u001B[AInput ids are automatically padded from 419 to 512 to be a multiple of `config.attention_window`: 512\n",
      "\n",
      "175it [00:59,  3.53it/s]\u001B[A\n",
      "176it [00:59,  3.23it/s]\u001B[AInput ids are automatically padded from 384 to 512 to be a multiple of `config.attention_window`: 512\n",
      "\n",
      "177it [00:59,  3.53it/s]\u001B[A\n",
      "178it [01:00,  3.22it/s]\u001B[A\n",
      "179it [01:00,  3.55it/s]\u001B[AInput ids are automatically padded from 474 to 512 to be a multiple of `config.attention_window`: 512\n",
      "\n",
      "180it [01:00,  3.81it/s]\u001B[A\n",
      "181it [01:00,  4.00it/s]\u001B[AInput ids are automatically padded from 949 to 1024 to be a multiple of `config.attention_window`: 512\n",
      "\n",
      "182it [01:01,  3.48it/s]\u001B[AInput ids are automatically padded from 499 to 512 to be a multiple of `config.attention_window`: 512\n",
      "\n",
      "183it [01:01,  3.69it/s]\u001B[AInput ids are automatically padded from 666 to 1024 to be a multiple of `config.attention_window`: 512\n",
      "\n",
      "184it [01:01,  3.30it/s]\u001B[A\n",
      "185it [01:02,  3.09it/s]\u001B[AInput ids are automatically padded from 529 to 1024 to be a multiple of `config.attention_window`: 512\n",
      "\n",
      "186it [01:02,  2.96it/s]\u001B[A\n",
      "187it [01:02,  3.26it/s]\u001B[AInput ids are automatically padded from 381 to 512 to be a multiple of `config.attention_window`: 512\n",
      "\n",
      "188it [01:02,  3.54it/s]\u001B[AInput ids are automatically padded from 437 to 512 to be a multiple of `config.attention_window`: 512\n",
      "\n",
      "189it [01:03,  3.75it/s]\u001B[AInput ids are automatically padded from 558 to 1024 to be a multiple of `config.attention_window`: 512\n",
      "\n",
      "190it [01:03,  3.29it/s]\u001B[AInput ids are automatically padded from 454 to 512 to be a multiple of `config.attention_window`: 512\n",
      "\n",
      "191it [01:03,  3.56it/s]\u001B[A\n",
      "192it [01:04,  3.20it/s]\u001B[AInput ids are automatically padded from 491 to 512 to be a multiple of `config.attention_window`: 512\n",
      "\n",
      "193it [01:04,  3.53it/s]\u001B[A\n",
      "194it [01:04,  3.77it/s]\u001B[AInput ids are automatically padded from 809 to 1024 to be a multiple of `config.attention_window`: 512\n",
      "\n",
      "195it [01:05,  3.29it/s]\u001B[AInput ids are automatically padded from 495 to 512 to be a multiple of `config.attention_window`: 512\n",
      "\n",
      "196it [01:05,  3.56it/s]\u001B[A\n",
      "197it [01:05,  3.23it/s]\u001B[A\n",
      "198it [01:05,  3.53it/s]\u001B[AInput ids are automatically padded from 897 to 1024 to be a multiple of `config.attention_window`: 512\n",
      "\n",
      "199it [01:06,  3.21it/s]\u001B[AInput ids are automatically padded from 583 to 1024 to be a multiple of `config.attention_window`: 512\n",
      "\n",
      "200it [01:06,  2.98it/s]\u001B[AInput ids are automatically padded from 700 to 1024 to be a multiple of `config.attention_window`: 512\n",
      "\n",
      "201it [01:07,  2.88it/s]\u001B[AInput ids are automatically padded from 599 to 1024 to be a multiple of `config.attention_window`: 512\n",
      "\n",
      "202it [01:07,  2.81it/s]\u001B[A\n",
      "203it [01:07,  2.78it/s]\u001B[A\n",
      "204it [01:07,  3.17it/s]\u001B[A\n",
      "205it [01:08,  3.47it/s]\u001B[A\n",
      "206it [01:08,  3.17it/s]\u001B[AInput ids are automatically padded from 636 to 1024 to be a multiple of `config.attention_window`: 512\n",
      "\n",
      "207it [01:08,  2.99it/s]\u001B[AInput ids are automatically padded from 428 to 512 to be a multiple of `config.attention_window`: 512\n",
      "\n",
      "208it [01:09,  3.29it/s]\u001B[AInput ids are automatically padded from 678 to 1024 to be a multiple of `config.attention_window`: 512\n",
      "\n",
      "209it [01:09,  3.08it/s]\u001B[AInput ids are automatically padded from 219 to 512 to be a multiple of `config.attention_window`: 512\n",
      "\n",
      "210it [01:09,  3.39it/s]\u001B[A\n",
      "211it [01:10,  3.12it/s]\u001B[AInput ids are automatically padded from 702 to 1024 to be a multiple of `config.attention_window`: 512\n",
      "\n",
      "212it [01:10,  2.94it/s]\u001B[A\n",
      "213it [01:11,  2.68it/s]\u001B[AInput ids are automatically padded from 810 to 1024 to be a multiple of `config.attention_window`: 512\n",
      "\n",
      "214it [01:11,  2.17it/s]\u001B[A\n",
      "215it [01:11,  2.56it/s]\u001B[AInput ids are automatically padded from 496 to 512 to be a multiple of `config.attention_window`: 512\n",
      "\n",
      "216it [01:12,  2.94it/s]\u001B[A\n",
      "217it [01:12,  2.87it/s]\u001B[A\n",
      "218it [01:12,  3.22it/s]\u001B[AInput ids are automatically padded from 687 to 1024 to be a multiple of `config.attention_window`: 512\n",
      "\n",
      "219it [01:13,  3.01it/s]\u001B[AInput ids are automatically padded from 569 to 1024 to be a multiple of `config.attention_window`: 512\n",
      "\n",
      "220it [01:13,  2.91it/s]\u001B[AInput ids are automatically padded from 442 to 512 to be a multiple of `config.attention_window`: 512\n",
      "\n",
      "221it [01:13,  3.23it/s]\u001B[AInput ids are automatically padded from 425 to 512 to be a multiple of `config.attention_window`: 512\n",
      "\n",
      "222it [01:13,  3.52it/s]\u001B[A\n",
      "223it [01:14,  3.75it/s]\u001B[AInput ids are automatically padded from 680 to 1024 to be a multiple of `config.attention_window`: 512\n",
      "\n",
      "224it [01:14,  3.34it/s]\u001B[AInput ids are automatically padded from 427 to 512 to be a multiple of `config.attention_window`: 512\n",
      "\n",
      "225it [01:14,  3.64it/s]\u001B[AInput ids are automatically padded from 563 to 1024 to be a multiple of `config.attention_window`: 512\n",
      "\n",
      "226it [01:15,  3.29it/s]\u001B[AInput ids are automatically padded from 226 to 512 to be a multiple of `config.attention_window`: 512\n",
      "\n",
      "227it [01:15,  3.58it/s]\u001B[AInput ids are automatically padded from 719 to 1024 to be a multiple of `config.attention_window`: 512\n",
      "\n",
      "228it [01:15,  3.23it/s]\u001B[AInput ids are automatically padded from 675 to 1024 to be a multiple of `config.attention_window`: 512\n",
      "\n",
      "229it [01:16,  3.03it/s]\u001B[AInput ids are automatically padded from 664 to 1024 to be a multiple of `config.attention_window`: 512\n",
      "\n",
      "230it [01:16,  2.91it/s]\u001B[AInput ids are automatically padded from 624 to 1024 to be a multiple of `config.attention_window`: 512\n",
      "\n",
      "231it [01:16,  2.80it/s]\u001B[A\n",
      "232it [01:17,  2.76it/s]\u001B[AInput ids are automatically padded from 536 to 1024 to be a multiple of `config.attention_window`: 512\n",
      "\n",
      "233it [01:17,  2.71it/s]\u001B[AInput ids are automatically padded from 688 to 1024 to be a multiple of `config.attention_window`: 512\n",
      "\n",
      "234it [01:18,  2.66it/s]\u001B[AInput ids are automatically padded from 634 to 1024 to be a multiple of `config.attention_window`: 512\n",
      "\n",
      "235it [01:18,  2.64it/s]\u001B[A\n",
      "236it [01:18,  2.99it/s]\u001B[A\n",
      "237it [01:19,  2.87it/s]\u001B[A\n",
      "238it [01:19,  2.79it/s]\u001B[AInput ids are automatically padded from 358 to 512 to be a multiple of `config.attention_window`: 512\n",
      "\n",
      "239it [01:19,  3.13it/s]\u001B[A\n",
      "240it [01:20,  2.96it/s]\u001B[AInput ids are automatically padded from 287 to 512 to be a multiple of `config.attention_window`: 512\n",
      "\n",
      "241it [01:20,  3.27it/s]\u001B[A\n",
      "242it [01:20,  3.05it/s]\u001B[AInput ids are automatically padded from 348 to 512 to be a multiple of `config.attention_window`: 512\n",
      "\n",
      "243it [01:20,  3.31it/s]\u001B[AInput ids are automatically padded from 961 to 1024 to be a multiple of `config.attention_window`: 512\n",
      "\n",
      "244it [01:21,  3.06it/s]\u001B[AInput ids are automatically padded from 756 to 1024 to be a multiple of `config.attention_window`: 512\n",
      "\n",
      "245it [01:21,  2.91it/s]\u001B[AInput ids are automatically padded from 832 to 1024 to be a multiple of `config.attention_window`: 512\n",
      "\n",
      "246it [01:22,  2.80it/s]\u001B[AInput ids are automatically padded from 965 to 1024 to be a multiple of `config.attention_window`: 512\n",
      "\n",
      "247it [01:22,  2.74it/s]\u001B[A\n",
      "248it [01:22,  3.09it/s]\u001B[A\n",
      "249it [01:22,  2.96it/s]\u001B[AInput ids are automatically padded from 913 to 1024 to be a multiple of `config.attention_window`: 512\n",
      "\n",
      "250it [01:23,  2.45it/s]\u001B[AInput ids are automatically padded from 249 to 512 to be a multiple of `config.attention_window`: 512\n",
      "\n",
      "251it [01:23,  2.84it/s]\u001B[AInput ids are automatically padded from 593 to 1024 to be a multiple of `config.attention_window`: 512\n",
      "\n",
      "252it [01:24,  2.61it/s]\u001B[AInput ids are automatically padded from 740 to 1024 to be a multiple of `config.attention_window`: 512\n",
      "\n",
      "253it [01:24,  2.54it/s]\u001B[AInput ids are automatically padded from 325 to 512 to be a multiple of `config.attention_window`: 512\n",
      "\n",
      "254it [01:24,  2.78it/s]\u001B[AInput ids are automatically padded from 388 to 512 to be a multiple of `config.attention_window`: 512\n",
      "\n",
      "255it [01:25,  3.05it/s]\u001B[A\n",
      "256it [01:25,  2.43it/s]\u001B[A\n",
      "257it [01:26,  2.59it/s]\u001B[AInput ids are automatically padded from 610 to 1024 to be a multiple of `config.attention_window`: 512\n",
      "\n",
      "258it [01:26,  2.56it/s]\u001B[AInput ids are automatically padded from 539 to 1024 to be a multiple of `config.attention_window`: 512\n",
      "\n",
      "259it [01:26,  2.57it/s]\u001B[AInput ids are automatically padded from 415 to 512 to be a multiple of `config.attention_window`: 512\n",
      "\n",
      "260it [01:27,  2.93it/s]\u001B[A\n",
      "261it [01:27,  2.81it/s]\u001B[AInput ids are automatically padded from 451 to 512 to be a multiple of `config.attention_window`: 512\n",
      "\n",
      "262it [01:27,  3.15it/s]\u001B[AInput ids are automatically padded from 853 to 1024 to be a multiple of `config.attention_window`: 512\n",
      "\n",
      "263it [01:28,  3.00it/s]\u001B[A\n",
      "264it [01:28,  2.90it/s]\u001B[AInput ids are automatically padded from 314 to 512 to be a multiple of `config.attention_window`: 512\n",
      "\n",
      "265it [01:28,  3.21it/s]\u001B[A\n",
      "266it [01:28,  3.44it/s]\u001B[A\n",
      "267it [01:29,  3.15it/s]\u001B[AInput ids are automatically padded from 683 to 1024 to be a multiple of `config.attention_window`: 512\n",
      "\n",
      "268it [01:29,  2.95it/s]\u001B[AInput ids are automatically padded from 831 to 1024 to be a multiple of `config.attention_window`: 512\n",
      "\n",
      "269it [01:30,  2.83it/s]\u001B[AInput ids are automatically padded from 734 to 1024 to be a multiple of `config.attention_window`: 512\n",
      "\n",
      "270it [01:30,  2.78it/s]\u001B[AInput ids are automatically padded from 724 to 1024 to be a multiple of `config.attention_window`: 512\n",
      "\n",
      "271it [01:30,  2.74it/s]\u001B[AInput ids are automatically padded from 885 to 1024 to be a multiple of `config.attention_window`: 512\n",
      "\n",
      "272it [01:31,  2.69it/s]\u001B[A\n",
      "273it [01:31,  3.06it/s]\u001B[AInput ids are automatically padded from 698 to 1024 to be a multiple of `config.attention_window`: 512\n",
      "\n",
      "274it [01:31,  2.93it/s]\u001B[AInput ids are automatically padded from 542 to 1024 to be a multiple of `config.attention_window`: 512\n",
      "\n",
      "275it [01:32,  2.84it/s]\u001B[AInput ids are automatically padded from 463 to 512 to be a multiple of `config.attention_window`: 512\n",
      "\n",
      "276it [01:32,  3.20it/s]\u001B[A\n",
      "277it [01:32,  3.01it/s]\u001B[AInput ids are automatically padded from 398 to 512 to be a multiple of `config.attention_window`: 512\n",
      "\n",
      "278it [01:33,  3.33it/s]\u001B[AInput ids are automatically padded from 1015 to 1024 to be a multiple of `config.attention_window`: 512\n",
      "\n",
      "279it [01:33,  3.10it/s]\u001B[A\n",
      "280it [01:33,  2.96it/s]\u001B[A\n",
      "281it [01:34,  2.86it/s]\u001B[AInput ids are automatically padded from 647 to 1024 to be a multiple of `config.attention_window`: 512\n",
      "\n",
      "282it [01:34,  2.79it/s]\u001B[AInput ids are automatically padded from 371 to 512 to be a multiple of `config.attention_window`: 512\n",
      "\n",
      "283it [01:34,  3.14it/s]\u001B[AInput ids are automatically padded from 446 to 512 to be a multiple of `config.attention_window`: 512\n",
      "\n",
      "284it [01:35,  3.45it/s]\u001B[AInput ids are automatically padded from 704 to 1024 to be a multiple of `config.attention_window`: 512\n",
      "\n",
      "285it [01:35,  3.18it/s]\u001B[A\n",
      "286it [01:35,  3.01it/s]\u001B[A\n",
      "287it [01:35,  3.35it/s]\u001B[AInput ids are automatically padded from 708 to 1024 to be a multiple of `config.attention_window`: 512\n",
      "\n",
      "288it [01:36,  3.09it/s]\u001B[A\n",
      "289it [01:36,  3.34it/s]\u001B[A\n",
      "290it [01:36,  3.62it/s]\u001B[A\n",
      "291it [01:37,  3.85it/s]\u001B[AInput ids are automatically padded from 985 to 1024 to be a multiple of `config.attention_window`: 512\n",
      "\n",
      "292it [01:37,  3.37it/s]\u001B[A\n",
      "293it [01:37,  3.01it/s]\u001B[AInput ids are automatically padded from 641 to 1024 to be a multiple of `config.attention_window`: 512\n",
      "\n",
      "294it [01:38,  2.83it/s]\u001B[AInput ids are automatically padded from 530 to 1024 to be a multiple of `config.attention_window`: 512\n",
      "\n",
      "295it [01:38,  2.54it/s]\u001B[A\n",
      "296it [01:38,  2.88it/s]\u001B[A\n",
      "297it [01:39,  3.07it/s]\u001B[AInput ids are automatically padded from 611 to 1024 to be a multiple of `config.attention_window`: 512\n",
      "\n",
      "298it [01:39,  2.84it/s]\u001B[AInput ids are automatically padded from 315 to 512 to be a multiple of `config.attention_window`: 512\n",
      "\n",
      "299it [01:39,  3.18it/s]\u001B[AInput ids are automatically padded from 455 to 512 to be a multiple of `config.attention_window`: 512\n",
      "\n",
      "300it [01:40,  3.30it/s]\u001B[AInput ids are automatically padded from 629 to 1024 to be a multiple of `config.attention_window`: 512\n",
      "\n",
      "301it [01:40,  3.08it/s]\u001B[A\n",
      "302it [01:40,  3.09it/s]\u001B[A\n",
      "303it [01:41,  3.35it/s]\u001B[A\n",
      "304it [01:41,  3.38it/s]\u001B[AInput ids are automatically padded from 620 to 1024 to be a multiple of `config.attention_window`: 512\n",
      "\n",
      "305it [01:41,  2.95it/s]\u001B[AInput ids are automatically padded from 477 to 512 to be a multiple of `config.attention_window`: 512\n",
      "\n",
      "306it [01:42,  3.08it/s]\u001B[AInput ids are automatically padded from 616 to 1024 to be a multiple of `config.attention_window`: 512\n",
      "\n",
      "307it [01:42,  2.92it/s]\u001B[A\n",
      "308it [01:42,  2.83it/s]\u001B[A\n",
      "309it [01:43,  2.77it/s]\u001B[A\n",
      "310it [01:43,  3.13it/s]\u001B[A\n",
      "311it [01:43,  3.41it/s]\u001B[A\n",
      "312it [01:44,  3.01it/s]\u001B[A\n",
      "313it [01:44,  2.89it/s]\u001B[A\n",
      "314it [01:44,  2.81it/s]\u001B[A\n",
      "315it [01:45,  3.16it/s]\u001B[AInput ids are automatically padded from 316 to 512 to be a multiple of `config.attention_window`: 512\n",
      "\n",
      "316it [01:45,  3.43it/s]\u001B[AInput ids are automatically padded from 480 to 512 to be a multiple of `config.attention_window`: 512\n",
      "\n",
      "317it [01:45,  3.61it/s]\u001B[AInput ids are automatically padded from 661 to 1024 to be a multiple of `config.attention_window`: 512\n",
      "\n",
      "318it [01:46,  3.22it/s]\u001B[AInput ids are automatically padded from 594 to 1024 to be a multiple of `config.attention_window`: 512\n",
      "\n",
      "319it [01:46,  3.01it/s]\u001B[AInput ids are automatically padded from 392 to 512 to be a multiple of `config.attention_window`: 512\n",
      "\n",
      "320it [01:46,  3.31it/s]\u001B[A\n",
      "321it [01:47,  2.95it/s]\u001B[AInput ids are automatically padded from 538 to 1024 to be a multiple of `config.attention_window`: 512\n",
      "\n",
      "322it [01:47,  2.73it/s]\u001B[A\n",
      "323it [01:47,  2.65it/s]\u001B[A\n",
      "324it [01:48,  2.98it/s]\u001B[A\n",
      "325it [01:48,  3.30it/s]\u001B[AInput ids are automatically padded from 787 to 1024 to be a multiple of `config.attention_window`: 512\n",
      "\n",
      "326it [01:48,  2.94it/s]\u001B[A\n",
      "327it [01:49,  2.83it/s]\u001B[AInput ids are automatically padded from 607 to 1024 to be a multiple of `config.attention_window`: 512\n",
      "\n",
      "328it [01:49,  2.77it/s]\u001B[AInput ids are automatically padded from 448 to 512 to be a multiple of `config.attention_window`: 512\n",
      "\n",
      "329it [01:49,  3.11it/s]\u001B[A\n",
      "330it [01:49,  3.46it/s]\u001B[A\n",
      "331it [01:50,  3.72it/s]\u001B[AInput ids are automatically padded from 603 to 1024 to be a multiple of `config.attention_window`: 512\n",
      "\n",
      "332it [01:50,  3.33it/s]\u001B[A\n",
      "333it [01:50,  3.11it/s]\u001B[AInput ids are automatically padded from 408 to 512 to be a multiple of `config.attention_window`: 512\n",
      "\n",
      "334it [01:51,  3.44it/s]\u001B[A\n",
      "335it [01:51,  3.14it/s]\u001B[A\n",
      "336it [01:51,  2.96it/s]\u001B[AInput ids are automatically padded from 798 to 1024 to be a multiple of `config.attention_window`: 512\n",
      "\n",
      "337it [01:52,  2.86it/s]\u001B[AInput ids are automatically padded from 768 to 1024 to be a multiple of `config.attention_window`: 512\n",
      "\n",
      "338it [01:52,  2.81it/s]\u001B[AInput ids are automatically padded from 271 to 512 to be a multiple of `config.attention_window`: 512\n",
      "\n",
      "339it [01:52,  3.18it/s]\u001B[AInput ids are automatically padded from 209 to 512 to be a multiple of `config.attention_window`: 512\n",
      "\n",
      "340it [01:53,  3.43it/s]\u001B[A\n",
      "341it [01:53,  4.12it/s]\u001B[AInput ids are automatically padded from 799 to 1024 to be a multiple of `config.attention_window`: 512\n",
      "\n",
      "342it [01:53,  3.49it/s]\u001B[AInput ids are automatically padded from 728 to 1024 to be a multiple of `config.attention_window`: 512\n",
      "\n",
      "343it [01:54,  3.18it/s]\u001B[AInput ids are automatically padded from 253 to 512 to be a multiple of `config.attention_window`: 512\n",
      "\n",
      "344it [01:54,  3.50it/s]\u001B[AInput ids are automatically padded from 376 to 512 to be a multiple of `config.attention_window`: 512\n",
      "\n",
      "345it [01:54,  3.76it/s]\u001B[A\n",
      "346it [01:54,  3.36it/s]\u001B[A\n",
      "347it [01:55,  3.67it/s]\u001B[AInput ids are automatically padded from 396 to 512 to be a multiple of `config.attention_window`: 512\n",
      "\n",
      "348it [01:55,  3.91it/s]\u001B[A\n",
      "349it [01:55,  4.13it/s]\u001B[A\n",
      "350it [01:55,  4.27it/s]\u001B[A\n",
      "351it [01:55,  4.22it/s]\u001B[A\n",
      "352it [01:56,  4.88it/s]\u001B[AInput ids are automatically padded from 274 to 512 to be a multiple of `config.attention_window`: 512\n",
      "\n",
      "353it [01:56,  4.81it/s]\u001B[A\n",
      "354it [01:56,  4.78it/s]\u001B[AInput ids are automatically padded from 554 to 1024 to be a multiple of `config.attention_window`: 512\n",
      "\n",
      "355it [01:56,  3.88it/s]\u001B[A\n",
      "356it [01:57,  3.42it/s]\u001B[A\n",
      "357it [01:57,  3.14it/s]\u001B[A\n",
      "358it [01:58,  2.88it/s]\u001B[AInput ids are automatically padded from 382 to 512 to be a multiple of `config.attention_window`: 512\n",
      "\n",
      "359it [01:58,  3.23it/s]\u001B[A\n",
      "360it [01:58,  3.05it/s]\u001B[AInput ids are automatically padded from 243 to 512 to be a multiple of `config.attention_window`: 512\n",
      "\n",
      "361it [01:58,  3.37it/s]\u001B[AInput ids are automatically padded from 254 to 512 to be a multiple of `config.attention_window`: 512\n",
      "\n",
      "362it [01:59,  3.65it/s]\u001B[AInput ids are automatically padded from 735 to 1024 to be a multiple of `config.attention_window`: 512\n",
      "\n",
      "363it [01:59,  3.27it/s]\u001B[AInput ids are automatically padded from 605 to 1024 to be a multiple of `config.attention_window`: 512\n",
      "\n",
      "364it [01:59,  3.03it/s]\u001B[A\n",
      "365it [02:00,  2.90it/s]\u001B[A\n",
      "366it [02:00,  2.80it/s]\u001B[AInput ids are automatically padded from 573 to 1024 to be a multiple of `config.attention_window`: 512\n",
      "\n",
      "367it [02:00,  2.77it/s]\u001B[A\n",
      "368it [02:01,  3.15it/s]\u001B[AInput ids are automatically padded from 238 to 512 to be a multiple of `config.attention_window`: 512\n",
      "\n",
      "369it [02:01,  3.44it/s]\u001B[A\n",
      "370it [02:01,  3.18it/s]\u001B[AInput ids are automatically padded from 421 to 512 to be a multiple of `config.attention_window`: 512\n",
      "\n",
      "371it [02:02,  3.51it/s]\u001B[A\n",
      "372it [02:02,  3.22it/s]\u001B[AInput ids are automatically padded from 716 to 1024 to be a multiple of `config.attention_window`: 512\n",
      "\n",
      "373it [02:02,  3.02it/s]\u001B[AInput ids are automatically padded from 298 to 512 to be a multiple of `config.attention_window`: 512\n",
      "\n",
      "374it [02:02,  3.36it/s]\u001B[A\n",
      "375it [02:03,  3.12it/s]\u001B[A\n",
      "376it [02:03,  3.41it/s]\u001B[AInput ids are automatically padded from 804 to 1024 to be a multiple of `config.attention_window`: 512\n",
      "\n",
      "377it [02:03,  3.11it/s]\u001B[AInput ids are automatically padded from 872 to 1024 to be a multiple of `config.attention_window`: 512\n",
      "\n",
      "378it [02:04,  2.96it/s]\u001B[A\n",
      "379it [02:04,  3.31it/s]\u001B[A\n",
      "380it [02:04,  3.07it/s]\u001B[A\n",
      "381it [02:05,  3.41it/s]\u001B[AInput ids are automatically padded from 422 to 512 to be a multiple of `config.attention_window`: 512\n",
      "\n",
      "382it [02:05,  3.66it/s]\u001B[A\n",
      "383it [02:05,  3.26it/s]\u001B[AInput ids are automatically padded from 925 to 1024 to be a multiple of `config.attention_window`: 512\n",
      "\n",
      "384it [02:06,  3.04it/s]\u001B[AInput ids are automatically padded from 405 to 512 to be a multiple of `config.attention_window`: 512\n",
      "\n",
      "385it [02:06,  3.37it/s]\u001B[A\n",
      "386it [02:06,  3.10it/s]\u001B[AInput ids are automatically padded from 257 to 512 to be a multiple of `config.attention_window`: 512\n",
      "\n",
      "387it [02:06,  3.41it/s]\u001B[AInput ids are automatically padded from 713 to 1024 to be a multiple of `config.attention_window`: 512\n",
      "\n",
      "388it [02:07,  3.15it/s]\u001B[AInput ids are automatically padded from 203 to 512 to be a multiple of `config.attention_window`: 512\n",
      "\n",
      "389it [02:07,  3.46it/s]\u001B[A\n",
      "390it [02:07,  3.19it/s]\u001B[AInput ids are automatically padded from 444 to 512 to be a multiple of `config.attention_window`: 512\n",
      "\n",
      "391it [02:08,  3.51it/s]\u001B[AInput ids are automatically padded from 289 to 512 to be a multiple of `config.attention_window`: 512\n",
      "\n",
      "392it [02:08,  3.75it/s]\u001B[A\n",
      "393it [02:08,  3.35it/s]\u001B[AInput ids are automatically padded from 571 to 1024 to be a multiple of `config.attention_window`: 512\n",
      "\n",
      "394it [02:09,  3.09it/s]\u001B[AInput ids are automatically padded from 673 to 1024 to be a multiple of `config.attention_window`: 512\n",
      "\n",
      "395it [02:09,  2.93it/s]\u001B[A\n",
      "396it [02:09,  2.86it/s]\u001B[AInput ids are automatically padded from 566 to 1024 to be a multiple of `config.attention_window`: 512\n",
      "\n",
      "397it [02:10,  2.80it/s]\u001B[AInput ids are automatically padded from 362 to 512 to be a multiple of `config.attention_window`: 512\n",
      "\n",
      "398it [02:10,  3.15it/s]\u001B[AInput ids are automatically padded from 940 to 1024 to be a multiple of `config.attention_window`: 512\n",
      "\n",
      "399it [02:10,  2.98it/s]\u001B[A\n",
      "400it [02:11,  3.28it/s]\u001B[AInput ids are automatically padded from 736 to 1024 to be a multiple of `config.attention_window`: 512\n",
      "\n",
      "401it [02:11,  3.00it/s]\u001B[AInput ids are automatically padded from 526 to 1024 to be a multiple of `config.attention_window`: 512\n",
      "\n",
      "402it [02:11,  2.86it/s]\u001B[AInput ids are automatically padded from 492 to 512 to be a multiple of `config.attention_window`: 512\n",
      "\n",
      "403it [02:12,  3.18it/s]\u001B[A\n",
      "404it [02:12,  3.01it/s]\u001B[A\n",
      "405it [02:12,  3.36it/s]\u001B[AInput ids are automatically padded from 424 to 512 to be a multiple of `config.attention_window`: 512\n",
      "\n",
      "406it [02:12,  3.67it/s]\u001B[AInput ids are automatically padded from 240 to 512 to be a multiple of `config.attention_window`: 512\n",
      "\n",
      "407it [02:13,  3.87it/s]\u001B[AInput ids are automatically padded from 771 to 1024 to be a multiple of `config.attention_window`: 512\n",
      "\n",
      "408it [02:13,  3.37it/s]\u001B[AInput ids are automatically padded from 479 to 512 to be a multiple of `config.attention_window`: 512\n",
      "\n",
      "409it [02:13,  3.61it/s]\u001B[AInput ids are automatically padded from 892 to 1024 to be a multiple of `config.attention_window`: 512\n",
      "\n",
      "410it [02:14,  3.27it/s]\u001B[AInput ids are automatically padded from 278 to 512 to be a multiple of `config.attention_window`: 512\n",
      "\n",
      "411it [02:14,  3.53it/s]\u001B[AInput ids are automatically padded from 1018 to 1024 to be a multiple of `config.attention_window`: 512\n",
      "\n",
      "412it [02:14,  3.20it/s]\u001B[A\n",
      "413it [02:14,  3.52it/s]\u001B[A\n",
      "414it [02:15,  3.62it/s]\u001B[AInput ids are automatically padded from 862 to 1024 to be a multiple of `config.attention_window`: 512\n",
      "\n",
      "415it [02:15,  3.26it/s]\u001B[A\n",
      "416it [02:15,  3.54it/s]\u001B[AInput ids are automatically padded from 402 to 512 to be a multiple of `config.attention_window`: 512\n",
      "\n",
      "417it [02:16,  3.79it/s]\u001B[AInput ids are automatically padded from 394 to 512 to be a multiple of `config.attention_window`: 512\n",
      "\n",
      "418it [02:16,  3.98it/s]\u001B[A\n",
      "419it [02:16,  3.49it/s]\u001B[AInput ids are automatically padded from 269 to 512 to be a multiple of `config.attention_window`: 512\n",
      "\n",
      "420it [02:16,  3.73it/s]\u001B[A\n",
      "421it [02:17,  3.28it/s]\u001B[A\n",
      "422it [02:17,  3.05it/s]\u001B[AInput ids are automatically padded from 601 to 1024 to be a multiple of `config.attention_window`: 512\n",
      "\n",
      "423it [02:18,  2.92it/s]\u001B[A\n",
      "424it [02:18,  2.81it/s]\u001B[AInput ids are automatically padded from 403 to 512 to be a multiple of `config.attention_window`: 512\n",
      "\n",
      "425it [02:18,  3.19it/s]\u001B[A\n",
      "426it [02:18,  3.48it/s]\u001B[AInput ids are automatically padded from 699 to 1024 to be a multiple of `config.attention_window`: 512\n",
      "\n",
      "427it [02:19,  3.16it/s]\u001B[AInput ids are automatically padded from 964 to 1024 to be a multiple of `config.attention_window`: 512\n",
      "\n",
      "428it [02:19,  2.99it/s]\u001B[A\n",
      "429it [02:19,  2.90it/s]\u001B[AInput ids are automatically padded from 747 to 1024 to be a multiple of `config.attention_window`: 512\n",
      "\n",
      "430it [02:20,  2.82it/s]\u001B[AInput ids are automatically padded from 337 to 512 to be a multiple of `config.attention_window`: 512\n",
      "\n",
      "431it [02:20,  3.19it/s]\u001B[AInput ids are automatically padded from 737 to 1024 to be a multiple of `config.attention_window`: 512\n",
      "\n",
      "432it [02:20,  3.00it/s]\u001B[AInput ids are automatically padded from 260 to 512 to be a multiple of `config.attention_window`: 512\n",
      "\n",
      "433it [02:21,  3.35it/s]\u001B[A\n",
      "434it [02:21,  3.66it/s]\u001B[A\n",
      "435it [02:21,  3.88it/s]\u001B[AInput ids are automatically padded from 547 to 1024 to be a multiple of `config.attention_window`: 512\n",
      "\n",
      "436it [02:21,  3.40it/s]\u001B[A\n",
      "437it [02:22,  3.69it/s]\u001B[A\n",
      "438it [02:22,  3.94it/s]\u001B[AInput ids are automatically padded from 335 to 512 to be a multiple of `config.attention_window`: 512\n",
      "\n",
      "439it [02:22,  4.09it/s]\u001B[AInput ids are automatically padded from 772 to 1024 to be a multiple of `config.attention_window`: 512\n",
      "\n",
      "440it [02:23,  3.55it/s]\u001B[A\n",
      "441it [02:23,  3.77it/s]\u001B[AInput ids are automatically padded from 1002 to 1024 to be a multiple of `config.attention_window`: 512\n",
      "\n",
      "442it [02:23,  3.37it/s]\u001B[A\n",
      "443it [02:23,  3.64it/s]\u001B[AInput ids are automatically padded from 825 to 1024 to be a multiple of `config.attention_window`: 512\n",
      "\n",
      "444it [02:24,  3.26it/s]\u001B[AInput ids are automatically padded from 838 to 1024 to be a multiple of `config.attention_window`: 512\n",
      "\n",
      "445it [02:24,  3.05it/s]\u001B[A\n",
      "446it [02:24,  3.35it/s]\u001B[AInput ids are automatically padded from 876 to 1024 to be a multiple of `config.attention_window`: 512\n",
      "\n",
      "447it [02:25,  3.05it/s]\u001B[A\n",
      "448it [02:25,  2.76it/s]\u001B[A\n",
      "449it [02:25,  3.11it/s]\u001B[A\n",
      "450it [02:26,  2.96it/s]\u001B[AInput ids are automatically padded from 658 to 1024 to be a multiple of `config.attention_window`: 512\n",
      "\n",
      "451it [02:26,  2.85it/s]\u001B[AInput ids are automatically padded from 684 to 1024 to be a multiple of `config.attention_window`: 512\n",
      "\n",
      "452it [02:27,  2.75it/s]\u001B[A\n",
      "453it [02:27,  2.73it/s]\u001B[A\n",
      "454it [02:27,  3.10it/s]\u001B[AInput ids are automatically padded from 628 to 1024 to be a multiple of `config.attention_window`: 512\n",
      "\n",
      "455it [02:28,  2.94it/s]\u001B[AInput ids are automatically padded from 625 to 1024 to be a multiple of `config.attention_window`: 512\n",
      "\n",
      "456it [02:28,  2.81it/s]\u001B[AInput ids are automatically padded from 656 to 1024 to be a multiple of `config.attention_window`: 512\n",
      "\n",
      "457it [02:28,  2.75it/s]\u001B[A\n",
      "458it [02:29,  2.71it/s]\u001B[A\n",
      "459it [02:29,  2.65it/s]\u001B[AInput ids are automatically padded from 827 to 1024 to be a multiple of `config.attention_window`: 512\n",
      "\n",
      "460it [02:29,  2.65it/s]\u001B[AInput ids are automatically padded from 796 to 1024 to be a multiple of `config.attention_window`: 512\n",
      "\n",
      "461it [02:30,  2.66it/s]\u001B[A\n",
      "462it [02:30,  3.04it/s]\u001B[A\n",
      "463it [02:30,  2.93it/s]\u001B[AInput ids are automatically padded from 312 to 512 to be a multiple of `config.attention_window`: 512\n",
      "\n",
      "464it [02:31,  3.23it/s]\u001B[A\n",
      "465it [02:31,  3.06it/s]\u001B[A\n",
      "466it [02:31,  3.39it/s]\u001B[AInput ids are automatically padded from 840 to 1024 to be a multiple of `config.attention_window`: 512\n",
      "\n",
      "467it [02:32,  3.12it/s]\u001B[A\n",
      "468it [02:32,  2.98it/s]\u001B[A\n",
      "469it [02:32,  3.34it/s]\u001B[A\n",
      "470it [02:32,  3.60it/s]\u001B[AInput ids are automatically padded from 361 to 512 to be a multiple of `config.attention_window`: 512\n",
      "\n",
      "471it [02:33,  3.81it/s]\u001B[AInput ids are automatically padded from 570 to 1024 to be a multiple of `config.attention_window`: 512\n",
      "\n",
      "472it [02:33,  3.39it/s]\u001B[A\n",
      "473it [02:33,  3.12it/s]\u001B[A\n",
      "474it [02:34,  2.98it/s]\u001B[A\n",
      "475it [02:34,  2.88it/s]\u001B[AInput ids are automatically padded from 550 to 1024 to be a multiple of `config.attention_window`: 512\n",
      "\n",
      "476it [02:35,  2.82it/s]\u001B[A\n",
      "477it [02:35,  3.18it/s]\u001B[AInput ids are automatically padded from 727 to 1024 to be a multiple of `config.attention_window`: 512\n",
      "\n",
      "478it [02:35,  3.02it/s]\u001B[AInput ids are automatically padded from 674 to 1024 to be a multiple of `config.attention_window`: 512\n",
      "\n",
      "479it [02:35,  2.87it/s]\u001B[A\n",
      "480it [02:36,  2.77it/s]\u001B[A\n",
      "481it [02:36,  2.72it/s]\u001B[A\n",
      "482it [02:36,  3.06it/s]\u001B[A\n",
      "483it [02:37,  3.40it/s]\u001B[AInput ids are automatically padded from 360 to 512 to be a multiple of `config.attention_window`: 512\n",
      "\n",
      "484it [02:37,  3.68it/s]\u001B[AInput ids are automatically padded from 452 to 512 to be a multiple of `config.attention_window`: 512\n",
      "\n",
      "485it [02:37,  3.91it/s]\u001B[AInput ids are automatically padded from 493 to 512 to be a multiple of `config.attention_window`: 512\n",
      "\n",
      "486it [02:37,  4.09it/s]\u001B[A\n",
      "487it [02:38,  3.53it/s]\u001B[AInput ids are automatically padded from 705 to 1024 to be a multiple of `config.attention_window`: 512\n",
      "\n",
      "488it [02:38,  3.21it/s]\u001B[AInput ids are automatically padded from 340 to 512 to be a multiple of `config.attention_window`: 512\n",
      "\n",
      "489it [02:38,  3.51it/s]\u001B[AInput ids are automatically padded from 404 to 512 to be a multiple of `config.attention_window`: 512\n",
      "\n",
      "490it [02:39,  3.72it/s]\u001B[AInput ids are automatically padded from 449 to 512 to be a multiple of `config.attention_window`: 512\n",
      "\n",
      "491it [02:39,  3.92it/s]\u001B[A\n",
      "492it [02:39,  4.09it/s]\u001B[A\n",
      "493it [02:39,  3.53it/s]\u001B[A\n",
      "494it [02:40,  3.79it/s]\u001B[A\n",
      "495it [02:40,  3.33it/s]\u001B[A\n",
      "496it [02:40,  3.08it/s]\u001B[AInput ids are automatically padded from 277 to 512 to be a multiple of `config.attention_window`: 512\n",
      "\n",
      "497it [02:41,  3.39it/s]\u001B[AInput ids are automatically padded from 507 to 512 to be a multiple of `config.attention_window`: 512\n",
      "\n",
      "498it [02:41,  3.67it/s]\u001B[AInput ids are automatically padded from 775 to 1024 to be a multiple of `config.attention_window`: 512\n",
      "\n",
      "499it [02:41,  3.27it/s]\u001B[AInput ids are automatically padded from 489 to 512 to be a multiple of `config.attention_window`: 512\n",
      "\n",
      "500it [02:41,  3.09it/s]\u001B[A\n",
      "\n",
      "  0%|          | 0/125 [00:00<?, ?it/s]\u001B[A\n",
      "  1%|          | 1/125 [00:01<02:54,  1.41s/it]\u001B[A\n",
      "  2%|▏         | 2/125 [00:02<02:48,  1.37s/it]\u001B[A\n",
      "  2%|▏         | 3/125 [00:04<02:46,  1.36s/it]\u001B[A\n",
      "  3%|▎         | 4/125 [00:05<02:43,  1.35s/it]\u001B[A\n",
      "  4%|▍         | 5/125 [00:06<02:41,  1.34s/it]\u001B[A\n",
      "  5%|▍         | 6/125 [00:08<02:39,  1.34s/it]\u001B[A\n",
      "  6%|▌         | 7/125 [00:09<02:38,  1.34s/it]\u001B[A\n",
      "  6%|▋         | 8/125 [00:10<02:37,  1.35s/it]\u001B[A\n",
      "  7%|▋         | 9/125 [00:12<02:37,  1.36s/it]\u001B[A\n",
      "  8%|▊         | 10/125 [00:13<02:35,  1.35s/it]\u001B[A\n",
      "  9%|▉         | 11/125 [00:14<02:34,  1.35s/it]\u001B[A\n",
      " 10%|▉         | 12/125 [00:16<02:32,  1.35s/it]\u001B[A\n",
      " 10%|█         | 13/125 [00:17<02:31,  1.35s/it]\u001B[A\n",
      " 11%|█         | 14/125 [00:18<02:29,  1.35s/it]\u001B[A\n",
      " 12%|█▏        | 15/125 [00:20<02:28,  1.35s/it]\u001B[A\n",
      " 13%|█▎        | 16/125 [00:21<02:27,  1.35s/it]\u001B[A\n",
      " 14%|█▎        | 17/125 [00:22<02:25,  1.35s/it]\u001B[A\n",
      " 14%|█▍        | 18/125 [00:24<02:25,  1.36s/it]\u001B[A\n",
      " 15%|█▌        | 19/125 [00:25<02:24,  1.37s/it]\u001B[A\n",
      " 16%|█▌        | 20/125 [00:27<02:23,  1.37s/it]\u001B[A\n",
      " 17%|█▋        | 21/125 [00:28<02:17,  1.32s/it]\u001B[A\n",
      " 18%|█▊        | 22/125 [00:29<02:18,  1.34s/it]\u001B[A\n",
      " 18%|█▊        | 23/125 [00:31<02:17,  1.35s/it]\u001B[A\n",
      " 19%|█▉        | 24/125 [00:32<02:16,  1.35s/it]\u001B[A\n",
      " 20%|██        | 25/125 [00:33<01:57,  1.17s/it]\u001B[A\n",
      " 21%|██        | 26/125 [00:34<02:01,  1.22s/it]\u001B[A\n",
      " 22%|██▏       | 27/125 [00:35<02:03,  1.26s/it]\u001B[A\n",
      " 22%|██▏       | 28/125 [00:37<02:05,  1.30s/it]\u001B[A\n",
      " 23%|██▎       | 29/125 [00:38<02:07,  1.32s/it]\u001B[A\n",
      " 24%|██▍       | 30/125 [00:40<02:06,  1.33s/it]\u001B[A\n",
      " 25%|██▍       | 31/125 [00:41<02:05,  1.34s/it]\u001B[A\n",
      " 26%|██▌       | 32/125 [00:42<02:04,  1.34s/it]\u001B[A\n",
      " 26%|██▋       | 33/125 [00:43<01:44,  1.14s/it]\u001B[A\n",
      " 27%|██▋       | 34/125 [00:44<01:50,  1.21s/it]\u001B[A\n",
      " 28%|██▊       | 35/125 [00:46<01:55,  1.29s/it]\u001B[A\n",
      " 29%|██▉       | 36/125 [00:47<01:59,  1.35s/it]\u001B[A\n",
      " 30%|██▉       | 37/125 [00:49<02:03,  1.40s/it]\u001B[A\n",
      " 30%|███       | 38/125 [00:50<02:01,  1.39s/it]\u001B[A\n",
      " 31%|███       | 39/125 [00:52<02:09,  1.50s/it]\u001B[A\n",
      " 32%|███▏      | 40/125 [00:54<02:34,  1.81s/it]\u001B[A\n",
      " 33%|███▎      | 41/125 [00:57<02:48,  2.00s/it]\u001B[A\n",
      " 34%|███▎      | 42/125 [00:59<02:41,  1.95s/it]\u001B[A\n",
      " 34%|███▍      | 43/125 [01:01<02:55,  2.14s/it]\u001B[A\n",
      " 35%|███▌      | 44/125 [01:03<02:45,  2.04s/it]\u001B[A\n",
      " 36%|███▌      | 45/125 [01:05<02:37,  1.97s/it]\u001B[A\n",
      " 37%|███▋      | 46/125 [01:06<02:20,  1.78s/it]\u001B[A\n",
      " 38%|███▊      | 47/125 [01:08<02:09,  1.66s/it]\u001B[A\n",
      " 38%|███▊      | 48/125 [01:09<02:00,  1.56s/it]\u001B[AInput ids are automatically padded from 439 to 512 to be a multiple of `config.attention_window`: 512\n",
      "\n",
      " 39%|███▉      | 49/125 [01:10<01:40,  1.33s/it]\u001B[A\n",
      " 40%|████      | 50/125 [01:11<01:40,  1.33s/it]\u001B[A\n",
      " 41%|████      | 51/125 [01:12<01:38,  1.33s/it]\u001B[A\n",
      " 42%|████▏     | 52/125 [01:14<01:37,  1.34s/it]\u001B[A\n",
      " 42%|████▏     | 53/125 [01:15<01:36,  1.34s/it]\u001B[A\n",
      " 43%|████▎     | 54/125 [01:16<01:35,  1.34s/it]\u001B[A\n",
      " 44%|████▍     | 55/125 [01:18<01:33,  1.34s/it]\u001B[A\n",
      " 45%|████▍     | 56/125 [01:19<01:32,  1.34s/it]\u001B[AInput ids are automatically padded from 621 to 1024 to be a multiple of `config.attention_window`: 512\n",
      "\n",
      " 46%|████▌     | 57/125 [01:20<01:31,  1.34s/it]\u001B[A\n",
      " 46%|████▋     | 58/125 [01:22<01:29,  1.34s/it]\u001B[A\n",
      " 47%|████▋     | 59/125 [01:23<01:28,  1.34s/it]\u001B[A\n",
      " 48%|████▊     | 60/125 [01:25<01:28,  1.37s/it]\u001B[A\n",
      " 49%|████▉     | 61/125 [01:26<01:27,  1.36s/it]\u001B[A\n",
      " 50%|████▉     | 62/125 [01:27<01:25,  1.36s/it]\u001B[A\n",
      " 50%|█████     | 63/125 [01:29<01:24,  1.36s/it]\u001B[A\n",
      " 51%|█████     | 64/125 [01:30<01:22,  1.35s/it]\u001B[A\n",
      " 52%|█████▏    | 65/125 [01:31<01:20,  1.35s/it]\u001B[A\n",
      " 53%|█████▎    | 66/125 [01:33<01:20,  1.36s/it]\u001B[A\n",
      " 54%|█████▎    | 67/125 [01:34<01:18,  1.35s/it]\u001B[A\n",
      " 54%|█████▍    | 68/125 [01:35<01:17,  1.35s/it]\u001B[A\n",
      " 55%|█████▌    | 69/125 [01:37<01:15,  1.35s/it]\u001B[A\n",
      " 56%|█████▌    | 70/125 [01:38<01:14,  1.35s/it]\u001B[A\n",
      " 57%|█████▋    | 71/125 [01:39<01:12,  1.35s/it]\u001B[A\n",
      " 58%|█████▊    | 72/125 [01:41<01:11,  1.35s/it]\u001B[A\n",
      " 58%|█████▊    | 73/125 [01:42<01:10,  1.35s/it]\u001B[A\n",
      " 59%|█████▉    | 74/125 [01:43<01:08,  1.34s/it]\u001B[A\n",
      " 60%|██████    | 75/125 [01:45<01:07,  1.35s/it]\u001B[A\n",
      " 61%|██████    | 76/125 [01:46<01:05,  1.34s/it]\u001B[A\n",
      " 62%|██████▏   | 77/125 [01:47<01:04,  1.34s/it]\u001B[A\n",
      " 62%|██████▏   | 78/125 [01:49<01:03,  1.35s/it]\u001B[A\n",
      " 63%|██████▎   | 79/125 [01:50<01:01,  1.35s/it]\u001B[A\n",
      " 64%|██████▍   | 80/125 [01:52<01:00,  1.35s/it]\u001B[A\n",
      " 65%|██████▍   | 81/125 [01:53<00:58,  1.34s/it]\u001B[A\n",
      " 66%|██████▌   | 82/125 [01:54<00:50,  1.16s/it]\u001B[A\n",
      " 66%|██████▋   | 83/125 [01:55<00:51,  1.22s/it]\u001B[AInput ids are automatically padded from 640 to 1024 to be a multiple of `config.attention_window`: 512\n",
      "\n",
      " 67%|██████▋   | 84/125 [01:56<00:51,  1.26s/it]\u001B[A\n",
      " 68%|██████▊   | 85/125 [01:58<00:51,  1.29s/it]\u001B[A\n",
      " 69%|██████▉   | 86/125 [01:59<00:50,  1.30s/it]\u001B[A\n",
      " 70%|██████▉   | 87/125 [02:00<00:50,  1.32s/it]\u001B[A\n",
      " 70%|███████   | 88/125 [02:02<00:49,  1.33s/it]\u001B[A\n",
      " 71%|███████   | 89/125 [02:03<00:48,  1.34s/it]\u001B[A\n",
      " 72%|███████▏  | 90/125 [02:04<00:47,  1.35s/it]\u001B[A\n",
      " 73%|███████▎  | 91/125 [02:06<00:48,  1.43s/it]\u001B[A\n",
      " 74%|███████▎  | 92/125 [02:08<00:48,  1.47s/it]\u001B[A\n",
      " 74%|███████▍  | 93/125 [02:09<00:44,  1.40s/it]\u001B[A\n",
      " 75%|███████▌  | 94/125 [02:10<00:43,  1.39s/it]\u001B[A\n",
      " 76%|███████▌  | 95/125 [02:12<00:42,  1.42s/it]\u001B[A\n",
      " 77%|███████▋  | 96/125 [02:13<00:40,  1.40s/it]\u001B[A\n",
      " 78%|███████▊  | 97/125 [02:14<00:39,  1.40s/it]\u001B[A\n",
      " 78%|███████▊  | 98/125 [02:16<00:37,  1.39s/it]\u001B[A\n",
      " 79%|███████▉  | 99/125 [02:17<00:36,  1.39s/it]\u001B[A\n",
      " 80%|████████  | 100/125 [02:19<00:34,  1.39s/it]\u001B[A\n",
      " 81%|████████  | 101/125 [02:20<00:33,  1.38s/it]\u001B[A\n",
      " 82%|████████▏ | 102/125 [02:21<00:31,  1.38s/it]\u001B[A\n",
      " 82%|████████▏ | 103/125 [02:23<00:30,  1.37s/it]\u001B[A\n",
      " 83%|████████▎ | 104/125 [02:24<00:28,  1.37s/it]\u001B[A\n",
      " 84%|████████▍ | 105/125 [02:25<00:27,  1.37s/it]\u001B[A\n",
      " 85%|████████▍ | 106/125 [02:27<00:26,  1.37s/it]\u001B[A\n",
      " 86%|████████▌ | 107/125 [02:28<00:24,  1.37s/it]\u001B[AInput ids are automatically padded from 801 to 1024 to be a multiple of `config.attention_window`: 512\n",
      "\n",
      " 86%|████████▋ | 108/125 [02:30<00:23,  1.37s/it]\u001B[A\n",
      " 87%|████████▋ | 109/125 [02:31<00:21,  1.37s/it]\u001B[A\n",
      " 88%|████████▊ | 110/125 [02:32<00:20,  1.37s/it]\u001B[A\n",
      " 89%|████████▉ | 111/125 [02:34<00:19,  1.38s/it]\u001B[A\n",
      " 90%|████████▉ | 112/125 [02:35<00:17,  1.38s/it]\u001B[A\n",
      " 90%|█████████ | 113/125 [02:36<00:16,  1.38s/it]\u001B[A\n",
      " 91%|█████████ | 114/125 [02:38<00:15,  1.38s/it]\u001B[AInput ids are automatically padded from 822 to 1024 to be a multiple of `config.attention_window`: 512\n",
      "\n",
      " 92%|█████████▏| 115/125 [02:39<00:13,  1.37s/it]\u001B[A\n",
      " 93%|█████████▎| 116/125 [02:41<00:12,  1.38s/it]\u001B[A\n",
      " 94%|█████████▎| 117/125 [02:42<00:11,  1.40s/it]\u001B[A\n",
      " 94%|█████████▍| 118/125 [02:43<00:09,  1.41s/it]\u001B[A\n",
      " 95%|█████████▌| 119/125 [02:45<00:08,  1.43s/it]\u001B[A\n",
      " 96%|█████████▌| 120/125 [02:46<00:07,  1.43s/it]\u001B[A\n",
      " 97%|█████████▋| 121/125 [02:48<00:05,  1.43s/it]\u001B[A\n",
      " 98%|█████████▊| 122/125 [02:49<00:04,  1.44s/it]\u001B[A\n",
      " 98%|█████████▊| 123/125 [02:51<00:02,  1.45s/it]\u001B[A\n",
      " 99%|█████████▉| 124/125 [02:52<00:01,  1.45s/it]\u001B[A\n",
      "100%|██████████| 125/125 [02:54<00:00,  1.39s/it]\u001B[A\n",
      "100%|██████████| 1/1 [05:36<00:00, 336.59s/it]"
     ]
    },
    {
     "name": "stdout",
     "output_type": "stream",
     "text": [
      "Current auc 0.8135181704260652\n",
      "Best auc 0.8135181704260652\n",
      "Current auprc 0.43146713855962804\n",
      "Best auprc 0.43146713855962804\n",
      "Current f1 0.3333333333333333\n",
      "Best f1 0.3333333333333333\n"
     ]
    },
    {
     "name": "stderr",
     "output_type": "stream",
     "text": [
      "\n"
     ]
    }
   ],
   "source": [
    "if args.modeltype == 'TS':\n",
    "        optimizer = torch.optim.Adam(model.parameters(), lr=args.ts_learning_rate)\n",
    "elif args.modeltype == 'Text' or args.modeltype == 'TS_Text':\n",
    "    optimizer = torch.optim.Adam([\n",
    "        {'params': [p for n, p in model.named_parameters() if 'bert' not in n]},\n",
    "        {'params': [p for n, p in model.named_parameters() if 'bert' in n], 'lr': args.txt_learning_rate}\n",
    "    ], lr=args.ts_learning_rate)\n",
    "else:\n",
    "    raise ValueError(\"Unknown modeltype in optimizer.\")\n",
    "\n",
    "model, optimizer, train_dataloader, val_dataloader, test_data_loader = \\\n",
    "    accelerator.prepare(model, optimizer, train_dataloader, val_dataloader, test_data_loader)\n",
    "\n",
    "trainer_irg(model=model, args=args, accelerator=accelerator, train_dataloader=train_dataloader, \\\n",
    "            dev_dataloader=val_dataloader, test_data_loader=test_data_loader, device=device, \\\n",
    "            optimizer=optimizer, writer=writer)"
   ]
  },
  {
   "cell_type": "markdown",
   "id": "14bec66f34abf3c5",
   "metadata": {
    "collapsed": false
   },
   "source": [
    "# Evaluate"
   ]
  },
  {
   "cell_type": "code",
   "execution_count": 20,
   "id": "84ab0794ced7c8d7",
   "metadata": {
    "collapsed": false,
    "ExecuteTime": {
     "end_time": "2024-04-14T04:58:27.878930471Z",
     "start_time": "2024-04-14T04:55:44.334442502Z"
    }
   },
   "outputs": [
    {
     "name": "stdout",
     "output_type": "stream",
     "text": [
      "run/TS_Text/ihm/TS_Text/TS_48/Atten/Text_48/bioLongformer/1024/cross_attn3/irregular_TS_64/irregular_Text_64/5e-05_2_3_0.0004_1_8_128_1_2/f1/42.pth.tar\n"
     ]
    },
    {
     "name": "stderr",
     "output_type": "stream",
     "text": [
      "  1%|          | 1/125 [00:01<02:53,  1.40s/it]Input ids are automatically padded from 504 to 512 to be a multiple of `config.attention_window`: 512\n",
      "  2%|▏         | 3/125 [00:03<02:23,  1.17s/it]Input ids are automatically padded from 681 to 1024 to be a multiple of `config.attention_window`: 512\n",
      "  5%|▍         | 6/125 [00:07<02:37,  1.32s/it]Input ids are automatically padded from 788 to 1024 to be a multiple of `config.attention_window`: 512\n",
      "  6%|▌         | 7/125 [00:08<02:36,  1.33s/it]Input ids are automatically padded from 794 to 1024 to be a multiple of `config.attention_window`: 512\n",
      "  6%|▋         | 8/125 [00:10<02:36,  1.34s/it]Input ids are automatically padded from 770 to 1024 to be a multiple of `config.attention_window`: 512\n",
      "  7%|▋         | 9/125 [00:11<02:35,  1.34s/it]Input ids are automatically padded from 817 to 1024 to be a multiple of `config.attention_window`: 512\n",
      " 10%|▉         | 12/125 [00:15<02:32,  1.35s/it]Input ids are automatically padded from 606 to 1024 to be a multiple of `config.attention_window`: 512\n",
      " 10%|█         | 13/125 [00:17<02:31,  1.35s/it]Input ids are automatically padded from 813 to 1024 to be a multiple of `config.attention_window`: 512\n",
      " 13%|█▎        | 16/125 [00:21<02:26,  1.35s/it]Input ids are automatically padded from 779 to 1024 to be a multiple of `config.attention_window`: 512\n",
      " 14%|█▍        | 18/125 [00:23<02:24,  1.35s/it]Input ids are automatically padded from 732 to 1024 to be a multiple of `config.attention_window`: 512\n",
      " 16%|█▌        | 20/125 [00:26<02:21,  1.35s/it]Input ids are automatically padded from 841 to 1024 to be a multiple of `config.attention_window`: 512\n",
      " 17%|█▋        | 21/125 [00:27<02:19,  1.34s/it]Input ids are automatically padded from 494 to 512 to be a multiple of `config.attention_window`: 512\n",
      " 21%|██        | 26/125 [00:33<02:08,  1.30s/it]Input ids are automatically padded from 1020 to 1024 to be a multiple of `config.attention_window`: 512\n",
      " 22%|██▏       | 27/125 [00:35<02:10,  1.33s/it]Input ids are automatically padded from 807 to 1024 to be a multiple of `config.attention_window`: 512\n",
      " 24%|██▍       | 30/125 [00:39<02:07,  1.34s/it]Input ids are automatically padded from 701 to 1024 to be a multiple of `config.attention_window`: 512\n",
      " 27%|██▋       | 34/125 [00:44<02:02,  1.34s/it]Input ids are automatically padded from 915 to 1024 to be a multiple of `config.attention_window`: 512\n",
      " 28%|██▊       | 35/125 [00:46<02:01,  1.35s/it]Input ids are automatically padded from 746 to 1024 to be a multiple of `config.attention_window`: 512\n",
      " 29%|██▉       | 36/125 [00:47<01:59,  1.35s/it]Input ids are automatically padded from 623 to 1024 to be a multiple of `config.attention_window`: 512\n",
      " 30%|███       | 38/125 [00:50<01:56,  1.34s/it]Input ids are automatically padded from 691 to 1024 to be a multiple of `config.attention_window`: 512\n",
      " 33%|███▎      | 41/125 [00:54<01:52,  1.34s/it]Input ids are automatically padded from 711 to 1024 to be a multiple of `config.attention_window`: 512\n",
      " 37%|███▋      | 46/125 [01:01<01:53,  1.44s/it]Input ids are automatically padded from 797 to 1024 to be a multiple of `config.attention_window`: 512\n",
      " 39%|███▉      | 49/125 [01:05<01:43,  1.37s/it]Input ids are automatically padded from 743 to 1024 to be a multiple of `config.attention_window`: 512\n",
      " 40%|████      | 50/125 [01:07<01:41,  1.36s/it]Input ids are automatically padded from 657 to 1024 to be a multiple of `config.attention_window`: 512\n",
      " 44%|████▍     | 55/125 [01:13<01:33,  1.33s/it]Input ids are automatically padded from 820 to 1024 to be a multiple of `config.attention_window`: 512\n",
      " 45%|████▍     | 56/125 [01:14<01:31,  1.33s/it]Input ids are automatically padded from 633 to 1024 to be a multiple of `config.attention_window`: 512\n",
      " 46%|████▋     | 58/125 [01:17<01:30,  1.35s/it]Input ids are automatically padded from 739 to 1024 to be a multiple of `config.attention_window`: 512\n",
      " 47%|████▋     | 59/125 [01:19<01:28,  1.35s/it]Input ids are automatically padded from 823 to 1024 to be a multiple of `config.attention_window`: 512\n",
      " 48%|████▊     | 60/125 [01:20<01:27,  1.34s/it]Input ids are automatically padded from 939 to 1024 to be a multiple of `config.attention_window`: 512\n",
      " 51%|█████     | 64/125 [01:25<01:21,  1.34s/it]Input ids are automatically padded from 956 to 1024 to be a multiple of `config.attention_window`: 512\n",
      " 52%|█████▏    | 65/125 [01:27<01:20,  1.34s/it]Input ids are automatically padded from 866 to 1024 to be a multiple of `config.attention_window`: 512\n",
      " 55%|█████▌    | 69/125 [01:32<01:14,  1.33s/it]Input ids are automatically padded from 649 to 1024 to be a multiple of `config.attention_window`: 512\n",
      " 62%|██████▏   | 77/125 [01:42<01:02,  1.30s/it]Input ids are automatically padded from 639 to 1024 to be a multiple of `config.attention_window`: 512\n",
      " 66%|██████▋   | 83/125 [01:49<00:51,  1.23s/it]Input ids are automatically padded from 703 to 1024 to be a multiple of `config.attention_window`: 512\n",
      " 67%|██████▋   | 84/125 [01:50<00:51,  1.26s/it]Input ids are automatically padded from 668 to 1024 to be a multiple of `config.attention_window`: 512\n",
      " 68%|██████▊   | 85/125 [01:52<00:51,  1.28s/it]Input ids are automatically padded from 671 to 1024 to be a multiple of `config.attention_window`: 512\n",
      " 70%|██████▉   | 87/125 [01:54<00:49,  1.30s/it]Input ids are automatically padded from 815 to 1024 to be a multiple of `config.attention_window`: 512\n",
      " 70%|███████   | 88/125 [01:56<00:48,  1.31s/it]Input ids are automatically padded from 478 to 512 to be a multiple of `config.attention_window`: 512\n",
      " 71%|███████   | 89/125 [01:56<00:40,  1.14s/it]Input ids are automatically padded from 622 to 1024 to be a multiple of `config.attention_window`: 512\n",
      " 74%|███████▍  | 93/125 [02:01<00:38,  1.20s/it]Input ids are automatically padded from 847 to 1024 to be a multiple of `config.attention_window`: 512\n",
      " 75%|███████▌  | 94/125 [02:03<00:38,  1.23s/it]Input ids are automatically padded from 562 to 1024 to be a multiple of `config.attention_window`: 512\n",
      " 76%|███████▌  | 95/125 [02:04<00:37,  1.26s/it]Input ids are automatically padded from 695 to 1024 to be a multiple of `config.attention_window`: 512\n",
      " 78%|███████▊  | 97/125 [02:06<00:36,  1.29s/it]Input ids are automatically padded from 654 to 1024 to be a multiple of `config.attention_window`: 512\n",
      " 79%|███████▉  | 99/125 [02:09<00:33,  1.30s/it]Input ids are automatically padded from 869 to 1024 to be a multiple of `config.attention_window`: 512\n",
      " 80%|████████  | 100/125 [02:10<00:32,  1.31s/it]Input ids are automatically padded from 517 to 1024 to be a multiple of `config.attention_window`: 512\n",
      " 81%|████████  | 101/125 [02:12<00:31,  1.32s/it]Input ids are automatically padded from 750 to 1024 to be a multiple of `config.attention_window`: 512\n",
      " 83%|████████▎ | 104/125 [02:16<00:27,  1.32s/it]Input ids are automatically padded from 773 to 1024 to be a multiple of `config.attention_window`: 512\n",
      " 84%|████████▍ | 105/125 [02:17<00:26,  1.32s/it]Input ids are automatically padded from 715 to 1024 to be a multiple of `config.attention_window`: 512\n",
      " 89%|████████▉ | 111/125 [02:25<00:18,  1.32s/it]Input ids are automatically padded from 902 to 1024 to be a multiple of `config.attention_window`: 512\n",
      " 91%|█████████ | 114/125 [02:29<00:14,  1.32s/it]Input ids are automatically padded from 597 to 1024 to be a multiple of `config.attention_window`: 512\n",
      " 92%|█████████▏| 115/125 [02:30<00:13,  1.32s/it]Input ids are automatically padded from 630 to 1024 to be a multiple of `config.attention_window`: 512\n",
      " 93%|█████████▎| 116/125 [02:32<00:11,  1.32s/it]Input ids are automatically padded from 572 to 1024 to be a multiple of `config.attention_window`: 512\n",
      " 95%|█████████▌| 119/125 [02:35<00:07,  1.32s/it]Input ids are automatically padded from 546 to 1024 to be a multiple of `config.attention_window`: 512\n",
      " 96%|█████████▌| 120/125 [02:37<00:06,  1.32s/it]Input ids are automatically padded from 670 to 1024 to be a multiple of `config.attention_window`: 512\n",
      "100%|██████████| 125/125 [02:43<00:00,  1.31s/it]\n"
     ]
    }
   ],
   "source": [
    "eval_test(args, model, test_data_loader, device)"
   ]
  },
  {
   "cell_type": "markdown",
   "id": "b8d6425b8566db17",
   "metadata": {
    "collapsed": false
   },
   "source": [
    "## Load evaluation result\n",
    "\n",
    "the performance of proposed methods and baselines are measured by the F1, AUPR, and AUROC"
   ]
  },
  {
   "cell_type": "code",
   "execution_count": 21,
   "id": "7ea38aee8aebeaf7",
   "metadata": {
    "collapsed": false,
    "ExecuteTime": {
     "end_time": "2024-04-14T04:58:27.888931832Z",
     "start_time": "2024-04-14T04:58:27.879629119Z"
    }
   },
   "outputs": [
    {
     "name": "stdout",
     "output_type": "stream",
     "text": [
      "{42: {'auc': {'val': 0.810515873015873, 'test': 0.7848548510313216}, 'auprc': {'val': 0.4289431341236658, 'test': 0.3591747714196729}, 'f1': {'val': 0.35051546391752575, 'test': 0.2692307692307692}}}\n"
     ]
    }
   ],
   "source": [
    "for result_file in os.listdir(args.ck_file_path):\n",
    "    if 'result.pkl' in result_file:\n",
    "        eval_result_path = args.ck_file_path + result_file\n",
    "        # print(eval_result_path)\n",
    "        with open(eval_result_path,'rb') as f:\n",
    "            evaluation_result = pickle.load(f)\n",
    "            print(evaluation_result)"
   ]
  },
  {
   "cell_type": "markdown",
   "id": "b56f98a4705268e3",
   "metadata": {
    "collapsed": false
   },
   "source": [
    "# Conclusion\n",
    "\n",
    "Since for the demonstration we only used 1000 sample for 1 epoch, and we fill in dummy data for entry with missing value, we could not achieve the same result as the paper describe.\n",
    "\n",
    "We plan to further furnish the code and run on the full sample data with more epoch, to see if we could get the result as the paper describe."
   ]
  }
 ],
 "metadata": {
  "kernelspec": {
   "display_name": "Python 3 (ipykernel)",
   "language": "python",
   "name": "python3"
  },
  "language_info": {
   "codemirror_mode": {
    "name": "ipython",
    "version": 3
   },
   "file_extension": ".py",
   "mimetype": "text/x-python",
   "name": "python",
   "nbconvert_exporter": "python",
   "pygments_lexer": "ipython3",
   "version": "3.11.7"
  }
 },
 "nbformat": 4,
 "nbformat_minor": 5
}
