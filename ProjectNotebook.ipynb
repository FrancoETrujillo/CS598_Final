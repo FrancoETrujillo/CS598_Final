{
 "cells": [
  {
   "cell_type": "code",
   "execution_count": 54,
   "id": "c3a2a62280b2b116",
   "metadata": {
    "ExecuteTime": {
     "end_time": "2024-04-13T20:00:31.887201160Z",
     "start_time": "2024-04-13T20:00:31.779502882Z"
    },
    "collapsed": false,
    "jupyter": {
     "outputs_hidden": false
    },
    "scrolled": true
   },
   "outputs": [
    {
     "name": "stdout",
     "output_type": "stream",
     "text": [
      "The autoreload extension is already loaded. To reload it, use:\n",
      "  %reload_ext autoreload\n"
     ]
    }
   ],
   "source": [
    "%load_ext autoreload\n",
    "%autoreload 2"
   ]
  },
  {
   "cell_type": "markdown",
   "id": "f954d686b0a84023",
   "metadata": {
    "collapsed": false,
    "jupyter": {
     "outputs_hidden": false
    }
   },
   "source": [
    "# Improving Medical Predictions by Irregular Multimodal Electronic Health Records Modeling"
   ]
  },
  {
   "cell_type": "markdown",
   "id": "b51b40d117099b4b",
   "metadata": {
    "collapsed": false,
    "jupyter": {
     "outputs_hidden": false
    }
   },
   "source": [
    "# Introduction\n",
    "This paper pretends to address the challenges of handling irregularity and the integration of multimodal data for medical prediction tasks.\n",
    "\n",
    "## Background of the problem\n",
    "### What type of problem:\n",
    "The paper focuses on 2 main problems; Mortality Prediction and Phenotype Classification\n",
    "### What is the importance/meaning of solving the problem: \n",
    "ICUs admit patients with life-threatening conditions, Improving the efficacy and efficiency of predictions by accounting for irregular data in EHRs can help the medical providers to make more accurate and quick decisions that could save lives.\n",
    "\n",
    "### What is the difficulty of the problem:\n",
    "The primary difficulty is the handling the irregular sampling of data and the effective integration and modeling of EHR records like numerical time series and textual notes taken in multiple points in time and frequencies.\n",
    "\n",
    "### The state of the art methods and effectiveness.\n",
    "For irregular data handling;\n",
    "> [1] Lipton, Z. C., Kale, D., and Wetzel, R. Directly modeling\n",
    "> missing data in sequences with rnns: Improved classification of clinical time series. In Machine learning for\n",
    "> healthcare conference, pp. 253–270. PMLR, 2016.\n",
    "\n",
    "> [2] Shukla, S. N. and Marlin, B. M. Multi-time attention networks for irregularly sampled time series. arXiv preprint\n",
    "> arXiv:2101.10318, 2021.\n",
    "\n",
    "For irregular clinical notes processing;\n",
    "> [3] Golmaei, S. N. and Luo, X. Deepnote-gnn: predicting hospital readmission using clinical notes and patient network.\n",
    "> In Proceedings of the 12th ACM Conference on Bioinformatics, Computational Biology, and Health Informatics,\n",
    "> pp. 1–9, 2021.\n",
    "\n",
    "> [4]Mahbub, M., Srinivasan, S., Danciu, I., Peluso, A., Begoli, E., Tamang, S., and Peterson, G. D. \n",
    "> Unstructured clinical notes within the 24 hours since admission predict short,> mid & long-term mortality in adult icu patients. \n",
    "> Plos one, 17(1):e0262182, 2022.\n",
    "\n",
    "## Paper explanation\n",
    "### What did the paper propose\n",
    "The general problem addressed in this paper is to find a better approach to handling irregular multimodal data obtained on EHRs to better assess real-time predictions in ICUs. \n",
    "\n",
    "### What is the innovations of the method\n",
    "To better approach irregularity and multi-modal data the paper proposes integrating the real-time series and clinical notes while considering their irregularities. This by doing the following:\n",
    "\n",
    "#### Modeling Irregularity in Time Series:\n",
    "1. Temporal Discretization-Based Embeddings (TDE): Utilizes a novel unified\n",
    "approach (UTDE) that combines:\n",
    "    - Imputation: Regularizes time series by filling in missing values based\n",
    "on prior observations or statistical methods.\n",
    "    - Discretized Multi-Time Attention (mTAND): Applies a learned\n",
    "interpolation method using a multi-time attention mechanism to\n",
    "represent the irregular time series data better.\n",
    "2. Unified Approach (UTDE): This approach integrates imputation and mTAND\n",
    "through a gating mechanism to dynamically combine the representation of\n",
    "the time series. \n",
    "\n",
    "     \n",
    "#### Processing Irregular Clinical Notes:\n",
    "1. Text Encoding: Uses a pretrained model (TextEncoder) to encode clinical\n",
    "notes into a series of representations.\n",
    "2. Irregularity Modeling: Sorts these representations by time, treats them as\n",
    "Multivariate Irregularly Sampled Time Series (MINSTS), and employs mTAND\n",
    "to generate a set of text interpolation representations to handle irregularities.\n",
    "\n",
    " \n",
    "#### Multimodal Fusion:\n",
    "1. Interleaved Attention Mechanism: Fuses time series and clinical note\n",
    "representations across temporal steps, integrating irregularity into multimodal\n",
    "representations.\n",
    "2. Self and Cross-Attention:\n",
    "    - Multi-Head Self-Attention (MH): Acquires contextual embeddings for\n",
    "each modality by focusing within the same modality across time.\n",
    "    - Multi-Head Cross-Attention (CMH): Each modality learns from the\n",
    "other, integrating information across modalities.\n",
    "3. Feed-Forward and Prediction Layers: A feed-forward sublayer follows the\n",
    "CMH outputs, with layer normalization and residual connections applied. The\n",
    "final step involves passing the integrated representations through fully\n",
    "connected layers to predict the outcome.\n",
    "\n",
    "### How well the proposed method work (in its own metrics)\n",
    " The proposed methods for two medical prediction tasks consistently outperforms state-ofthe-art (SOTA) baselines in each single modality and multimodal fusion scenarios. \n",
    "Observing a relative improvements of 6.5%, 3.6%, and 4.3% in F1 for time series, clinical notes, and multimodal fusion, respectively. \n",
    "\n",
    "### What is the contribution to the reasearch regime (referring the Background above, how important the paper is to the problem).\n",
    "The paper's contribution is important because it provides a new direction for EHR-based predictive models to consider time irregularity that could lead to more accurate and reliable medical predictions, helping patients and healthcare processes."
   ]
  },
  {
   "cell_type": "markdown",
   "id": "f091ff27ef282204",
   "metadata": {
    "collapsed": false,
    "jupyter": {
     "outputs_hidden": false
    }
   },
   "source": [
    "# Scope of Reproducibility:\n",
    "\n",
    "For our project we plan to reproduce the experiment with In Hospital Mortality (IHM). And prove the following hypotheses:\n",
    "\n",
    "\n",
    "1. The inclusion of UTDE improves the performance of the model.\n",
    "2. Considering irregularities in clinical note embedding improves the performance of the model.\n",
    "3. The introduction of UTDE and mTAND for processing time series and clinical notes, respectively, plus the integration of Multimodal fusion outperforms F1 score against standard baselines."
   ]
  },
  {
   "cell_type": "markdown",
   "id": "5f6d958f689e7c76",
   "metadata": {
    "collapsed": false,
    "jupyter": {
     "outputs_hidden": false
    }
   },
   "source": [
    "# Methodology\n",
    "\n",
    "The project reproduction consists on the following sections\n",
    "- Data\n",
    "- Models\n",
    "- Training\n",
    "- Evaluation"
   ]
  },
  {
   "cell_type": "markdown",
   "id": "302fccbbee93bdeb",
   "metadata": {
    "collapsed": false,
    "jupyter": {
     "outputs_hidden": false
    }
   },
   "source": [
    "# Data\n",
    "\n",
    "This paper uses the MIMICIII dataset as starting point to obtain timeseries information and medical notes. \n"
   ]
  },
  {
   "cell_type": "markdown",
   "id": "18ea0197a327d87e",
   "metadata": {
    "collapsed": false,
    "jupyter": {
     "outputs_hidden": false
    }
   },
   "source": [
    " \n",
    "## Getting the data\n",
    " The following code contains some useful code to download and extract the dataset files locally\n",
    " \n",
    "**Note**: To download the mimic dataset is necessary to complete the request for access at [Physionet](https://physionet.org/)\n"
   ]
  },
  {
   "cell_type": "markdown",
   "id": "d55643c225c7bfa5",
   "metadata": {
    "collapsed": false,
    "jupyter": {
     "outputs_hidden": false
    }
   },
   "source": [
    "## Configs\n",
    "Open and edit GlobalConfigs.py to set up the local path to the project."
   ]
  },
  {
   "cell_type": "code",
   "execution_count": 12,
   "id": "9e41a54007f74873",
   "metadata": {
    "ExecuteTime": {
     "end_time": "2024-04-13T20:00:31.898943490Z",
     "start_time": "2024-04-13T20:00:31.877154911Z"
    },
    "collapsed": false,
    "jupyter": {
     "outputs_hidden": false
    }
   },
   "outputs": [],
   "source": [
    "# Imports and configs\n",
    "import subprocess\n",
    "import pickle\n",
    "import os\n",
    "\n",
    "import MultimodalMIMIC.preprocessing\n",
    "from GlobalConfigs import *\n",
    "\n",
    "DOWNLOAD_DATASET = False\n",
    "EXTRACT_COMPRESSED_CSVS = False\n",
    "PREPROCESS_BENCHMARKS = False\n",
    "PREPROCESS_CLINICAL_NOTES = False\n",
    "PREPROCESS_MULTIMODAL = False"
   ]
  },
  {
   "cell_type": "code",
   "execution_count": 56,
   "id": "dd912cb01d3abcc0",
   "metadata": {
    "ExecuteTime": {
     "end_time": "2024-04-13T20:00:31.931970418Z",
     "start_time": "2024-04-13T20:00:31.894606736Z"
    },
    "collapsed": false,
    "jupyter": {
     "outputs_hidden": false
    }
   },
   "outputs": [],
   "source": [
    "# change physionet_username to your username\n",
    "if DOWNLOAD_DATASET:\n",
    "\n",
    "    physionet_username = \"ftrujillo\"\n",
    "    password = \"your_pass\"\n",
    "    destination_directory = \"data/MIMICIII_Original\"\n",
    "\n",
    "    command = [\n",
    "        \"wget\", \"-r\", \"-N\", \"-c\", \"-np\",\n",
    "        \"--user\", physionet_username,\n",
    "        \"--password\", password,\n",
    "        \"https://physionet.org/files/mimiciii/1.4/\",\n",
    "        \"-P\", destination_directory\n",
    "    ]\n",
    "\n",
    "    process = subprocess.Popen(command, stdout=subprocess.PIPE, stderr=subprocess.STDOUT, text=True)\n",
    "\n",
    "    for line in process.stdout:\n",
    "        print(line, end='')\n",
    "\n",
    "    process.wait()\n",
    "\n",
    "    if process.returncode != 0:\n",
    "        print(f\"Command failed with return code {process.returncode}\")\n"
   ]
  },
  {
   "cell_type": "code",
   "execution_count": 57,
   "id": "7b7101051b10d00a",
   "metadata": {
    "ExecuteTime": {
     "end_time": "2024-04-13T20:00:31.943119799Z",
     "start_time": "2024-04-13T20:00:31.932321150Z"
    },
    "collapsed": false,
    "jupyter": {
     "outputs_hidden": false
    }
   },
   "outputs": [],
   "source": [
    "if EXTRACT_COMPRESSED_CSVS:\n",
    "    command = ['./decompress_mimic.sh', '-d', 'data/MIMICIII_Original/physionet.org/files/mimiciii/1.4/', '-o',\n",
    "               'data/mimic3']\n",
    "\n",
    "    process = subprocess.Popen(command, stdout=subprocess.PIPE, stderr=subprocess.STDOUT, text=True)\n",
    "\n",
    "    for line in process.stdout:\n",
    "        print(line, end='')\n",
    "\n",
    "    process.wait()\n",
    "\n",
    "    if process.returncode != 0:\n",
    "        print(f\"Command failed with return code {process.returncode}\")\n"
   ]
  },
  {
   "cell_type": "markdown",
   "id": "13ee902ed9e8ef43",
   "metadata": {
    "collapsed": false,
    "jupyter": {
     "outputs_hidden": false
    }
   },
   "source": [
    "# Preparing the data\n",
    "The original paper leverages the following projects to help on the data preparation and extraction from the original MIMIC CSVs\n",
    "\n",
    "It leverages the **mimic3-benchmarks** and the **ClinicalNotesICU** for the following:\n",
    "\n",
    "- Cleanup invalid data\n",
    "- Map the events, diagnoses, and stays for each patient.\n",
    "- Extract timeseries for in-hospital-mortality \n",
    "- Split timeseries data into train and test sets\n",
    "- Extract Medical notes for patients\n",
    "- Split Medical notes for train and test sets"
   ]
  },
  {
   "cell_type": "markdown",
   "id": "6c63cceb7ae9be99",
   "metadata": {
    "collapsed": false,
    "jupyter": {
     "outputs_hidden": false
    }
   },
   "source": [
    "### MIMIC benchmarks\n",
    "Helps to process timeseries data and divide train and test sets\n",
    "[mimic3-benchmarks](https://github.com/YerevaNN/mimic3-benchmarks.git)\n",
    "\n",
    "This repo contains a set of scripts that take the RAW mimic CSVs and prepare the irregular data:\n",
    "- extract_subjects.py:\n",
    "Generates one directory per SUBJECT_ID and writes ICU stay information to data/{SUBJECT_ID}/stays.csv, diagnoses to data/{SUBJECT_ID}/diagnoses.csv, and events to data/{SUBJECT_ID}/events.csv\n",
    "\n",
    "\n",
    "- validate_events.py\n",
    "Attempts to fix some issues (ICU stay ID is missing) and removes the events that have missing information. About 80% of events remain after removing all suspicious rows\n",
    "\n",
    "\n",
    "- extract_episodes_from_subjects.py\n",
    "Breaks up per-subject data into separate episodes (pertaining to ICU stays). Time series of events are stored in {SUBJECT_ID}/episode{#}_timeseries.csv (where # counts distinct episodes) while episode-level information (patient age, gender, ethnicity, height, weight) and outcomes (mortality, length of stay, diagnoses) are stores in {SUBJECT_ID}/episode{#}.csv. This script requires two files, one that maps event ITEMIDs to clinical variables and another that defines valid ranges for clinical variables\n",
    "\n",
    "\n",
    "- split_train_and_test.py\n",
    "Splits the whole dataset into training and testing sets.\n",
    "\n",
    "\n",
    "- create_in_hospital_mortality.py\n",
    "Generate task-specific datasets for in-hospital-mortality prediction\n",
    "\n",
    "After running the preparation scripts we end up with a directory data/in-hospital-mortality we have two subdirectories: train and test. Each of them contains a bunch of ICU stays and one file with name listfile.csv, which lists all samples in that particular set. Each row of listfile.csv has the following form: icu_stay, period_length, label(s). A row specifies a sample for which the input is the collection of ICU event of icu_stay that occurred in the first period_length hours of the stay and the target are label(s). In in-hospital mortality prediction task period_length is always 48 hours.\n",
    "\n",
    "\n",
    "The project does not work out of the box, so we downloaded the sourcecode and modify it inside this repo under the [mimic3-benchmarks](./mimic3-benchmarks) folder\n",
    "To simplify the process we have created the following script `./build_benchmark_data.sh` to run all timeseries required tasks.\n",
    "\n"
   ]
  },
  {
   "cell_type": "code",
   "execution_count": 58,
   "id": "572e454792dbbde4",
   "metadata": {
    "ExecuteTime": {
     "end_time": "2024-04-13T20:00:31.960282569Z",
     "start_time": "2024-04-13T20:00:31.942610138Z"
    },
    "collapsed": false,
    "jupyter": {
     "outputs_hidden": false
    }
   },
   "outputs": [],
   "source": [
    "if PREPROCESS_BENCHMARKS:\n",
    "    command = [\"./build_benchmark_data.sh\"]\n",
    "\n",
    "    process = subprocess.Popen(command, stdout=subprocess.PIPE, stderr=subprocess.STDOUT, text=True, shell=True)\n",
    "\n",
    "    for line in process.stdout:\n",
    "        print(line, end='')\n",
    "    process.wait()\n",
    "\n",
    "    if process.returncode != 0:\n",
    "        print(f\"Command failed with return code {process.returncode}\")\n"
   ]
  },
  {
   "cell_type": "markdown",
   "id": "44f45bd0bc84d872",
   "metadata": {
    "collapsed": false,
    "jupyter": {
     "outputs_hidden": false
    }
   },
   "source": [
    "### ClinicalNotesICU\n",
    "Helps to process medical notes and divide in train and test\n",
    " [ClinicalNotesICU](https://github.com/kaggarwal/ClinicalNotesICU.git)\n",
    "\n",
    "Similar to the mimic3-benchmarks, this repo contains a set of scripts that take the RAW mimic CSVs and process the clinical notes for the previously generated train and test datasets.\n",
    "\n",
    "- extract_notes.py\n",
    "Uses the NOTEEVENTS.csv and the previously generated train and test sets to extract the notes within the first 48 hours of the event and saves them on its own train a test data directories \n",
    "\n",
    "- extract_T0.py\n",
    "Uses the stays.csv and events.csv to extract the episodes start time and save them into a binary pkl file.\n",
    "\n",
    "The project does not work out of the box, so we downloaded the sourcecode and modify it inside this repo under the [ClinicalNotesICU](./ClinicalNotesICU) folder\n",
    "\n",
    "To simplify the process we have created the following script `./extract_med_notes.sh` tu run all the required tasks for clinical notes.\n"
   ]
  },
  {
   "cell_type": "code",
   "execution_count": 59,
   "id": "d23722350fecd73f",
   "metadata": {
    "ExecuteTime": {
     "end_time": "2024-04-13T20:00:31.996541507Z",
     "start_time": "2024-04-13T20:00:31.951403322Z"
    },
    "collapsed": false,
    "jupyter": {
     "outputs_hidden": false
    }
   },
   "outputs": [],
   "source": [
    "if PREPROCESS_CLINICAL_NOTES:\n",
    "    command = [\"./extract_med_notes.sh\"]\n",
    "\n",
    "    process = subprocess.Popen(command, stdout=subprocess.PIPE, stderr=subprocess.STDOUT, text=True, shell=True)\n",
    "\n",
    "    for line in process.stdout:\n",
    "        print(line, end='')\n",
    "    process.wait()\n",
    "\n",
    "    if process.returncode != 0:\n",
    "        print(f\"Command failed with return code {process.returncode}\")"
   ]
  },
  {
   "cell_type": "markdown",
   "id": "839edc8722b2b0e5",
   "metadata": {
    "collapsed": false,
    "jupyter": {
     "outputs_hidden": false
    }
   },
   "source": [
    "# Preprocess time series and notes to create timestamps and text chunk PKLs\n",
    "The next step is to discretize and normalize the timeseries data, as well as link the clinical notes with their corresponding timestamps.\n",
    "\n",
    "The [paper's repo](https://github.com/XZhang97666/MultimodalMIMIC.git) provides a preprocessing script to work on this task.\n",
    "\n",
    "After running the preprocessing steps we obtain the following PKLs to be used by the model: \n",
    "```\n",
    "mean_std.pkl \n",
    "norm_ts_test.pkl\n",
    "norm_ts_train.pkl\n",
    "norm_ts_val.pkl\n",
    "testp2x_data.pkl\n",
    "trainp2x_data.pkl\n",
    "ts_test.pkl\n",
    "ts_train.pkl\n",
    "ts_val.pkl\n",
    "valp2x_data.pkl\n",
    "```\n",
    "The project does not work out of the box, so we downloaded the sourcecode and modify it inside this repo under the [MultimodalMIMIC](./MultimodalMIMIC) folder\n",
    "For some relevant parts we've bring "
   ]
  },
  {
   "cell_type": "code",
   "execution_count": 60,
   "id": "7f7990c4a9f0a349",
   "metadata": {
    "ExecuteTime": {
     "end_time": "2024-04-13T20:00:32.000912366Z",
     "start_time": "2024-04-13T20:00:31.960649662Z"
    },
    "collapsed": false,
    "jupyter": {
     "outputs_hidden": false
    }
   },
   "outputs": [],
   "source": [
    "# if PREPROCESS_MULTIMODAL:\n",
    "#     command = [\"python\", \"MultimodalMIMIC/preprocessing.py\"]\n",
    "# \n",
    "#     process = subprocess.Popen(command, stdout=subprocess.PIPE, stderr=subprocess.STDOUT, text=True)\n",
    "# \n",
    "#     for line in process.stdout:\n",
    "#         print(line, end='')\n",
    "# \n",
    "#     process.wait()\n",
    "# \n",
    "#     if process.returncode != 0:\n",
    "#         print(f\"Command failed with return code {process.returncode}\")\n"
   ]
  },
  {
   "cell_type": "code",
   "execution_count": 60,
   "id": "dfcc85f8bd00a0e",
   "metadata": {
    "ExecuteTime": {
     "end_time": "2024-04-13T20:00:32.001995830Z",
     "start_time": "2024-04-13T20:00:31.991139282Z"
    },
    "collapsed": false,
    "jupyter": {
     "outputs_hidden": false
    }
   },
   "outputs": [],
   "source": [
    "\n",
    "\n"
   ]
  },
  {
   "cell_type": "code",
   "execution_count": 14,
   "id": "1ed034beed47eeaf",
   "metadata": {
    "ExecuteTime": {
     "end_time": "2024-04-13T20:00:32.015654286Z",
     "start_time": "2024-04-13T20:00:32.001241517Z"
    },
    "collapsed": false,
    "jupyter": {
     "outputs_hidden": false
    }
   },
   "outputs": [],
   "source": [
    "from mimic3benchmark.readers import InHospitalMortalityReader\n",
    "\n",
    "# Paths for data\n",
    "ihm_data_path = f\"{BENCHMARKS_ROOT_PATH}/data/in-hospital-mortality\"\n",
    "ihm_train_data_path = f\"{ihm_data_path}/train\"\n",
    "ihm_test_data_path = f\"{ihm_data_path}/test\"\n",
    "discretizer_config_path = f\"{MULTI_MODAL_MIMIC_PATH}/Data/irregular/discretizer_config.json\"\n",
    "channel_info_path = f\"{MULTI_MODAL_MIMIC_PATH}/Data/irregular/channel_info.json\"\n",
    "textdata_fixed = f\"{BENCHMARKS_ROOT_PATH}/data/root/text_fixed/train/\"\n",
    "text_start_time_path = f\"{BENCHMARKS_ROOT_PATH}/data/root/text_fixed/starttime.pkl\"\n",
    "test_textdata_fixed = f\"{BENCHMARKS_ROOT_PATH}/data/root/text_fixed/test/\"\n",
    "test_text_start_time_path = f\"{BENCHMARKS_ROOT_PATH}/data/root/text_fixed/test_starttime.pkl\"\n",
    "ihm_discrete_save_path = f\"{PROJECT_BASE_PATH}/Data/ihm/\"\n",
    "\n",
    "# Modify this to take only a subset of the full data; None takes the full data\n",
    "n_samples_elements = 1000\n",
    "\n",
    "mortality_period = 48\n",
    "timestep = 1.0\n",
    "imputation = \"previous\"\n",
    "dataset_types = [\"train\", \"val\", \"test\"]\n",
    "\n",
    "normalizer_state_file_path = f'{BENCHMARKS_ROOT_PATH}/mimic3models/in_hospital_mortality/ihm_ts{timestep}.input_str-{imputation}.start_time-zero.normalizer'\n",
    "\n",
    "\n",
    "\n",
    "\n",
    "\n"
   ]
  },
  {
   "cell_type": "code",
   "execution_count": 62,
   "id": "2f0db8b42d1f1ab5",
   "metadata": {
    "ExecuteTime": {
     "end_time": "2024-04-13T20:00:32.140497480Z",
     "start_time": "2024-04-13T20:00:32.007598082Z"
    },
    "collapsed": false,
    "jupyter": {
     "outputs_hidden": false
    }
   },
   "outputs": [],
   "source": [
    "train_reader = InHospitalMortalityReader(dataset_dir=ihm_train_data_path,\n",
    "                                         listfile=os.path.join(ihm_train_data_path, 'listfile.csv'),\n",
    "                                         period_length=mortality_period)\n",
    "val_reader = InHospitalMortalityReader(dataset_dir=ihm_train_data_path,\n",
    "                                       listfile=os.path.join(ihm_train_data_path, 'listfile.csv'),\n",
    "                                       period_length=mortality_period)\n",
    "\n",
    "test_reader = InHospitalMortalityReader(dataset_dir=ihm_test_data_path,\n",
    "                                        listfile=os.path.join(ihm_test_data_path, 'listfile.csv'),\n",
    "                                        period_length=mortality_period)"
   ]
  },
  {
   "cell_type": "code",
   "execution_count": 63,
   "id": "9bb6581a6020b8ea",
   "metadata": {
    "ExecuteTime": {
     "end_time": "2024-04-13T20:00:32.181925863Z",
     "start_time": "2024-04-13T20:00:32.140584023Z"
    },
    "collapsed": false,
    "jupyter": {
     "outputs_hidden": false
    }
   },
   "outputs": [],
   "source": [
    "from MultimodalMIMIC.preprocessing import Discretizer_multi\n",
    "\n",
    "discretizer_multi = Discretizer_multi(\n",
    "    impute_strategy='previous',\n",
    "    store_masks=True,\n",
    "    start_time='zero',\n",
    "    config_path=discretizer_config_path,\n",
    "    channel_path=channel_info_path\n",
    ")\n",
    "discretizer_header = discretizer_multi.transform(train_reader.read_example(0)[\"X\"])[1].split(',')\n",
    "cont_channels = [i for (i, x) in enumerate(discretizer_header) if x.find(\"->\") == -1]\n",
    "# print(\"discretizer_header\", discretizer_header)\n",
    "# print(\"cont_channels\", cont_channels)\n"
   ]
  },
  {
   "cell_type": "code",
   "execution_count": 64,
   "id": "e05696cbeab2d89a",
   "metadata": {
    "ExecuteTime": {
     "end_time": "2024-04-13T20:00:32.218665077Z",
     "start_time": "2024-04-13T20:00:32.168929727Z"
    },
    "collapsed": false,
    "jupyter": {
     "outputs_hidden": false
    }
   },
   "outputs": [],
   "source": [
    "from tqdm import tqdm\n",
    "from typing import Optional, Any\n",
    "from readers import Reader\n",
    "import gzip\n",
    "\n",
    "\n",
    "def save_compressed_pkl_gz(data_to_dump: Any, save_name: str):\n",
    "    print(\"saving and compressing:\", save_name)\n",
    "    with gzip.open(f'{save_name}.pkl.gz', 'wb') as file:\n",
    "        pickle.dump(data_to_dump, file)\n",
    "\n",
    "\n",
    "def load_compressed_pkl(full_file_name: str) -> Any:\n",
    "    with gzip.open(full_file_name, 'rb') as file:\n",
    "        data_loaded = pickle.load(file)\n",
    "    return data_loaded\n",
    "\n",
    "\n",
    "def read_chunk(reader, chunk_size):\n",
    "    chunk_data = {}\n",
    "    for _ in tqdm(range(chunk_size), desc=\"reading data\"):\n",
    "        ret = reader.read_next()\n",
    "        for k, v in ret.items():\n",
    "            if k not in chunk_data:\n",
    "                chunk_data[k] = []\n",
    "            chunk_data[k].append(v)\n",
    "    chunk_data[\"header\"] = chunk_data[\"header\"][0]\n",
    "    return chunk_data\n",
    "\n",
    "\n",
    "def discretize_and_save_data(reader: Reader, discretizer: Discretizer_multi, save_path: str,\n",
    "                             partial_n_samples: Optional[int] = None, save_name=str, compress_pkl: bool = False):\n",
    "    n_samples = reader.get_number_of_examples()\n",
    "    if partial_n_samples:\n",
    "        n_samples = partial_n_samples\n",
    "    ret = read_chunk(reader, n_samples)\n",
    "    irg_data = ret[\"X\"]\n",
    "    ts = ret[\"t\"]\n",
    "    labels = ret[\"y\"]\n",
    "    discrete_names = ret[\"name\"]\n",
    "\n",
    "    reg_data = []\n",
    "    for X, t in tqdm(zip(irg_data, ts), total=len(irg_data), desc=f\"discretizing data \"):\n",
    "        transformed_data = discretizer.transform(X, end=t)[0]\n",
    "        reg_data.append(transformed_data)\n",
    "\n",
    "    os.makedirs(save_path, exist_ok=True)\n",
    "    save_full_path = save_path + save_name\n",
    "    if compress_pkl:\n",
    "        save_compressed_pkl_gz((irg_data, reg_data, labels, discrete_names), save_full_path)\n",
    "    else:\n",
    "        print(\"Saving\", f\"{save_full_path}.pkl\")\n",
    "        with open(f\"{save_full_path}.pkl\", 'wb') as file:\n",
    "            pickle.dump((irg_data, reg_data, labels, discrete_names), file)\n"
   ]
  },
  {
   "cell_type": "code",
   "execution_count": 65,
   "id": "87c65a383e96d5c1",
   "metadata": {
    "ExecuteTime": {
     "end_time": "2024-04-13T20:00:42.762027297Z",
     "start_time": "2024-04-13T20:00:32.211687960Z"
    },
    "collapsed": false,
    "jupyter": {
     "outputs_hidden": false
    }
   },
   "outputs": [
    {
     "name": "stdout",
     "output_type": "stream",
     "text": [
      "discretize and save train\n"
     ]
    },
    {
     "name": "stderr",
     "output_type": "stream",
     "text": [
      "reading data: 100%|██████████| 1000/1000 [00:00<00:00, 1196.22it/s]\n",
      "discretizing data : 100%|██████████| 1000/1000 [00:02<00:00, 351.33it/s]\n"
     ]
    },
    {
     "name": "stdout",
     "output_type": "stream",
     "text": [
      "Saving /media/ftrujillo/FRD/Projects/UIUC/DLH/CS598_Final/Data/ihm/ts_train.pkl\n",
      "discretize and save val\n"
     ]
    },
    {
     "name": "stderr",
     "output_type": "stream",
     "text": [
      "reading data: 100%|██████████| 1000/1000 [00:00<00:00, 1864.47it/s]\n",
      "discretizing data : 100%|██████████| 1000/1000 [00:01<00:00, 510.36it/s]\n"
     ]
    },
    {
     "name": "stdout",
     "output_type": "stream",
     "text": [
      "Saving /media/ftrujillo/FRD/Projects/UIUC/DLH/CS598_Final/Data/ihm/ts_val.pkl\n",
      "discretize and save test\n"
     ]
    },
    {
     "name": "stderr",
     "output_type": "stream",
     "text": [
      "reading data: 100%|██████████| 1000/1000 [00:00<00:00, 1636.42it/s]\n",
      "discretizing data : 100%|██████████| 1000/1000 [00:01<00:00, 553.04it/s]\n"
     ]
    },
    {
     "name": "stdout",
     "output_type": "stream",
     "text": [
      "Saving /media/ftrujillo/FRD/Projects/UIUC/DLH/CS598_Final/Data/ihm/ts_test.pkl\n"
     ]
    }
   ],
   "source": [
    "print(\"discretize and save train\")\n",
    "discretize_and_save_data(train_reader, discretizer_multi, ihm_discrete_save_path, n_samples_elements, \"ts_train\")\n",
    "print(\"discretize and save val\")\n",
    "discretize_and_save_data(val_reader, discretizer_multi, ihm_discrete_save_path, n_samples_elements, \"ts_val\")\n",
    "print(\"discretize and save test\")\n",
    "discretize_and_save_data(test_reader, discretizer_multi, ihm_discrete_save_path, n_samples_elements, \"ts_test\")\n",
    "\n",
    "# from MultimodalMIMIC.preprocessing import save_data\n",
    "# print(\"discretize and save train\")\n",
    "# save_data(train_reader, discretizer_multi, ihm_discrete_save_path, False, \"train\")\n",
    "# print(\"discretize and save val\")\n",
    "# save_data(val_reader, discretizer_multi, ihm_discrete_save_path, True, \"val\")\n",
    "# print(\"discretize and save test\")\n",
    "# save_data(test_reader, discretizer_multi, ihm_discrete_save_path, True, \"test\")\n"
   ]
  },
  {
   "cell_type": "code",
   "execution_count": 66,
   "id": "72092e5bc118117e",
   "metadata": {
    "ExecuteTime": {
     "end_time": "2024-04-13T20:00:42.773350306Z",
     "start_time": "2024-04-13T20:00:42.762780629Z"
    },
    "collapsed": false,
    "jupyter": {
     "outputs_hidden": false
    }
   },
   "outputs": [],
   "source": [
    "from mimic3models.preprocessing import Normalizer\n",
    "\n",
    "normalizer = Normalizer(fields=cont_channels)\n",
    "normalizer.load_params(normalizer_state_file_path)\n"
   ]
  },
  {
   "cell_type": "code",
   "execution_count": 67,
   "id": "acce6019f9e94910",
   "metadata": {
    "ExecuteTime": {
     "end_time": "2024-04-13T20:00:46.449170986Z",
     "start_time": "2024-04-13T20:00:42.774987064Z"
    },
    "collapsed": false,
    "jupyter": {
     "outputs_hidden": false
    }
   },
   "outputs": [
    {
     "name": "stdout",
     "output_type": "stream",
     "text": [
      "Extracting train irregular data\n",
      "Saving: /media/ftrujillo/FRD/Projects/UIUC/DLH/CS598_Final/Data/ihm/ts_train.pkl\n",
      "Extracting val irregular data\n",
      "Saving: /media/ftrujillo/FRD/Projects/UIUC/DLH/CS598_Final/Data/ihm/ts_val.pkl\n",
      "Extracting test irregular data\n",
      "Saving: /media/ftrujillo/FRD/Projects/UIUC/DLH/CS598_Final/Data/ihm/ts_test.pkl\n"
     ]
    }
   ],
   "source": [
    "from MultimodalMIMIC.preprocessing import extract_irregular\n",
    "\n",
    "for dataset_type in dataset_types:\n",
    "    print(f\"Extracting {dataset_type} irregular data\", flush=True)\n",
    "    in_extract_data_path = ihm_discrete_save_path + 'ts_' + dataset_type + '.pkl'\n",
    "    out_extract_data_path = ihm_discrete_save_path + 'ts_' + dataset_type + '.pkl'\n",
    "    extract_irregular(in_extract_data_path, out_extract_data_path, channel_info_path, discretizer_config_path)"
   ]
  },
  {
   "cell_type": "code",
   "execution_count": 68,
   "id": "19a71a63b056f337",
   "metadata": {
    "ExecuteTime": {
     "end_time": "2024-04-13T20:00:47.792905389Z",
     "start_time": "2024-04-13T20:00:46.448299121Z"
    },
    "collapsed": false,
    "jupyter": {
     "outputs_hidden": false
    }
   },
   "outputs": [
    {
     "name": "stdout",
     "output_type": "stream",
     "text": [
      "Saving: /media/ftrujillo/FRD/Projects/UIUC/DLH/CS598_Final/Data/ihm/mean_std.pkl\n"
     ]
    }
   ],
   "source": [
    "import importlib\n",
    "from MultimodalMIMIC.preprocessing import mean_std\n",
    "\n",
    "mean_std(ihm_discrete_save_path + 'ts_train.pkl', ihm_discrete_save_path + 'mean_std.pkl')"
   ]
  },
  {
   "cell_type": "code",
   "execution_count": 69,
   "id": "3b6d118f0c2f7865",
   "metadata": {
    "ExecuteTime": {
     "end_time": "2024-04-13T20:00:50.989874524Z",
     "start_time": "2024-04-13T20:00:47.792515353Z"
    },
    "collapsed": false,
    "jupyter": {
     "outputs_hidden": false
    }
   },
   "outputs": [
    {
     "name": "stdout",
     "output_type": "stream",
     "text": [
      "Normalizing train times data\n",
      "Saving: /media/ftrujillo/FRD/Projects/UIUC/DLH/CS598_Final/Data/ihm/norm_ts_train.pkl\n",
      "Normalizing val times data\n",
      "Saving: /media/ftrujillo/FRD/Projects/UIUC/DLH/CS598_Final/Data/ihm/norm_ts_val.pkl\n",
      "Normalizing test times data\n",
      "Saving: /media/ftrujillo/FRD/Projects/UIUC/DLH/CS598_Final/Data/ihm/norm_ts_test.pkl\n"
     ]
    }
   ],
   "source": [
    "from MultimodalMIMIC.preprocessing import normalize\n",
    "\n",
    "for dataset_type in dataset_types:\n",
    "    print(f\"Normalizing {dataset_type} times data\", flush=True)\n",
    "    normalize(ihm_discrete_save_path + 'ts_' + dataset_type + '.pkl',\n",
    "              ihm_discrete_save_path + 'norm_ts_' + dataset_type + '.pkl',\n",
    "              ihm_discrete_save_path + 'mean_std.pkl')"
   ]
  },
  {
   "cell_type": "code",
   "execution_count": 70,
   "id": "ae28b8cd4f293522",
   "metadata": {
    "ExecuteTime": {
     "end_time": "2024-04-13T20:00:53.430131504Z",
     "start_time": "2024-04-13T20:00:50.989246328Z"
    },
    "collapsed": false,
    "jupyter": {
     "outputs_hidden": false
    }
   },
   "outputs": [
    {
     "name": "stdout",
     "output_type": "stream",
     "text": [
      "Preparing  train text data\n",
      "Suceed Merging:  750\n",
      "Missing Merging:  250\n",
      "File dumped at: /media/ftrujillo/FRD/Projects/UIUC/DLH/CS598_Final/Data/ihm/trainp2x_data.pkl\n",
      "Preparing  val text data\n",
      "Suceed Merging:  750\n",
      "Missing Merging:  250\n",
      "File dumped at: /media/ftrujillo/FRD/Projects/UIUC/DLH/CS598_Final/Data/ihm/valp2x_data.pkl\n",
      "Preparing  test text data\n",
      "Suceed Merging:  762\n",
      "Missing Merging:  238\n",
      "File dumped at: /media/ftrujillo/FRD/Projects/UIUC/DLH/CS598_Final/Data/ihm/testp2x_data.pkl\n"
     ]
    }
   ],
   "source": [
    "from MultimodalMIMIC.text_utils import TextReader\n",
    "from MultimodalMIMIC.preprocessing import merge_text_ts\n",
    "\n",
    "for dataset_type in dataset_types:\n",
    "    print(f\"Preparing  {dataset_type} text data\", flush=True)\n",
    "\n",
    "    with open(ihm_discrete_save_path + 'norm_ts_' + dataset_type + '.pkl', 'rb') as f:\n",
    "        tsdata = pickle.load(f)\n",
    "\n",
    "    names = [data['name'] for data in tsdata]\n",
    "\n",
    "    if (dataset_type == 'train') or (dataset_type == 'val'):\n",
    "        text_reader = TextReader(textdata_fixed, text_start_time_path)\n",
    "    else:\n",
    "        text_reader = TextReader(test_textdata_fixed, test_text_start_time_path)\n",
    "\n",
    "    data_text, data_times, data_time = text_reader.read_all_text_append_json(names, mortality_period)\n",
    "    merge_text_ts(data_text, data_times, data_time, tsdata, mortality_period,\n",
    "                  ihm_discrete_save_path + dataset_type + 'p2x_data.pkl')"
   ]
  },
  {
   "cell_type": "code",
   "execution_count": 70,
   "id": "4b02786a1c48328f",
   "metadata": {
    "ExecuteTime": {
     "end_time": "2024-04-13T20:00:53.434311262Z",
     "start_time": "2024-04-13T20:00:53.431989741Z"
    },
    "collapsed": false,
    "jupyter": {
     "outputs_hidden": false
    }
   },
   "outputs": [],
   "source": []
  },
  {
   "cell_type": "markdown",
   "id": "2361f279fd3d555d",
   "metadata": {
    "collapsed": false,
    "jupyter": {
     "outputs_hidden": false
    }
   },
   "source": [
    "Read preprocessed PKLs"
   ]
  },
  {
   "cell_type": "code",
   "execution_count": 71,
   "id": "b30176d3e76d1b65",
   "metadata": {
    "ExecuteTime": {
     "end_time": "2024-04-13T20:00:53.444147815Z",
     "start_time": "2024-04-13T20:00:53.434909090Z"
    },
    "collapsed": false,
    "jupyter": {
     "outputs_hidden": false
    }
   },
   "outputs": [],
   "source": [
    "# if PREPROCESS_MULTIMODAL or True:\n",
    "#     command = [\"python\", \"MultimodalMIMIC/main.py\"]\n",
    "# \n",
    "#     process = subprocess.Popen(command, stdout=subprocess.PIPE, stderr=subprocess.STDOUT, text=True)\n",
    "# \n",
    "#     for line in process.stdout:\n",
    "#         print(line, end='')\n",
    "# \n",
    "#     process.wait()\n",
    "# \n",
    "#     if process.returncode != 0:\n",
    "#         print(f\"Command failed with return code {process.returncode}\")\n"
   ]
  },
  {
   "cell_type": "code",
   "execution_count": 72,
   "id": "6e7d3cd1d20c29c4",
   "metadata": {
    "ExecuteTime": {
     "end_time": "2024-04-13T20:00:53.474825758Z",
     "start_time": "2024-04-13T20:00:53.445652094Z"
    },
    "collapsed": false,
    "jupyter": {
     "outputs_hidden": false
    }
   },
   "outputs": [
    {
     "name": "stdout",
     "output_type": "stream",
     "text": [
      "test: 6328\n",
      "train: 35948\n"
     ]
    }
   ],
   "source": [
    "\n",
    "\n",
    "clinical_notes_path = f\"{BENCHMARKS_ROOT_PATH}/data/root/text_fixed\"\n",
    "\n",
    "# Start times pkl contains a map of patient_id notes with its recorded time\n",
    "test_note_start_time = f\"{clinical_notes_path}/test_starttime.pkl\"\n",
    "train_note_start_time = f\"{clinical_notes_path}/starttime.pkl\"\n",
    "\n",
    "test_start_times_dict = {}\n",
    "train_start_times_dict = {}\n",
    "with open(test_note_start_time, 'rb') as f:\n",
    "    test_start_times_dict.update(pickle.load(f))\n",
    "\n",
    "with open(train_note_start_time, 'rb') as f:\n",
    "    train_start_times_dict.update(pickle.load(f))\n",
    "\n",
    "print(\"test:\", len(test_start_times_dict))\n",
    "print(\"train:\", len(train_start_times_dict))\n"
   ]
  },
  {
   "cell_type": "code",
   "execution_count": 73,
   "id": "aa7eccdffa04299b",
   "metadata": {
    "ExecuteTime": {
     "end_time": "2024-04-13T20:00:53.510595960Z",
     "start_time": "2024-04-13T20:00:53.475610940Z"
    },
    "collapsed": false,
    "jupyter": {
     "outputs_hidden": false
    }
   },
   "outputs": [
    {
     "name": "stdout",
     "output_type": "stream",
     "text": [
      "test texts: 6107\n",
      "train texts: 34748\n",
      "/media/ftrujillo/FRD/Projects/UIUC/DLH/CS598_Final/mimic3-benchmarks/data/root/text_fixed/test/10000_1\n"
     ]
    }
   ],
   "source": [
    "text_train_files = []\n",
    "text_test_files = []\n",
    "\n",
    "text_train_filepath = f\"{clinical_notes_path}/train\"\n",
    "text_test_filepath = f\"{clinical_notes_path}/test\"\n",
    "\n",
    "with os.scandir(text_train_filepath) as entries:\n",
    "    text_train_files.extend([entry.name for entry in entries if entry.is_file() and entry.name[0].isdigit()])\n",
    "\n",
    "with os.scandir(text_test_filepath) as entries:\n",
    "    text_test_files.extend([entry.name for entry in entries if entry.is_file() and entry.name[0].isdigit()])\n",
    "\n",
    "print(\"test texts:\", len(text_test_files))\n",
    "print(\"train texts:\", len(text_train_files))\n",
    "print(f\"{text_test_filepath}/{text_test_files[0]}\")\n"
   ]
  },
  {
   "cell_type": "code",
   "execution_count": 16,
   "id": "246aeb4f99d4a8d",
   "metadata": {
    "ExecuteTime": {
     "end_time": "2024-04-13T20:11:03.180494617Z",
     "start_time": "2024-04-13T20:11:03.124931586Z"
    },
    "collapsed": false,
    "jupyter": {
     "outputs_hidden": false
    }
   },
   "outputs": [],
   "source": [
    "# Open PKL\n",
    "dataPath = f\"{ihm_discrete_save_path}trainp2x_data.pkl\"\n",
    "if os.path.isfile(dataPath):\n",
    "    print('Using', dataPath)\n",
    "    with open(dataPath, 'rb') as f:\n",
    "        data = pickle.load(f)\n",
    "        print(\"pkl data:\", data[0].keys())\n",
    "        \n",
    "    print(data)\n",
    "\n"
   ]
  },
  {
   "cell_type": "markdown",
   "id": "ea129f0ca6817b1b",
   "metadata": {
    "collapsed": false,
    "jupyter": {
     "outputs_hidden": false
    }
   },
   "source": [
    "# Train Model"
   ]
  },
  {
   "cell_type": "markdown",
   "id": "39836701-f0fa-41a0-af10-3f7acdd964bb",
   "metadata": {
    "ExecuteTime": {
     "end_time": "2024-04-13T20:00:53.528850460Z",
     "start_time": "2024-04-13T20:00:53.526308483Z"
    },
    "collapsed": false,
    "jp-MarkdownHeadingCollapsed": true,
    "jupyter": {
     "outputs_hidden": false
    }
   },
   "source": [
    "## import required module"
   ]
  },
  {
   "cell_type": "code",
   "execution_count": 38,
   "id": "3d645c55-8413-4c5a-bd72-48885bfae663",
   "metadata": {},
   "outputs": [],
   "source": [
    "import pandas as pd\n",
    "import os\n",
    "import torch\n",
    "import torch.nn as nn\n",
    "import torch.nn.functional as F\n",
    "import sys\n",
    "\n",
    "from tensorboardX import SummaryWriter\n",
    "\n",
    "import warnings\n",
    "import time\n",
    "import logging\n",
    "\n",
    "logger = logging.getLogger(__name__)\n",
    "sys.path.insert(0, 'MultimodalMIMIC')\n",
    "from GlobalConfigs import *\n",
    "from model import *\n",
    "from train import *\n",
    "from checkpoint import *\n",
    "from util import *\n",
    "from accelerate import Accelerator\n",
    "from interp import *\n",
    "import argparse"
   ]
  },
  {
   "cell_type": "markdown",
   "id": "6069a6e7-1d6c-42ac-a984-7393f8690bf0",
   "metadata": {},
   "source": [
    "## set arguments\n",
    "\n",
    "this step is to set up parameter to set up how to train and evaluatate the model.\n",
    "\n",
    "here we only train the model for 1 epoch for demonstration."
   ]
  },
  {
   "cell_type": "code",
   "execution_count": 39,
   "id": "93ff6111-5f0e-4735-a2f6-e7bdf0e0ae37",
   "metadata": {},
   "outputs": [
    {
     "name": "stdout",
     "output_type": "stream",
     "text": [
      "{'task': 'ihm', 'file_path': 'C:/Users/frank/code/CS598_Final/MultimodalMIMIC/Data/ihm/ihm_1000_samples', 'output_dir': 'run/TS_Text', 'tensorboard_dir': None, 'seed': 42, 'mode': 'train', 'modeltype': 'TS_Text', 'eval_score': ['auc', 'auprc', 'f1'], 'num_labels': 2, 'max_length': 1024, 'pad_to_max_length': False, 'model_path': None, 'train_batch_size': 2, 'eval_batch_size': 8, 'num_update_bert_epochs': 2, 'num_train_epochs': 1, 'txt_learning_rate': 5e-05, 'ts_learning_rate': 0.0004, 'gradient_accumulation_steps': 16, 'weight_decay': 0.01, 'lr_scheduler_type': 'linear', 'pt_mask_ratio': 0.15, 'mean_mask_length': 3, 'chunk': False, 'chunk_type': 'sent_doc_pos', 'warmup_proportion': 0.1, 'kernel_size': 1, 'num_heads': 8, 'layers': 3, 'cross_layers': 3, 'embed_dim': 128, 'irregular_learn_emb_ts': True, 'irregular_learn_emb_text': True, 'reg_ts': True, 'tt_max': 48, 'embed_time': 64, 'ts_to_txt': False, 'txt_to_ts': False, 'dropout': 0.1, 'model_name': 'bioLongformer', 'num_of_notes': 5, 'notes_order': 'Last', 'ratio_notes_order': None, 'bertcount': 3, 'first_n_item': 3, 'fine_tune': False, 'self_cross': False, 'TS_mixup': False, 'mixup_level': 'batch', 'fp16': True, 'debug': False, 'generate_data': False, 'FTLSTM': False, 'Interp': False, 'cpu': False, 'datagereate_seed': 42, 'TS_model': 'Atten', 'cross_method': 'self_cross'}\n"
     ]
    }
   ],
   "source": [
    "parser = parse_args()\n",
    "args = parser.parse_args(['--num_train_epochs','1',\n",
    "                         '--train_batch_size','2',\n",
    "                         '--eval_batch_size','8',\n",
    "                         '--gradient_accumulation_steps','16',\n",
    "                         '--num_update_bert_epochs','2',\n",
    "                         '--notes_order','Last',\n",
    "                         '--max_length','1024',\n",
    "                         '--output_dir','run/TS_Text',\n",
    "                         '--embed_dim','128',\n",
    "                         '--model_name','bioLongformer',\n",
    "                         '--file_path',f'{MULTI_MODAL_MIMIC_PATH}/Data/ihm/ihm_1000_samples',\n",
    "                         '--mixup_level','batch',\n",
    "                         '--fp16',\n",
    "                         '--irregular_learn_emb_text',\n",
    "                         '--irregular_learn_emb_ts',\n",
    "                         '--reg_ts'])\n",
    "\n",
    "\n",
    "print(vars(args))"
   ]
  },
  {
   "cell_type": "markdown",
   "id": "756cb5c2-28b5-4413-ab7a-4d356c18ecc8",
   "metadata": {},
   "source": [
    "## Set up training environment\n",
    "\n",
    "based on given argument above, set up the training environment"
   ]
  },
  {
   "cell_type": "code",
   "execution_count": 40,
   "id": "64687011-a325-434c-ba90-f460187c26b9",
   "metadata": {
    "scrolled": true
   },
   "outputs": [
    {
     "name": "stdout",
     "output_type": "stream",
     "text": [
      "device: cuda\n",
      "run/TS_Text/ihm/TS_Text/TS_48/Atten/Text_48/bioLongformer/1024/cross_attn3/irregular_TS_64/irregular_Text_64/5e-05_2_3_0.0004_1_8_128_1_2/\n"
     ]
    }
   ],
   "source": [
    "if args.fp16:\n",
    "        args.mixed_precision = \"fp16\"\n",
    "else:\n",
    "    args.mixed_precision = \"no\"\n",
    "accelerator = Accelerator(mixed_precision=args.mixed_precision, cpu=args.cpu)\n",
    "\n",
    "device = accelerator.device\n",
    "print(f'device: {device}')\n",
    "os.makedirs(args.output_dir, exist_ok=True)\n",
    "if args.tensorboard_dir != None:\n",
    "    writer = SummaryWriter(args.tensorboard_dir)\n",
    "else:\n",
    "    writer = None\n",
    "\n",
    "warnings.filterwarnings('ignore')\n",
    "logging.basicConfig(\n",
    "    format=\"%(asctime)s - %(levelname)s - %(name)s - %(message)s\",\n",
    "    datefmt=\"%m/%d/%Y %H:%M:%S\",\n",
    "    level=logging.INFO,\n",
    ")\n",
    "\n",
    "if args.seed is not None:\n",
    "    set_seed(args.seed)\n",
    "\n",
    "output_path = make_save_dir(args)\n",
    "\n",
    "if args.seed == 0:\n",
    "    copy_file(args.ck_file_path + 'model/', src=os.getcwd())"
   ]
  },
  {
   "cell_type": "markdown",
   "id": "267de299-da42-439b-bd0a-6bfb634bcbe4",
   "metadata": {},
   "source": [
    "## Load data\n",
    "\n",
    "Load training, validation and test dataset."
   ]
  },
  {
   "cell_type": "code",
   "execution_count": 41,
   "id": "43e76211-2306-4fa3-b915-e746316be900",
   "metadata": {},
   "outputs": [
    {
     "name": "stderr",
     "output_type": "stream",
     "text": [
      "Some weights of LongformerModel were not initialized from the model checkpoint at yikuan8/Clinical-Longformer and are newly initialized: ['longformer.pooler.dense.bias', 'longformer.pooler.dense.weight']\n",
      "You should probably TRAIN this model on a down-stream task to be able to use it for predictions and inference.\n"
     ]
    },
    {
     "name": "stdout",
     "output_type": "stream",
     "text": [
      "Trying to load: C:/Users/frank/code/CS598_Final/MultimodalMIMIC/Data/ihm/ihm_1000_samples\\trainp2x_data.pkl\n",
      "Using C:/Users/frank/code/CS598_Final/MultimodalMIMIC/Data/ihm/ihm_1000_samples\\trainp2x_data.pkl\n",
      "Trying to load: C:/Users/frank/code/CS598_Final/MultimodalMIMIC/Data/ihm/ihm_1000_samples\\valp2x_data.pkl\n",
      "Using C:/Users/frank/code/CS598_Final/MultimodalMIMIC/Data/ihm/ihm_1000_samples\\valp2x_data.pkl\n",
      "Trying to load: C:/Users/frank/code/CS598_Final/MultimodalMIMIC/Data/ihm/ihm_1000_samples\\testp2x_data.pkl\n",
      "Using C:/Users/frank/code/CS598_Final/MultimodalMIMIC/Data/ihm/ihm_1000_samples\\testp2x_data.pkl\n"
     ]
    }
   ],
   "source": [
    "if args.mode == 'train':\n",
    "        if 'Text' in args.modeltype:\n",
    "            BioBert, BioBertConfig, tokenizer = loadBert(args, device)\n",
    "        else:\n",
    "            BioBert, tokenizer = None, None\n",
    "        train_dataset, train_sampler, train_dataloader = data_perpare(args, 'train', tokenizer)\n",
    "        val_dataset, val_sampler, val_dataloader = data_perpare(args, 'val', tokenizer)\n",
    "        _, _, test_data_loader = data_perpare(args, 'test', tokenizer)"
   ]
  },
  {
   "cell_type": "markdown",
   "id": "17922033-5afb-46e1-b773-8c2a050fd1a1",
   "metadata": {},
   "source": [
    "## Load model\n",
    "\n",
    "load model from model python.\n",
    "for full model implementation, check github.\n",
    "\n",
    "based on given argument model type, the below code will load one of two models.\n",
    "\n",
    "- MULTCrossModel:\n",
    "  - This is a multi-modal cross model. It combines both text and time series data. Depending on the configuration, it may employ Transformer encoders for processing time series data and apply attention mechanisms for processing text embeddings. The model integrates text and time series data at different levels using various fusion techniques such as self-cross attention or cross-modal fusion. Again, the output depends on the task (ihm or pheno), and appropriate loss functions are used accordingly.\n",
    "- \r\n",
    "TSMixed\n",
    "  - This ists a mixed model for time series data. It combines interpolation techniques, such as S_Interp and Cross_Interp, with Transformer-based encoders or other models like LSTM or CNN for processing time series data. It handles mixed-level data, such as batch-level, sequence-level, or feature-level mixup, and outputs predictions based on the task (ihm or pheno)."
   ]
  },
  {
   "attachments": {
    "6378fab6-a84d-4f94-a07f-778f82667fc0.png": {
     "image/png": "[encoded data removed]"
    }
   },
   "cell_type": "markdown",
   "id": "214210e2-42f4-463c-ba51-4582da5c586a",
   "metadata": {},
   "source": [
    "![Screenshot 2024-04-13 185408.png](attachment:6378fab6-a84d-4f94-a07f-778f82667fc0.png)"
   ]
  },
  {
   "cell_type": "code",
   "execution_count": 42,
   "id": "3662950b-fed2-43ca-9f4a-1507dc6437c5",
   "metadata": {},
   "outputs": [],
   "source": [
    "if 'Text' in args.modeltype:\n",
    "    model = MULTCrossModel(args=args, device=device, orig_d_ts=17, orig_reg_d_ts=34, orig_d_txt=768,\n",
    "                           ts_seq_num=args.tt_max, text_seq_num=args.num_of_notes, Biobert=BioBert)\n",
    "else:\n",
    "    model = TSMixed(args=args, device=device, orig_d_ts=17, orig_reg_d_ts=34, ts_seq_num=args.tt_max)"
   ]
  },
  {
   "cell_type": "markdown",
   "id": "f4425ee7-f8d3-4c46-ba0d-30618cecbb49",
   "metadata": {},
   "source": [
    "## train\n",
    "\n",
    "This part of code train model. \n",
    "Given modeltype argument from above, it will set optimizer for different model type. (Text, Timeseries or mix)"
   ]
  },
  {
   "cell_type": "code",
   "execution_count": 43,
   "id": "9f6bea5e-3ebe-4d05-a28e-953f09fa5eed",
   "metadata": {},
   "outputs": [
    {
     "name": "stderr",
     "output_type": "stream",
     "text": [
      "  0%|                                                                                            | 0/1 [00:00<?, ?it/s]"
     ]
    },
    {
     "name": "stdout",
     "output_type": "stream",
     "text": [
      "0 False\n"
     ]
    },
    {
     "name": "stderr",
     "output_type": "stream",
     "text": [
      "\n",
      "0it [00:00, ?it/s]\u001b[A\n",
      "1it [00:00,  1.83it/s]\u001b[A\n",
      "2it [00:00,  3.37it/s]\u001b[A\n",
      "3it [00:00,  4.04it/s]\u001b[A\n",
      "4it [00:00,  5.06it/s]\u001b[A\n",
      "5it [00:01,  5.10it/s]\u001b[A\n",
      "6it [00:01,  5.14it/s]\u001b[A\n",
      "7it [00:01,  5.13it/s]\u001b[A\n",
      "8it [00:01,  5.12it/s]\u001b[A\n",
      "9it [00:01,  5.12it/s]\u001b[A\n",
      "10it [00:02,  5.18it/s]\u001b[A\n",
      "11it [00:02,  5.76it/s]\u001b[A\n",
      "12it [00:02,  5.54it/s]\u001b[A\n",
      "13it [00:02,  5.11it/s]\u001b[A\n",
      "14it [00:02,  5.58it/s]\u001b[A\n",
      "15it [00:03,  5.51it/s]\u001b[A\n",
      "16it [00:03,  6.02it/s]\u001b[A\n",
      "17it [00:03,  5.69it/s]\u001b[A\n",
      "18it [00:03,  6.09it/s]\u001b[A\n",
      "19it [00:03,  5.69it/s]\u001b[A\n",
      "20it [00:03,  6.18it/s]\u001b[A\n",
      "21it [00:04,  5.87it/s]\u001b[A\n",
      "22it [00:04,  6.47it/s]\u001b[A\n",
      "23it [00:04,  6.86it/s]\u001b[A\n",
      "24it [00:04,  6.15it/s]\u001b[A\n",
      "25it [00:04,  6.65it/s]\u001b[A\n",
      "26it [00:04,  7.12it/s]\u001b[A\n",
      "27it [00:04,  6.28it/s]\u001b[A\n",
      "28it [00:05,  5.92it/s]\u001b[A\n",
      "29it [00:05,  5.62it/s]\u001b[A\n",
      "30it [00:05,  6.21it/s]\u001b[A\n",
      "31it [00:05,  5.88it/s]\u001b[A\n",
      "32it [00:05,  5.63it/s]\u001b[A\n",
      "33it [00:05,  5.49it/s]\u001b[A\n",
      "34it [00:06,  5.30it/s]\u001b[A\n",
      "35it [00:06,  5.27it/s]\u001b[A\n",
      "36it [00:06,  5.91it/s]\u001b[A\n",
      "37it [00:06,  5.72it/s]\u001b[A\n",
      "38it [00:06,  6.37it/s]\u001b[A\n",
      "39it [00:06,  6.83it/s]\u001b[A\n",
      "40it [00:07,  6.09it/s]\u001b[A\n",
      "41it [00:07,  5.66it/s]\u001b[A\n",
      "42it [00:07,  6.19it/s]\u001b[A\n",
      "43it [00:07,  6.59it/s]\u001b[A\n",
      "44it [00:07,  6.03it/s]\u001b[A\n",
      "45it [00:07,  6.60it/s]\u001b[A\n",
      "46it [00:08,  7.10it/s]\u001b[A\n",
      "47it [00:08,  7.48it/s]\u001b[A\n",
      "48it [00:08,  6.42it/s]\u001b[A\n",
      "49it [00:08,  6.95it/s]\u001b[A\n",
      "50it [00:08,  7.32it/s]\u001b[A\n",
      "51it [00:08,  7.46it/s]\u001b[A\n",
      "52it [00:08,  6.46it/s]\u001b[A\n",
      "53it [00:09,  5.93it/s]\u001b[A\n",
      "54it [00:09,  5.72it/s]\u001b[A\n",
      "55it [00:09,  6.32it/s]\u001b[A\n",
      "56it [00:09,  6.84it/s]\u001b[A\n",
      "57it [00:09,  7.17it/s]\u001b[A\n",
      "58it [00:09,  7.51it/s]\u001b[A\n",
      "59it [00:09,  6.61it/s]\u001b[A\n",
      "60it [00:10,  6.13it/s]\u001b[A\n",
      "61it [00:10,  5.76it/s]\u001b[A\n",
      "62it [00:10,  6.26it/s]\u001b[A\n",
      "63it [00:10,  5.90it/s]\u001b[A\n",
      "64it [00:10,  6.36it/s]\u001b[A\n",
      "65it [00:11,  5.91it/s]\u001b[A\n",
      "66it [00:11,  5.66it/s]\u001b[A\n",
      "67it [00:11,  5.51it/s]\u001b[A\n",
      "68it [00:11,  5.42it/s]\u001b[A\n",
      "69it [00:11,  5.95it/s]\u001b[A\n",
      "70it [00:11,  5.71it/s]\u001b[A\n",
      "71it [00:12,  5.56it/s]\u001b[A\n",
      "72it [00:12,  6.05it/s]\u001b[A\n",
      "73it [00:12,  5.70it/s]\u001b[A\n",
      "74it [00:12,  5.48it/s]\u001b[A\n",
      "75it [00:12,  5.38it/s]\u001b[A\n",
      "76it [00:13,  5.18it/s]\u001b[A\n",
      "77it [00:13,  5.01it/s]\u001b[A\n",
      "78it [00:13,  4.99it/s]\u001b[A\n",
      "79it [00:13,  5.69it/s]\u001b[A\n",
      "80it [00:13,  6.17it/s]\u001b[A\n",
      "81it [00:13,  5.77it/s]\u001b[A\n",
      "82it [00:14,  6.15it/s]\u001b[A\n",
      "83it [00:14,  6.56it/s]\u001b[A\n",
      "84it [00:14,  5.97it/s]\u001b[A\n",
      "85it [00:14,  5.73it/s]\u001b[A\n",
      "86it [00:14,  6.25it/s]\u001b[A\n",
      "87it [00:14,  6.70it/s]\u001b[A\n",
      "88it [00:14,  7.03it/s]\u001b[A\n",
      "89it [00:15,  6.32it/s]\u001b[A\n",
      "90it [00:15,  6.74it/s]\u001b[A\n",
      "91it [00:15,  6.09it/s]\u001b[A\n",
      "92it [00:15,  5.74it/s]\u001b[A\n",
      "93it [00:15,  5.44it/s]\u001b[A\n",
      "94it [00:16,  5.31it/s]\u001b[A\n",
      "95it [00:16,  5.24it/s]\u001b[A\n",
      "96it [00:16,  5.21it/s]\u001b[A\n",
      "97it [00:16,  5.84it/s]\u001b[A\n",
      "98it [00:16,  6.33it/s]\u001b[A\n",
      "99it [00:16,  5.92it/s]\u001b[A\n",
      "100it [00:17,  5.65it/s]\u001b[A\n",
      "101it [00:17,  6.25it/s]\u001b[A\n",
      "102it [00:17,  5.76it/s]\u001b[A\n",
      "103it [00:17,  5.46it/s]\u001b[A\n",
      "104it [00:17,  5.33it/s]\u001b[A\n",
      "105it [00:18,  5.10it/s]\u001b[A\n",
      "106it [00:18,  5.82it/s]\u001b[A\n",
      "107it [00:18,  5.46it/s]\u001b[A\n",
      "108it [00:18,  5.35it/s]\u001b[A\n",
      "109it [00:18,  6.03it/s]\u001b[A\n",
      "110it [00:18,  6.54it/s]\u001b[A\n",
      "111it [00:19,  6.05it/s]\u001b[A\n",
      "112it [00:19,  6.45it/s]\u001b[A\n",
      "113it [00:19,  6.00it/s]\u001b[A\n",
      "114it [00:19,  5.73it/s]\u001b[A\n",
      "115it [00:19,  6.20it/s]\u001b[A\n",
      "116it [00:19,  5.80it/s]\u001b[A\n",
      "117it [00:20,  5.57it/s]\u001b[A\n",
      "118it [00:20,  6.18it/s]\u001b[A\n",
      "119it [00:20,  6.72it/s]\u001b[A\n",
      "120it [00:20,  7.21it/s]\u001b[A\n",
      "121it [00:20,  7.53it/s]\u001b[A\n",
      "122it [00:20,  6.63it/s]\u001b[A\n",
      "123it [00:20,  6.15it/s]\u001b[A\n",
      "124it [00:21,  6.66it/s]\u001b[A\n",
      "125it [00:21,  7.07it/s]\u001b[A\n",
      "126it [00:21,  7.41it/s]\u001b[A\n",
      "127it [00:21,  6.52it/s]\u001b[A\n",
      "128it [00:21,  6.05it/s]\u001b[A\n",
      "129it [00:21,  6.52it/s]\u001b[A\n",
      "130it [00:21,  6.82it/s]\u001b[A\n",
      "131it [00:22,  6.12it/s]\u001b[A\n",
      "132it [00:22,  5.80it/s]\u001b[A\n",
      "133it [00:22,  6.30it/s]\u001b[A\n",
      "134it [00:22,  5.93it/s]\u001b[A\n",
      "135it [00:22,  6.43it/s]\u001b[A\n",
      "136it [00:22,  6.75it/s]\u001b[A\n",
      "137it [00:23,  6.10it/s]\u001b[A\n",
      "138it [00:23,  6.52it/s]\u001b[A\n",
      "139it [00:23,  6.71it/s]\u001b[A\n",
      "140it [00:23,  6.93it/s]\u001b[A\n",
      "141it [00:23,  7.04it/s]\u001b[A\n",
      "142it [00:23,  7.35it/s]\u001b[A\n",
      "143it [00:23,  7.43it/s]\u001b[A\n",
      "144it [00:24,  6.63it/s]\u001b[A\n",
      "145it [00:24,  7.11it/s]\u001b[A\n",
      "146it [00:24,  7.34it/s]\u001b[A\n",
      "147it [00:24,  6.59it/s]\u001b[A\n",
      "148it [00:24,  6.09it/s]\u001b[A\n",
      "149it [00:24,  6.61it/s]\u001b[A\n",
      "150it [00:24,  6.95it/s]\u001b[A\n",
      "151it [00:25,  6.28it/s]\u001b[A\n",
      "152it [00:25,  5.87it/s]\u001b[A\n",
      "153it [00:25,  5.71it/s]\u001b[A\n",
      "154it [00:25,  6.30it/s]\u001b[A\n",
      "155it [00:25,  5.83it/s]\u001b[A\n",
      "156it [00:26,  5.56it/s]\u001b[A\n",
      "157it [00:26,  5.35it/s]\u001b[A\n",
      "158it [00:26,  5.24it/s]\u001b[A\n",
      "159it [00:26,  5.24it/s]\u001b[A\n",
      "160it [00:26,  5.14it/s]\u001b[A\n",
      "161it [00:27,  5.13it/s]\u001b[A\n",
      "162it [00:27,  5.14it/s]\u001b[A\n",
      "163it [00:27,  5.75it/s]\u001b[A\n",
      "164it [00:27,  5.60it/s]\u001b[A\n",
      "165it [00:27,  6.07it/s]\u001b[A\n",
      "166it [00:27,  5.72it/s]\u001b[A\n",
      "167it [00:28,  5.49it/s]\u001b[A\n",
      "168it [00:28,  5.36it/s]\u001b[A\n",
      "169it [00:28,  5.32it/s]\u001b[A\n",
      "170it [00:28,  6.02it/s]\u001b[A\n",
      "171it [00:28,  5.81it/s]\u001b[A\n",
      "172it [00:28,  6.44it/s]\u001b[A\n",
      "173it [00:28,  6.87it/s]\u001b[A\n",
      "174it [00:29,  6.24it/s]\u001b[A\n",
      "175it [00:29,  6.69it/s]\u001b[A\n",
      "176it [00:29,  6.15it/s]\u001b[A\n",
      "177it [00:29,  6.66it/s]\u001b[A\n",
      "178it [00:29,  6.11it/s]\u001b[A\n",
      "179it [00:29,  6.74it/s]\u001b[A\n",
      "180it [00:30,  7.20it/s]\u001b[A\n",
      "181it [00:30,  7.37it/s]\u001b[A\n",
      "182it [00:30,  6.58it/s]\u001b[A\n",
      "183it [00:30,  6.85it/s]\u001b[A\n",
      "184it [00:30,  6.21it/s]\u001b[A\n",
      "185it [00:30,  5.88it/s]\u001b[A\n",
      "186it [00:31,  5.72it/s]\u001b[A\n",
      "187it [00:31,  6.23it/s]\u001b[A\n",
      "188it [00:31,  6.73it/s]\u001b[A\n",
      "189it [00:31,  7.13it/s]\u001b[A\n",
      "190it [00:31,  6.44it/s]\u001b[A\n",
      "191it [00:31,  6.88it/s]\u001b[A\n",
      "192it [00:31,  6.22it/s]\u001b[A\n",
      "193it [00:32,  6.77it/s]\u001b[A\n",
      "194it [00:32,  6.98it/s]\u001b[A\n",
      "195it [00:32,  6.28it/s]\u001b[A\n",
      "196it [00:32,  6.80it/s]\u001b[A\n",
      "197it [00:32,  6.19it/s]\u001b[A\n",
      "198it [00:32,  6.62it/s]\u001b[A\n",
      "199it [00:33,  6.10it/s]\u001b[A\n",
      "200it [00:33,  5.79it/s]\u001b[A\n",
      "201it [00:33,  5.58it/s]\u001b[A\n",
      "202it [00:33,  5.46it/s]\u001b[A\n",
      "203it [00:33,  5.36it/s]\u001b[A\n",
      "204it [00:33,  5.99it/s]\u001b[A\n",
      "205it [00:34,  6.44it/s]\u001b[A\n",
      "206it [00:34,  5.94it/s]\u001b[A\n",
      "207it [00:34,  5.67it/s]\u001b[A\n",
      "208it [00:34,  6.18it/s]\u001b[A\n",
      "209it [00:34,  5.87it/s]\u001b[A\n",
      "210it [00:34,  6.43it/s]\u001b[A\n",
      "211it [00:35,  5.91it/s]\u001b[A\n",
      "212it [00:35,  5.64it/s]\u001b[A\n",
      "213it [00:35,  5.49it/s]\u001b[A\n",
      "214it [00:35,  5.44it/s]\u001b[A\n",
      "215it [00:35,  6.14it/s]\u001b[A\n",
      "216it [00:35,  6.63it/s]\u001b[A\n",
      "217it [00:36,  6.21it/s]\u001b[A\n",
      "218it [00:36,  6.61it/s]\u001b[A\n",
      "219it [00:36,  6.05it/s]\u001b[A\n",
      "220it [00:36,  5.75it/s]\u001b[A\n",
      "221it [00:36,  6.32it/s]\u001b[A\n",
      "222it [00:36,  6.81it/s]\u001b[A\n",
      "223it [00:36,  7.01it/s]\u001b[A\n",
      "224it [00:37,  6.33it/s]\u001b[A\n",
      "225it [00:37,  6.82it/s]\u001b[A\n",
      "226it [00:37,  6.20it/s]\u001b[A\n",
      "227it [00:37,  6.71it/s]\u001b[A\n",
      "228it [00:37,  6.16it/s]\u001b[A\n",
      "229it [00:38,  5.81it/s]\u001b[A\n",
      "230it [00:38,  5.57it/s]\u001b[A\n",
      "231it [00:38,  5.31it/s]\u001b[A\n",
      "232it [00:38,  5.27it/s]\u001b[A\n",
      "233it [00:38,  5.25it/s]\u001b[A\n",
      "234it [00:38,  5.18it/s]\u001b[A\n",
      "235it [00:39,  5.09it/s]\u001b[A\n",
      "236it [00:39,  5.67it/s]\u001b[A\n",
      "237it [00:39,  5.44it/s]\u001b[A\n",
      "238it [00:39,  5.36it/s]\u001b[A\n",
      "239it [00:39,  5.95it/s]\u001b[A\n",
      "240it [00:40,  5.68it/s]\u001b[A\n",
      "241it [00:40,  6.24it/s]\u001b[A\n",
      "242it [00:40,  5.89it/s]\u001b[A\n",
      "243it [00:40,  6.38it/s]\u001b[A\n",
      "244it [00:40,  6.01it/s]\u001b[A\n",
      "245it [00:40,  5.69it/s]\u001b[A\n",
      "246it [00:41,  5.53it/s]\u001b[A\n",
      "247it [00:41,  5.39it/s]\u001b[A\n",
      "248it [00:41,  6.00it/s]\u001b[A\n",
      "249it [00:41,  5.78it/s]\u001b[A\n",
      "250it [00:41,  5.65it/s]\u001b[A\n",
      "251it [00:41,  6.30it/s]\u001b[A\n",
      "252it [00:42,  5.86it/s]\u001b[A\n",
      "253it [00:42,  5.65it/s]\u001b[A\n",
      "254it [00:42,  6.30it/s]\u001b[A\n",
      "255it [00:42,  6.80it/s]\u001b[A\n",
      "256it [00:42,  6.22it/s]\u001b[A\n",
      "257it [00:42,  6.72it/s]\u001b[A\n",
      "258it [00:43,  6.12it/s]\u001b[A\n",
      "259it [00:43,  5.87it/s]\u001b[A\n",
      "260it [00:43,  6.40it/s]\u001b[A\n",
      "261it [00:43,  5.95it/s]\u001b[A\n",
      "262it [00:43,  6.47it/s]\u001b[A\n",
      "263it [00:43,  6.06it/s]\u001b[A\n",
      "264it [00:44,  5.77it/s]\u001b[A\n",
      "265it [00:44,  6.31it/s]\u001b[A\n",
      "266it [00:44,  6.72it/s]\u001b[A\n",
      "267it [00:44,  6.20it/s]\u001b[A\n",
      "268it [00:44,  5.82it/s]\u001b[A\n",
      "269it [00:44,  5.62it/s]\u001b[A\n",
      "270it [00:45,  5.48it/s]\u001b[A\n",
      "271it [00:45,  5.37it/s]\u001b[A\n",
      "272it [00:45,  5.22it/s]\u001b[A\n",
      "273it [00:45,  5.90it/s]\u001b[A\n",
      "274it [00:45,  5.68it/s]\u001b[A\n",
      "275it [00:45,  5.50it/s]\u001b[A\n",
      "276it [00:46,  6.04it/s]\u001b[A\n",
      "277it [00:46,  5.72it/s]\u001b[A\n",
      "278it [00:46,  6.19it/s]\u001b[A\n",
      "279it [00:46,  5.83it/s]\u001b[A\n",
      "280it [00:46,  5.61it/s]\u001b[A\n",
      "281it [00:46,  5.50it/s]\u001b[A\n",
      "282it [00:47,  5.41it/s]\u001b[A\n",
      "283it [00:47,  6.08it/s]\u001b[A\n",
      "284it [00:47,  6.54it/s]\u001b[A\n",
      "285it [00:47,  6.13it/s]\u001b[A\n",
      "286it [00:47,  5.80it/s]\u001b[A\n",
      "287it [00:47,  6.31it/s]\u001b[A\n",
      "288it [00:48,  5.90it/s]\u001b[A\n",
      "289it [00:48,  6.51it/s]\u001b[A\n",
      "290it [00:48,  6.95it/s]\u001b[A\n",
      "291it [00:48,  7.16it/s]\u001b[A\n",
      "292it [00:48,  6.39it/s]\u001b[A\n",
      "293it [00:48,  5.90it/s]\u001b[A\n",
      "294it [00:49,  5.63it/s]\u001b[A\n",
      "295it [00:49,  5.49it/s]\u001b[A\n",
      "296it [00:49,  6.16it/s]\u001b[A\n",
      "297it [00:49,  6.69it/s]\u001b[A\n",
      "298it [00:49,  6.12it/s]\u001b[A\n",
      "299it [00:49,  6.59it/s]\u001b[A\n",
      "300it [00:49,  7.03it/s]\u001b[A\n",
      "301it [00:50,  6.29it/s]\u001b[A\n",
      "302it [00:50,  6.82it/s]\u001b[A\n",
      "303it [00:50,  7.34it/s]\u001b[A\n",
      "304it [00:50,  7.48it/s]\u001b[A\n",
      "305it [00:50,  6.65it/s]\u001b[A\n",
      "306it [00:50,  7.10it/s]\u001b[A\n",
      "307it [00:51,  6.38it/s]\u001b[A\n",
      "308it [00:51,  6.01it/s]\u001b[A\n",
      "309it [00:51,  5.76it/s]\u001b[A\n",
      "310it [00:51,  6.41it/s]\u001b[A\n",
      "311it [00:51,  6.86it/s]\u001b[A\n",
      "312it [00:51,  5.92it/s]\u001b[A\n",
      "313it [00:52,  5.72it/s]\u001b[A\n",
      "314it [00:52,  5.55it/s]\u001b[A\n",
      "315it [00:52,  6.19it/s]\u001b[A\n",
      "316it [00:52,  6.64it/s]\u001b[A\n",
      "317it [00:52,  7.00it/s]\u001b[A\n",
      "318it [00:52,  6.27it/s]\u001b[A\n",
      "319it [00:52,  5.77it/s]\u001b[A\n",
      "320it [00:53,  6.13it/s]\u001b[A\n",
      "321it [00:53,  5.60it/s]\u001b[A\n",
      "322it [00:53,  5.43it/s]\u001b[A\n",
      "323it [00:53,  5.28it/s]\u001b[A\n",
      "324it [00:53,  5.87it/s]\u001b[A\n",
      "325it [00:54,  6.24it/s]\u001b[A\n",
      "326it [00:54,  5.85it/s]\u001b[A\n",
      "327it [00:54,  5.53it/s]\u001b[A\n",
      "328it [00:54,  5.38it/s]\u001b[A\n",
      "329it [00:54,  5.93it/s]\u001b[A\n",
      "330it [00:54,  6.49it/s]\u001b[A\n",
      "331it [00:54,  6.75it/s]\u001b[A\n",
      "332it [00:55,  6.05it/s]\u001b[A\n",
      "333it [00:55,  5.72it/s]\u001b[A\n",
      "334it [00:55,  6.17it/s]\u001b[A\n",
      "335it [00:55,  5.78it/s]\u001b[A\n",
      "336it [00:55,  5.49it/s]\u001b[A\n",
      "337it [00:56,  5.35it/s]\u001b[A\n",
      "338it [00:56,  5.26it/s]\u001b[A\n",
      "339it [00:56,  5.94it/s]\u001b[A\n",
      "340it [00:56,  6.30it/s]\u001b[A\n",
      "342it [00:56,  6.54it/s]\u001b[A\n",
      "343it [00:57,  6.11it/s]\u001b[A\n",
      "344it [00:57,  6.50it/s]\u001b[A\n",
      "345it [00:57,  6.85it/s]\u001b[A\n",
      "346it [00:57,  6.36it/s]\u001b[A\n",
      "347it [00:57,  6.76it/s]\u001b[A\n",
      "348it [00:57,  7.11it/s]\u001b[A\n",
      "349it [00:57,  7.36it/s]\u001b[A\n",
      "350it [00:57,  7.49it/s]\u001b[A\n",
      "351it [00:58,  7.34it/s]\u001b[A\n",
      "353it [00:58,  8.57it/s]\u001b[A\n",
      "354it [00:58,  8.53it/s]\u001b[A\n",
      "355it [00:58,  7.34it/s]\u001b[A\n",
      "356it [00:58,  6.64it/s]\u001b[A\n",
      "357it [00:59,  6.13it/s]\u001b[A\n",
      "358it [00:59,  5.61it/s]\u001b[A\n",
      "359it [00:59,  6.15it/s]\u001b[A\n",
      "360it [00:59,  5.85it/s]\u001b[A\n",
      "361it [00:59,  6.39it/s]\u001b[A\n",
      "362it [00:59,  6.77it/s]\u001b[A\n",
      "363it [01:00,  6.11it/s]\u001b[A\n",
      "364it [01:00,  5.72it/s]\u001b[A\n",
      "365it [01:00,  5.43it/s]\u001b[A\n",
      "366it [01:00,  5.25it/s]\u001b[A\n",
      "367it [01:00,  5.07it/s]\u001b[A\n",
      "368it [01:00,  5.63it/s]\u001b[A\n",
      "369it [01:01,  6.11it/s]\u001b[A\n",
      "370it [01:01,  5.76it/s]\u001b[A\n",
      "371it [01:01,  6.24it/s]\u001b[A\n",
      "372it [01:01,  5.82it/s]\u001b[A\n",
      "373it [01:01,  5.56it/s]\u001b[A\n",
      "374it [01:01,  6.18it/s]\u001b[A\n",
      "375it [01:02,  5.81it/s]\u001b[A\n",
      "376it [01:02,  6.17it/s]\u001b[A\n",
      "377it [01:02,  5.67it/s]\u001b[A\n",
      "378it [01:02,  5.33it/s]\u001b[A\n",
      "379it [01:02,  5.84it/s]\u001b[A\n",
      "380it [01:03,  5.55it/s]\u001b[A\n",
      "381it [01:03,  6.12it/s]\u001b[A\n",
      "382it [01:03,  6.59it/s]\u001b[A\n",
      "383it [01:03,  5.89it/s]\u001b[A\n",
      "384it [01:03,  5.57it/s]\u001b[A\n",
      "385it [01:03,  6.17it/s]\u001b[A\n",
      "386it [01:04,  5.73it/s]\u001b[A\n",
      "387it [01:04,  6.27it/s]\u001b[A\n",
      "388it [01:04,  5.94it/s]\u001b[A\n",
      "389it [01:04,  6.48it/s]\u001b[A\n",
      "390it [01:04,  6.03it/s]\u001b[A\n",
      "391it [01:04,  6.58it/s]\u001b[A\n",
      "392it [01:04,  6.89it/s]\u001b[A\n",
      "393it [01:05,  6.27it/s]\u001b[A\n",
      "394it [01:05,  5.89it/s]\u001b[A\n",
      "395it [01:05,  5.58it/s]\u001b[A\n",
      "396it [01:05,  5.46it/s]\u001b[A\n",
      "397it [01:05,  5.38it/s]\u001b[A\n",
      "398it [01:05,  6.00it/s]\u001b[A\n",
      "399it [01:06,  5.70it/s]\u001b[A\n",
      "400it [01:06,  6.27it/s]\u001b[A\n",
      "401it [01:06,  5.81it/s]\u001b[A\n",
      "402it [01:06,  5.56it/s]\u001b[A\n",
      "403it [01:06,  6.14it/s]\u001b[A\n",
      "404it [01:07,  5.85it/s]\u001b[A\n",
      "405it [01:07,  6.36it/s]\u001b[A\n",
      "406it [01:07,  6.85it/s]\u001b[A\n",
      "407it [01:07,  7.13it/s]\u001b[A\n",
      "408it [01:07,  6.32it/s]\u001b[A\n",
      "409it [01:07,  6.55it/s]\u001b[A\n",
      "410it [01:07,  6.06it/s]\u001b[A\n",
      "411it [01:08,  6.58it/s]\u001b[A\n",
      "412it [01:08,  5.99it/s]\u001b[A\n",
      "413it [01:08,  6.44it/s]\u001b[A\n",
      "414it [01:08,  6.73it/s]\u001b[A\n",
      "415it [01:08,  6.15it/s]\u001b[A\n",
      "416it [01:08,  6.66it/s]\u001b[A\n",
      "417it [01:08,  7.14it/s]\u001b[A\n",
      "418it [01:09,  7.33it/s]\u001b[A\n",
      "419it [01:09,  6.41it/s]\u001b[A\n",
      "420it [01:09,  6.82it/s]\u001b[A\n",
      "421it [01:09,  6.06it/s]\u001b[A\n",
      "422it [01:09,  5.65it/s]\u001b[A\n",
      "423it [01:10,  5.46it/s]\u001b[A\n",
      "424it [01:10,  5.23it/s]\u001b[A\n",
      "425it [01:10,  5.92it/s]\u001b[A\n",
      "426it [01:10,  6.42it/s]\u001b[A\n",
      "427it [01:10,  5.88it/s]\u001b[A\n",
      "428it [01:10,  5.62it/s]\u001b[A\n",
      "429it [01:11,  5.37it/s]\u001b[A\n",
      "430it [01:11,  5.25it/s]\u001b[A\n",
      "431it [01:11,  5.85it/s]\u001b[A\n",
      "432it [01:11,  5.58it/s]\u001b[A\n",
      "433it [01:11,  6.29it/s]\u001b[A\n",
      "434it [01:11,  6.90it/s]\u001b[A\n",
      "435it [01:11,  7.15it/s]\u001b[A\n",
      "436it [01:12,  6.35it/s]\u001b[A\n",
      "437it [01:12,  6.78it/s]\u001b[A\n",
      "438it [01:12,  7.14it/s]\u001b[A\n",
      "439it [01:12,  7.36it/s]\u001b[A\n",
      "440it [01:12,  6.57it/s]\u001b[A\n",
      "441it [01:12,  6.83it/s]\u001b[A\n",
      "442it [01:13,  6.27it/s]\u001b[A\n",
      "443it [01:13,  6.61it/s]\u001b[A\n",
      "444it [01:13,  5.98it/s]\u001b[A\n",
      "445it [01:13,  5.72it/s]\u001b[A\n",
      "446it [01:13,  6.21it/s]\u001b[A\n",
      "447it [01:13,  5.69it/s]\u001b[A\n",
      "448it [01:14,  5.12it/s]\u001b[A\n",
      "449it [01:14,  5.70it/s]\u001b[A\n",
      "450it [01:14,  5.53it/s]\u001b[A\n",
      "451it [01:14,  5.37it/s]\u001b[A\n",
      "452it [01:14,  5.23it/s]\u001b[A\n",
      "453it [01:15,  5.19it/s]\u001b[A\n",
      "454it [01:15,  5.71it/s]\u001b[A\n",
      "455it [01:15,  5.46it/s]\u001b[A\n",
      "456it [01:15,  5.27it/s]\u001b[A\n",
      "457it [01:15,  5.21it/s]\u001b[A\n",
      "458it [01:16,  5.07it/s]\u001b[A\n",
      "459it [01:16,  5.02it/s]\u001b[A\n",
      "460it [01:16,  4.89it/s]\u001b[A\n",
      "461it [01:16,  4.97it/s]\u001b[A\n",
      "462it [01:16,  5.50it/s]\u001b[A\n",
      "463it [01:16,  5.38it/s]\u001b[A\n",
      "464it [01:17,  5.90it/s]\u001b[A\n",
      "465it [01:17,  5.65it/s]\u001b[A\n",
      "466it [01:17,  6.14it/s]\u001b[A\n",
      "467it [01:17,  5.78it/s]\u001b[A\n",
      "468it [01:17,  5.55it/s]\u001b[A\n",
      "469it [01:17,  6.19it/s]\u001b[A\n",
      "470it [01:18,  6.64it/s]\u001b[A\n",
      "471it [01:18,  6.98it/s]\u001b[A\n",
      "472it [01:18,  6.35it/s]\u001b[A\n",
      "473it [01:18,  5.85it/s]\u001b[A\n",
      "474it [01:18,  5.64it/s]\u001b[A\n",
      "475it [01:18,  5.47it/s]\u001b[A\n",
      "476it [01:19,  5.37it/s]\u001b[A\n",
      "477it [01:19,  6.00it/s]\u001b[A\n",
      "478it [01:19,  5.66it/s]\u001b[A\n",
      "479it [01:19,  5.41it/s]\u001b[A\n",
      "480it [01:19,  5.28it/s]\u001b[A\n",
      "481it [01:20,  5.22it/s]\u001b[A\n",
      "482it [01:20,  5.74it/s]\u001b[A\n",
      "483it [01:20,  6.23it/s]\u001b[A\n",
      "484it [01:20,  6.62it/s]\u001b[A\n",
      "485it [01:20,  7.00it/s]\u001b[A\n",
      "486it [01:20,  7.18it/s]\u001b[A\n",
      "487it [01:20,  6.35it/s]\u001b[A\n",
      "488it [01:21,  5.85it/s]\u001b[A\n",
      "489it [01:21,  6.18it/s]\u001b[A\n",
      "490it [01:21,  6.54it/s]\u001b[A\n",
      "491it [01:21,  6.58it/s]\u001b[A\n",
      "492it [01:21,  6.83it/s]\u001b[A\n",
      "493it [01:21,  6.13it/s]\u001b[A\n",
      "494it [01:21,  6.56it/s]\u001b[A\n",
      "495it [01:22,  5.83it/s]\u001b[A\n",
      "496it [01:22,  5.40it/s]\u001b[A\n",
      "497it [01:22,  5.77it/s]\u001b[A\n",
      "498it [01:22,  6.23it/s]\u001b[A\n",
      "499it [01:22,  5.72it/s]\u001b[A\n",
      "500it [01:23,  6.02it/s]\u001b[A\n",
      "\n",
      "  0%|                                                                                          | 0/125 [00:00<?, ?it/s]\u001b[A\n",
      "  1%|▋                                                                                 | 1/125 [00:00<01:33,  1.33it/s]\u001b[A\n",
      "  2%|█▎                                                                                | 2/125 [00:01<01:27,  1.40it/s]\u001b[A\n",
      "  2%|█▉                                                                                | 3/125 [00:02<01:26,  1.40it/s]\u001b[A\n",
      "  3%|██▌                                                                               | 4/125 [00:02<01:24,  1.43it/s]\u001b[A\n",
      "  4%|███▎                                                                              | 5/125 [00:03<01:22,  1.45it/s]\u001b[A\n",
      "  5%|███▉                                                                              | 6/125 [00:04<01:23,  1.43it/s]\u001b[A\n",
      "  6%|████▌                                                                             | 7/125 [00:04<01:23,  1.41it/s]\u001b[A\n",
      "  6%|█████▏                                                                            | 8/125 [00:05<01:22,  1.41it/s]\u001b[A\n",
      "  7%|█████▉                                                                            | 9/125 [00:06<01:21,  1.42it/s]\u001b[A\n",
      "  8%|██████▍                                                                          | 10/125 [00:07<01:20,  1.43it/s]\u001b[A\n",
      "  9%|███████▏                                                                         | 11/125 [00:07<01:19,  1.43it/s]\u001b[A\n",
      " 10%|███████▊                                                                         | 12/125 [00:08<01:18,  1.43it/s]\u001b[A\n",
      " 10%|████████▍                                                                        | 13/125 [00:09<01:17,  1.44it/s]\u001b[A\n",
      " 11%|█████████                                                                        | 14/125 [00:09<01:17,  1.44it/s]\u001b[A\n",
      " 12%|█████████▋                                                                       | 15/125 [00:10<01:16,  1.44it/s]\u001b[A\n",
      " 13%|██████████▎                                                                      | 16/125 [00:11<01:15,  1.44it/s]\u001b[A\n",
      " 14%|███████████                                                                      | 17/125 [00:11<01:15,  1.43it/s]\u001b[A\n",
      " 14%|███████████▋                                                                     | 18/125 [00:12<01:14,  1.43it/s]\u001b[A\n",
      " 15%|████████████▎                                                                    | 19/125 [00:13<01:14,  1.42it/s]\u001b[A\n",
      " 16%|████████████▉                                                                    | 20/125 [00:14<01:13,  1.43it/s]\u001b[A\n",
      " 17%|█████████████▌                                                                   | 21/125 [00:14<01:09,  1.49it/s]\u001b[A\n",
      " 18%|██████████████▎                                                                  | 22/125 [00:15<01:10,  1.47it/s]\u001b[A\n",
      " 18%|██████████████▉                                                                  | 23/125 [00:16<01:09,  1.47it/s]\u001b[A\n",
      " 19%|███████████████▌                                                                 | 24/125 [00:16<01:08,  1.47it/s]\u001b[A\n",
      " 20%|████████████████▏                                                                | 25/125 [00:17<00:59,  1.68it/s]\u001b[A\n",
      " 21%|████████████████▊                                                                | 26/125 [00:17<01:01,  1.62it/s]\u001b[A\n",
      " 22%|█████████████████▍                                                               | 27/125 [00:18<01:02,  1.57it/s]\u001b[A\n",
      " 22%|██████████████████▏                                                              | 28/125 [00:19<01:03,  1.53it/s]\u001b[A\n",
      " 23%|██████████████████▊                                                              | 29/125 [00:19<01:04,  1.49it/s]\u001b[A\n",
      " 24%|███████████████████▍                                                             | 30/125 [00:20<01:04,  1.48it/s]\u001b[A\n",
      " 25%|████████████████████                                                             | 31/125 [00:21<01:03,  1.47it/s]\u001b[A\n",
      " 26%|████████████████████▋                                                            | 32/125 [00:21<01:03,  1.46it/s]\u001b[A\n",
      " 26%|█████████████████████▍                                                           | 33/125 [00:22<00:54,  1.70it/s]\u001b[A\n",
      " 27%|██████████████████████                                                           | 34/125 [00:22<00:56,  1.61it/s]\u001b[A\n",
      " 28%|██████████████████████▋                                                          | 35/125 [00:23<00:57,  1.56it/s]\u001b[A\n",
      " 29%|███████████████████████▎                                                         | 36/125 [00:24<00:57,  1.54it/s]\u001b[A\n",
      " 30%|███████████████████████▉                                                         | 37/125 [00:25<00:58,  1.51it/s]\u001b[A\n",
      " 30%|████████████████████████▌                                                        | 38/125 [00:25<00:58,  1.48it/s]\u001b[A\n",
      " 31%|█████████████████████████▎                                                       | 39/125 [00:26<00:57,  1.49it/s]\u001b[A\n",
      " 32%|█████████████████████████▉                                                       | 40/125 [00:27<00:57,  1.48it/s]\u001b[A\n",
      " 33%|██████████████████████████▌                                                      | 41/125 [00:27<00:56,  1.48it/s]\u001b[A\n",
      " 34%|███████████████████████████▏                                                     | 42/125 [00:28<00:55,  1.49it/s]\u001b[A\n",
      " 34%|███████████████████████████▊                                                     | 43/125 [00:29<00:55,  1.47it/s]\u001b[A\n",
      " 35%|████████████████████████████▌                                                    | 44/125 [00:29<00:55,  1.46it/s]\u001b[A\n",
      " 36%|█████████████████████████████▏                                                   | 45/125 [00:30<00:54,  1.46it/s]\u001b[A\n",
      " 37%|█████████████████████████████▊                                                   | 46/125 [00:31<00:53,  1.47it/s]\u001b[A\n",
      " 38%|██████████████████████████████▍                                                  | 47/125 [00:31<00:53,  1.45it/s]\u001b[A\n",
      " 38%|███████████████████████████████                                                  | 48/125 [00:32<00:52,  1.47it/s]\u001b[A\n",
      " 39%|███████████████████████████████▊                                                 | 49/125 [00:32<00:45,  1.67it/s]\u001b[A\n",
      " 40%|████████████████████████████████▍                                                | 50/125 [00:33<00:46,  1.60it/s]\u001b[A\n",
      " 41%|█████████████████████████████████                                                | 51/125 [00:34<00:47,  1.57it/s]\u001b[A\n",
      " 42%|█████████████████████████████████▋                                               | 52/125 [00:34<00:47,  1.54it/s]\u001b[A\n",
      " 42%|██████████████████████████████████▎                                              | 53/125 [00:35<00:47,  1.52it/s]\u001b[A\n",
      " 43%|██████████████████████████████████▉                                              | 54/125 [00:36<00:47,  1.49it/s]\u001b[A\n",
      " 44%|███████████████████████████████████▋                                             | 55/125 [00:37<00:46,  1.50it/s]\u001b[A\n",
      " 45%|████████████████████████████████████▎                                            | 56/125 [00:37<00:46,  1.49it/s]\u001b[A\n",
      " 46%|████████████████████████████████████▉                                            | 57/125 [00:38<00:45,  1.49it/s]\u001b[A\n",
      " 46%|█████████████████████████████████████▌                                           | 58/125 [00:39<00:44,  1.49it/s]\u001b[A\n",
      " 47%|██████████████████████████████████████▏                                          | 59/125 [00:39<00:44,  1.49it/s]\u001b[A\n",
      " 48%|██████████████████████████████████████▉                                          | 60/125 [00:40<00:44,  1.46it/s]\u001b[A\n",
      " 49%|███████████████████████████████████████▌                                         | 61/125 [00:41<00:43,  1.48it/s]\u001b[A\n",
      " 50%|████████████████████████████████████████▏                                        | 62/125 [00:41<00:42,  1.47it/s]\u001b[A\n",
      " 50%|████████████████████████████████████████▊                                        | 63/125 [00:42<00:42,  1.47it/s]\u001b[A\n",
      " 51%|█████████████████████████████████████████▍                                       | 64/125 [00:43<00:41,  1.49it/s]\u001b[A\n",
      " 52%|██████████████████████████████████████████                                       | 65/125 [00:43<00:40,  1.49it/s]\u001b[A\n",
      " 53%|██████████████████████████████████████████▊                                      | 66/125 [00:44<00:39,  1.48it/s]\u001b[A\n",
      " 54%|███████████████████████████████████████████▍                                     | 67/125 [00:45<00:38,  1.49it/s]\u001b[A\n",
      " 54%|████████████████████████████████████████████                                     | 68/125 [00:45<00:38,  1.49it/s]\u001b[A\n",
      " 55%|████████████████████████████████████████████▋                                    | 69/125 [00:46<00:37,  1.50it/s]\u001b[A\n",
      " 56%|█████████████████████████████████████████████▎                                   | 70/125 [00:47<00:36,  1.50it/s]\u001b[A\n",
      " 57%|██████████████████████████████████████████████                                   | 71/125 [00:47<00:35,  1.50it/s]\u001b[A\n",
      " 58%|██████████████████████████████████████████████▋                                  | 72/125 [00:48<00:35,  1.49it/s]\u001b[A\n",
      " 58%|███████████████████████████████████████████████▎                                 | 73/125 [00:49<00:34,  1.50it/s]\u001b[A\n",
      " 59%|███████████████████████████████████████████████▉                                 | 74/125 [00:49<00:33,  1.50it/s]\u001b[A\n",
      " 60%|████████████████████████████████████████████████▌                                | 75/125 [00:50<00:33,  1.50it/s]\u001b[A\n",
      " 61%|█████████████████████████████████████████████████▏                               | 76/125 [00:51<00:32,  1.50it/s]\u001b[A\n",
      " 62%|█████████████████████████████████████████████████▉                               | 77/125 [00:51<00:31,  1.50it/s]\u001b[A\n",
      " 62%|██████████████████████████████████████████████████▌                              | 78/125 [00:52<00:31,  1.48it/s]\u001b[A\n",
      " 63%|███████████████████████████████████████████████████▏                             | 79/125 [00:53<00:30,  1.49it/s]\u001b[A\n",
      " 64%|███████████████████████████████████████████████████▊                             | 80/125 [00:53<00:30,  1.48it/s]\u001b[A\n",
      " 65%|████████████████████████████████████████████████████▍                            | 81/125 [00:54<00:29,  1.49it/s]\u001b[A\n",
      " 66%|█████████████████████████████████████████████████████▏                           | 82/125 [00:54<00:25,  1.70it/s]\u001b[A\n",
      " 66%|█████████████████████████████████████████████████████▊                           | 83/125 [00:55<00:25,  1.64it/s]\u001b[A\n",
      " 67%|██████████████████████████████████████████████████████▍                          | 84/125 [00:56<00:26,  1.58it/s]\u001b[A\n",
      " 68%|███████████████████████████████████████████████████████                          | 85/125 [00:56<00:25,  1.56it/s]\u001b[A\n",
      " 69%|███████████████████████████████████████████████████████▋                         | 86/125 [00:57<00:25,  1.54it/s]\u001b[A\n",
      " 70%|████████████████████████████████████████████████████████▍                        | 87/125 [00:58<00:24,  1.52it/s]\u001b[A\n",
      " 70%|█████████████████████████████████████████████████████████                        | 88/125 [00:58<00:24,  1.51it/s]\u001b[A\n",
      " 71%|█████████████████████████████████████████████████████████▋                       | 89/125 [00:59<00:23,  1.51it/s]\u001b[A\n",
      " 72%|██████████████████████████████████████████████████████████▎                      | 90/125 [01:00<00:23,  1.51it/s]\u001b[A\n",
      " 73%|██████████████████████████████████████████████████████████▉                      | 91/125 [01:00<00:22,  1.51it/s]\u001b[A\n",
      " 74%|███████████████████████████████████████████████████████████▌                     | 92/125 [01:01<00:21,  1.51it/s]\u001b[A\n",
      " 74%|████████████████████████████████████████████████████████████▎                    | 93/125 [01:02<00:20,  1.55it/s]\u001b[A\n",
      " 75%|████████████████████████████████████████████████████████████▉                    | 94/125 [01:02<00:20,  1.53it/s]\u001b[A\n",
      " 76%|█████████████████████████████████████████████████████████████▌                   | 95/125 [01:03<00:19,  1.51it/s]\u001b[A\n",
      " 77%|██████████████████████████████████████████████████████████████▏                  | 96/125 [01:04<00:19,  1.51it/s]\u001b[A\n",
      " 78%|██████████████████████████████████████████████████████████████▊                  | 97/125 [01:04<00:18,  1.49it/s]\u001b[A\n",
      " 78%|███████████████████████████████████████████████████████████████▌                 | 98/125 [01:05<00:18,  1.50it/s]\u001b[A\n",
      " 79%|████████████████████████████████████████████████████████████████▏                | 99/125 [01:06<00:17,  1.50it/s]\u001b[A\n",
      " 80%|████████████████████████████████████████████████████████████████                | 100/125 [01:06<00:16,  1.50it/s]\u001b[A\n",
      " 81%|████████████████████████████████████████████████████████████████▋               | 101/125 [01:07<00:16,  1.49it/s]\u001b[A\n",
      " 82%|█████████████████████████████████████████████████████████████████▎              | 102/125 [01:08<00:15,  1.49it/s]\u001b[A\n",
      " 82%|█████████████████████████████████████████████████████████████████▉              | 103/125 [01:08<00:14,  1.49it/s]\u001b[A\n",
      " 83%|██████████████████████████████████████████████████████████████████▌             | 104/125 [01:09<00:14,  1.48it/s]\u001b[A\n",
      " 84%|███████████████████████████████████████████████████████████████████▏            | 105/125 [01:10<00:13,  1.49it/s]\u001b[A\n",
      " 85%|███████████████████████████████████████████████████████████████████▊            | 106/125 [01:10<00:12,  1.48it/s]\u001b[A\n",
      " 86%|████████████████████████████████████████████████████████████████████▍           | 107/125 [01:11<00:12,  1.48it/s]\u001b[A\n",
      " 86%|█████████████████████████████████████████████████████████████████████           | 108/125 [01:12<00:11,  1.48it/s]\u001b[A\n",
      " 87%|█████████████████████████████████████████████████████████████████████▊          | 109/125 [01:12<00:10,  1.48it/s]\u001b[A\n",
      " 88%|██████████████████████████████████████████████████████████████████████▍         | 110/125 [01:13<00:10,  1.47it/s]\u001b[A\n",
      " 89%|███████████████████████████████████████████████████████████████████████         | 111/125 [01:14<00:09,  1.46it/s]\u001b[A\n",
      " 90%|███████████████████████████████████████████████████████████████████████▋        | 112/125 [01:14<00:08,  1.47it/s]\u001b[A\n",
      " 90%|████████████████████████████████████████████████████████████████████████▎       | 113/125 [01:15<00:08,  1.48it/s]\u001b[A\n",
      " 91%|████████████████████████████████████████████████████████████████████████▉       | 114/125 [01:16<00:07,  1.48it/s]\u001b[A\n",
      " 92%|█████████████████████████████████████████████████████████████████████████▌      | 115/125 [01:17<00:06,  1.47it/s]\u001b[A\n",
      " 93%|██████████████████████████████████████████████████████████████████████████▏     | 116/125 [01:17<00:06,  1.47it/s]\u001b[A\n",
      " 94%|██████████████████████████████████████████████████████████████████████████▉     | 117/125 [01:18<00:05,  1.47it/s]\u001b[A\n",
      " 94%|███████████████████████████████████████████████████████████████████████████▌    | 118/125 [01:19<00:04,  1.46it/s]\u001b[A\n",
      " 95%|████████████████████████████████████████████████████████████████████████████▏   | 119/125 [01:19<00:04,  1.46it/s]\u001b[A\n",
      " 96%|████████████████████████████████████████████████████████████████████████████▊   | 120/125 [01:20<00:03,  1.46it/s]\u001b[A\n",
      " 97%|█████████████████████████████████████████████████████████████████████████████▍  | 121/125 [01:21<00:02,  1.46it/s]\u001b[A\n",
      " 98%|██████████████████████████████████████████████████████████████████████████████  | 122/125 [01:21<00:02,  1.44it/s]\u001b[A\n",
      " 98%|██████████████████████████████████████████████████████████████████████████████▋ | 123/125 [01:22<00:01,  1.44it/s]\u001b[A\n",
      " 99%|███████████████████████████████████████████████████████████████████████████████▎| 124/125 [01:23<00:00,  1.45it/s]\u001b[A\n",
      "100%|████████████████████████████████████████████████████████████████████████████████| 125/125 [01:23<00:00,  1.49it/s]\u001b[A\n",
      "100%|███████████████████████████████████████████████████████████████████████████████████| 1/1 [02:47<00:00, 167.12s/it]"
     ]
    },
    {
     "name": "stdout",
     "output_type": "stream",
     "text": [
      "Current auc 0.8121432052353105\n",
      "Best auc 0.8121432052353105\n",
      "Current auprc 0.4312691590683202\n",
      "Best auprc 0.4312691590683202\n",
      "Current f1 0.33507853403141363\n",
      "Best f1 0.33507853403141363\n"
     ]
    },
    {
     "name": "stderr",
     "output_type": "stream",
     "text": [
      "\n"
     ]
    }
   ],
   "source": [
    "if args.modeltype == 'TS':\n",
    "        optimizer = torch.optim.Adam(model.parameters(), lr=args.ts_learning_rate)\n",
    "elif args.modeltype == 'Text' or args.modeltype == 'TS_Text':\n",
    "    optimizer = torch.optim.Adam([\n",
    "        {'params': [p for n, p in model.named_parameters() if 'bert' not in n]},\n",
    "        {'params': [p for n, p in model.named_parameters() if 'bert' in n], 'lr': args.txt_learning_rate}\n",
    "    ], lr=args.ts_learning_rate)\n",
    "else:\n",
    "    raise ValueError(\"Unknown modeltype in optimizer.\")\n",
    "\n",
    "model, optimizer, train_dataloader, val_dataloader, test_data_loader = \\\n",
    "    accelerator.prepare(model, optimizer, train_dataloader, val_dataloader, test_data_loader)\n",
    "\n",
    "trainer_irg(model=model, args=args, accelerator=accelerator, train_dataloader=train_dataloader, \\\n",
    "            dev_dataloader=val_dataloader, test_data_loader=test_data_loader, device=device, \\\n",
    "            optimizer=optimizer, writer=writer)"
   ]
  },
  {
   "cell_type": "markdown",
   "id": "2abaeb54759b9c2f",
   "metadata": {
    "collapsed": false,
    "jupyter": {
     "outputs_hidden": false
    }
   },
   "source": [
    "# Evaluate"
   ]
  },
  {
   "cell_type": "code",
   "execution_count": 44,
   "id": "26139a98645604c7",
   "metadata": {
    "ExecuteTime": {
     "end_time": "2024-04-13T20:00:53.571794650Z",
     "start_time": "2024-04-13T20:00:53.528497423Z"
    },
    "collapsed": false,
    "jupyter": {
     "outputs_hidden": false
    }
   },
   "outputs": [
    {
     "name": "stdout",
     "output_type": "stream",
     "text": [
      "run/TS_Text/ihm/TS_Text/TS_48/Atten/Text_48/bioLongformer/1024/cross_attn3/irregular_TS_64/irregular_Text_64/5e-05_2_3_0.0004_1_8_128_1_2/f1/42.pth.tar\n"
     ]
    },
    {
     "name": "stderr",
     "output_type": "stream",
     "text": [
      "100%|████████████████████████████████████████████████████████████████████████████████| 125/125 [01:23<00:00,  1.50it/s]\n"
     ]
    }
   ],
   "source": [
    "eval_test(args, model, test_data_loader, device)"
   ]
  },
  {
   "cell_type": "markdown",
   "id": "01cc56ec-f3c6-4a4b-9d7d-5a27eaede339",
   "metadata": {},
   "source": [
    "## Load evaluation result\n",
    "\n",
    "the performance of \n",
    "proposed methods and baseline are measureds by the F,d AUP,o) and AUR.E,"
   ]
  },
  {
   "cell_type": "code",
   "execution_count": 48,
   "id": "c2bebcd7-34c6-4032-8ebf-4206d2cf5722",
   "metadata": {},
   "outputs": [
    {
     "name": "stdout",
     "output_type": "stream",
     "text": [
      "{42: {'auc': {'val': 0.8121432052353105, 'test': 0.7817799847211611}, 'auprc': {'val': 0.4312691590683202, 'test': 0.348923591347238}, 'f1': {'val': 0.33507853403141363, 'test': 0.25316455696202533}}}\n"
     ]
    }
   ],
   "source": [
    "for result_file in os.listdir(args.ck_file_path):\n",
    "    if 'result.pkl' in result_file:\n",
    "        eval_result_path = args.ck_file_path + result_file\n",
    "        # print(eval_result_path)\n",
    "        with open(eval_result_path,'rb') as f:\n",
    "            evaluation_result = pickle.load(f)\n",
    "            print(evaluation_result)"
   ]
  },
  {
   "cell_type": "markdown",
   "id": "0bdec98a-e986-47ba-853c-ef33cbb59b2e",
   "metadata": {},
   "source": [
    "# Conclusion\n",
    "\n",
    "Sicne for the demonstration we only used 1000 sample for 1 epoch, and we fill in dummy data for entry with missing value, we could not achieve the same result as the paper describe.\n",
    "\n",
    "We plan to further furnish the code and run on the full sample data with more epoch, to see if we could get the result as the paper describe."
   ]
  }
 ],
 "metadata": {
  "kernelspec": {
   "display_name": "Python 3 (ipykernel)",
   "language": "python",
   "name": "python3"
  },
  "language_info": {
   "codemirror_mode": {
    "name": "ipython",
    "version": 3
   },
   "file_extension": ".py",
   "mimetype": "text/x-python",
   "name": "python",
   "nbconvert_exporter": "python",
   "pygments_lexer": "ipython3",
   "version": "3.12.2"
  }
 },
 "nbformat": 4,
 "nbformat_minor": 5
}
