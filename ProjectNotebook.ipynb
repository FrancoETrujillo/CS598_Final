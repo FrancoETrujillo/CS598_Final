{
 "cells": [
  {
   "cell_type": "markdown",
   "source": [
    "# Improving Medical Predictions by Irregular Multimodal Electronic Health Records Modeling\n",
    " \n",
    "The general problem addressed in this paper is to find a better approach to handling\n",
    "irregular multimodal data obtained on EHRs to better assess real-time predictions in\n",
    "ICUs.\n",
    "“Health conditions among patients in intensive care units (ICUs) are monitored via\n",
    "electronic health records (EHRs), composed of numerical time series and lengthy clinical\n",
    "note sequences, both taken at irregular time intervals. Dealing with such irregularity in\n",
    "every modality, and integrating irregularity into multimodal representations to improve\n",
    "medical predictions, is a challenging problem.” (Zhang et al., 2023)\n",
    "<br>\n",
    "\n",
    "> Zhang, X., Li, S., Chen, Z., Yan, X., & Petzold, L. R. (2023, July). Improving medical predictions\n",
    "> by irregular multimodal electronic health records modeling. In International Conference on\n",
    "> Machine Learning (pp. 41300-41313). PMLR. [link](https://arxiv.org/abs/2210.12156)"
   ],
   "metadata": {
    "collapsed": false
   },
   "id": "6a61a2cc2d1c4b0e"
  },
  {
   "cell_type": "markdown",
   "source": [
    "## specific approach\n",
    "The specific approach of the paper is to model the EHR records by integrating the\n",
    "real-time series and clinical notes while considering their irregularities. To achieve this,\n",
    "the paper addressed three main challenges; Modeling Irregularity in TimeSeries,\n",
    "Processing Irregular Clinical Notes, and Multimodal Fusion.\n"
   ],
   "metadata": {
    "collapsed": false
   },
   "id": "b51b40d117099b4b"
  },
  {
   "cell_type": "code",
   "outputs": [],
   "source": [
    "# Imports and configs\n",
    "import subprocess\n",
    "import pickle\n",
    "import os\n",
    "from GlobalConfigs import *\n",
    "\n",
    "DOWNLOAD_DATASET = False\n",
    "EXTRACT_COMPRESSED_CSVS = False\n",
    "PREPROCESS_BENCHMARKS = False\n",
    "PREPROCESS_CLINICAL_NOTES = False\n",
    "PREPROCESS_MULTIMODAL = False"
   ],
   "metadata": {
    "collapsed": false,
    "ExecuteTime": {
     "end_time": "2024-04-09T04:37:44.135705286Z",
     "start_time": "2024-04-09T04:37:44.126874579Z"
    }
   },
   "id": "9e41a54007f74873",
   "execution_count": 53
  },
  {
   "cell_type": "markdown",
   "source": [
    "# Getting the data\n",
    "This paper uses the MIMICIII dataset the following code contains some useful code to download and extract the dataset files"
   ],
   "metadata": {
    "collapsed": false
   },
   "id": "b29dd7b5395bf588"
  },
  {
   "cell_type": "code",
   "outputs": [],
   "source": [
    "# change physionet_username to your username\n",
    "if DOWNLOAD_DATASET:\n",
    "   \n",
    "    physionet_username = \"ftrujillo\"\n",
    "    password = \"your_pass\"\n",
    "    destination_directory = \"data/MIMICIII_Original\"\n",
    "    \n",
    "    command = [\n",
    "        \"wget\", \"-r\", \"-N\", \"-c\", \"-np\",\n",
    "        \"--user\", physionet_username,\n",
    "        \"--password\", password,\n",
    "        \"https://physionet.org/files/mimiciii/1.4/\",\n",
    "        \"-P\", destination_directory\n",
    "    ]\n",
    "    \n",
    "    process = subprocess.Popen(command, stdout=subprocess.PIPE, stderr=subprocess.STDOUT, text=True)\n",
    "    \n",
    "    for line in process.stdout:\n",
    "        print(line, end='')\n",
    "    \n",
    "    process.wait()\n",
    "    \n",
    "    if process.returncode != 0:\n",
    "        print(f\"Command failed with return code {process.returncode}\")\n"
   ],
   "metadata": {
    "collapsed": false,
    "ExecuteTime": {
     "end_time": "2024-04-09T04:25:11.288351382Z",
     "start_time": "2024-04-09T04:25:11.283871043Z"
    }
   },
   "id": "dd912cb01d3abcc0",
   "execution_count": 46
  },
  {
   "cell_type": "code",
   "outputs": [],
   "source": [
    "if EXTRACT_COMPRESSED_CSVS:\n",
    "    command = ['./decompress_mimic.sh', '-d', 'data/MIMICIII_Original/physionet.org/files/mimiciii/1.4/', '-o', 'data/mimic3']\n",
    "    \n",
    "    process = subprocess.Popen(command, stdout=subprocess.PIPE, stderr=subprocess.STDOUT, text=True)\n",
    "    \n",
    "    for line in process.stdout:\n",
    "        print(line, end='')   \n",
    "        \n",
    "    process.wait()\n",
    "    \n",
    "    if process.returncode != 0:\n",
    "        print(f\"Command failed with return code {process.returncode}\")\n"
   ],
   "metadata": {
    "collapsed": false,
    "ExecuteTime": {
     "end_time": "2024-04-09T04:25:12.403912750Z",
     "start_time": "2024-04-09T04:25:12.392380507Z"
    }
   },
   "id": "7b7101051b10d00a",
   "execution_count": 47
  },
  {
   "cell_type": "markdown",
   "source": [
    "# Data Preprocessing\n",
    "The original paper leverages the following projects to help on the data preparation and extraction from the original MIMIC CSVs"
   ],
   "metadata": {
    "collapsed": false
   },
   "id": "13ee902ed9e8ef43"
  },
  {
   "cell_type": "markdown",
   "source": [
    "### MIMIC benchmarks\n",
    "Helps to process timeseries data and divide train and test sets\n",
    "https://github.com/YerevaNN/mimic3-benchmarks.git\n",
    "\n",
    "The project does not work out of the box, so we downloaded the sourcecode and modify it inside this repo under the [mimic3-benchmarks](./mimic3-benchmarks) folder\n",
    "\n",
    "To simplify the process we have created the following script `./build_benchmark_data.sh` tu run all timeseries required tasks."
   ],
   "metadata": {
    "collapsed": false
   },
   "id": "6c63cceb7ae9be99"
  },
  {
   "cell_type": "code",
   "outputs": [],
   "source": [
    "if PREPROCESS_BENCHMARKS:\n",
    "    command = [\"./build_benchmark_data.sh\"]\n",
    "\n",
    "    process = subprocess.Popen(command, stdout=subprocess.PIPE, stderr=subprocess.STDOUT, text=True, shell=True)\n",
    "    \n",
    "    for line in process.stdout:\n",
    "        print(line, end='')\n",
    "    process.wait()\n",
    "    \n",
    "    if process.returncode != 0:\n",
    "        print(f\"Command failed with return code {process.returncode}\")\n"
   ],
   "metadata": {
    "collapsed": false,
    "ExecuteTime": {
     "end_time": "2024-04-09T04:25:23.543756522Z",
     "start_time": "2024-04-09T04:25:23.532883451Z"
    }
   },
   "id": "572e454792dbbde4",
   "execution_count": 49
  },
  {
   "cell_type": "markdown",
   "source": [
    "### ClinicalNotesICU\n",
    "Helps to process medical notes and divide in train and test\n",
    " https://github.com/kaggarwal/ClinicalNotesICU.git\n",
    "\n",
    "The project does not work out of the box, so we downloaded the sourcecode and modify it inside this repo under the [ClinicalNotesICU](./ClinicalNotesICU) folder\n",
    "\n",
    "To simplify the process we have created the following script `./extract_med_notes.sh` tu run all the required tasks for clinical notes.\n"
   ],
   "metadata": {
    "collapsed": false
   },
   "id": "44f45bd0bc84d872"
  },
  {
   "cell_type": "code",
   "outputs": [],
   "source": [
    "if PREPROCESS_CLINICAL_NOTES:\n",
    "    command = [\"./extract_med_notes.sh\"]\n",
    "\n",
    "    process = subprocess.Popen(command, stdout=subprocess.PIPE, stderr=subprocess.STDOUT, text=True, shell=True)\n",
    "    \n",
    "    for line in process.stdout:\n",
    "        print(line, end='')\n",
    "    process.wait()\n",
    "    \n",
    "    if process.returncode != 0:\n",
    "        print(f\"Command failed with return code {process.returncode}\")"
   ],
   "metadata": {
    "collapsed": false,
    "ExecuteTime": {
     "end_time": "2024-04-09T04:25:32.904799450Z",
     "start_time": "2024-04-09T04:25:32.862749190Z"
    }
   },
   "id": "d23722350fecd73f",
   "execution_count": 50
  },
  {
   "cell_type": "markdown",
   "source": [
    "# Preprocess time series and notes to create timestamps and text chunk PKLs\n",
    "\n",
    "The [paper's repo](https://github.com/XZhang97666/MultimodalMIMIC.git) provides a preprocessing script to take care of this task.\n",
    "\n",
    "The project does not work out of the box, so we downloaded the sourcecode and modify it inside this repo under the [MultimodalMIMIC](./MultimodalMIMIC) folder"
   ],
   "metadata": {
    "collapsed": false
   },
   "id": "839edc8722b2b0e5"
  },
  {
   "cell_type": "code",
   "outputs": [],
   "source": [
    "if PREPROCESS_MULTIMODAL:\n",
    "    # Not working if executed from notebook, run from command line with MultimodalMIMIC as cwd\n",
    "    %run MultimodalMIMIC/preprocessing.py\n"
   ],
   "metadata": {
    "collapsed": false,
    "ExecuteTime": {
     "end_time": "2024-04-09T04:49:56.723760005Z",
     "start_time": "2024-04-09T04:49:56.675472261Z"
    }
   },
   "id": "7f7990c4a9f0a349",
   "execution_count": 59
  },
  {
   "cell_type": "code",
   "outputs": [],
   "source": [
    "\n",
    "\n",
    "clinical_notes_path = f\"{BENCHMARKS_ROOT_PATH}/data/root/text_fixed\"\n",
    "\n",
    "# Start times pkl contains a map of patient_id notes with its recorded time\n",
    "test_note_start_time = f\"{clinical_notes_path}/test_starttime.pkl\"\n",
    "train_note_start_time = f\"{clinical_notes_path}/starttime.pkl\"\n",
    "\n",
    "test_start_times_dict = {}\n",
    "train_start_times_dict = {}\n",
    "with open(test_note_start_time, 'rb') as f:\n",
    "    test_start_times_dict.update(pickle.load(f))\n",
    "\n",
    "with open(train_note_start_time, 'rb') as f:\n",
    "    train_start_times_dict.update(pickle.load(f))\n",
    "\n",
    "print(\"test:\", len(test_start_times_dict))\n",
    "print(\"train:\", len(train_start_times_dict))\n"
   ],
   "metadata": {
    "collapsed": false
   },
   "id": "6e7d3cd1d20c29c4",
   "execution_count": null
  },
  {
   "cell_type": "code",
   "outputs": [],
   "source": [
    "text_train_files = []\n",
    "text_test_files = []\n",
    "\n",
    "text_train_filepath = f\"{clinical_notes_path}/train\"\n",
    "text_test_filepath = f\"{clinical_notes_path}/test\"\n",
    "\n",
    "with os.scandir(text_train_filepath) as entries:\n",
    "    text_train_files.extend([entry.name for entry in entries if entry.is_file() and entry.name[0].isdigit()])\n",
    "\n",
    "with os.scandir(text_test_filepath) as entries:\n",
    "    text_test_files.extend([entry.name for entry in entries if entry.is_file() and entry.name[0].isdigit()])\n",
    "\n",
    "print(\"test texts:\", len(text_test_files))\n",
    "print(\"train texts:\", len(text_train_files))\n",
    "print(f\"{text_test_filepath}/{text_test_files[0]}\")\n"
   ],
   "metadata": {
    "collapsed": false
   },
   "id": "aa7eccdffa04299b",
   "execution_count": null
  },
  {
   "cell_type": "code",
   "outputs": [],
   "source": [
    "# Open PKL\n",
    "dataPath = \"/media/ftrujillo/FRD/Projects/UIUC/DLH/CS598_Final/MultimodalMIMIC/Data/ihm/p2x_data.pkl\"\n",
    "if os.path.isfile(dataPath):\n",
    "    print('Using', dataPath)\n",
    "    with open(dataPath, 'rb') as f:\n",
    "        data = pickle.load(f)\n",
    "        print(\"pkl data:\", data[0].keys())\n",
    "\n"
   ],
   "metadata": {
    "collapsed": false
   },
   "id": "246aeb4f99d4a8d",
   "execution_count": null
  },
  {
   "cell_type": "markdown",
   "source": [
    "### Modeling Irregularity in Time Series:\n",
    "1. Temporal Discretization-Based Embeddings (TDE): Utilizes a novel unified\n",
    "approach (UTDE) that combines:\n",
    "    - Imputation: Regularizes time series by filling in missing values based\n",
    "on prior observations or statistical methods.\n",
    "    - Discretized Multi-Time Attention (mTAND): Applies a learned\n",
    "interpolation method using a multi-time attention mechanism to\n",
    "represent the irregular time series data better.\n",
    "2. Unified Approach (UTDE): This approach integrates imputation and mTAND\n",
    "through a gating mechanism to dynamically combine the representation of\n",
    "the time series.\n"
   ],
   "metadata": {
    "collapsed": false
   },
   "id": "21e0f183c4fcff72"
  },
  {
   "cell_type": "code",
   "outputs": [],
   "source": [],
   "metadata": {
    "collapsed": false
   },
   "id": "89c2a70216a8cf56"
  },
  {
   "cell_type": "markdown",
   "source": [
    "### Processing Irregular Clinical Notes:\n",
    "1. Text Encoding: Uses a pretrained model (TextEncoder) to encode clinical\n",
    "notes into a series of representations.\n",
    "2. Irregularity Modeling: Sorts these representations by time, treats them as\n",
    "Multivariate Irregularly Sampled Time Series (MINSTS), and employs mTAND\n",
    "to generate a set of text interpolation representations to handle irregularities."
   ],
   "metadata": {
    "collapsed": false
   },
   "id": "61c9a59e7e92a2a5"
  },
  {
   "cell_type": "code",
   "outputs": [],
   "source": [],
   "metadata": {
    "collapsed": false
   },
   "id": "4939883309280f12"
  },
  {
   "cell_type": "markdown",
   "source": [
    "### Multimodal Fusion:\n",
    "1. Interleaved Attention Mechanism: Fuses time series and clinical note\n",
    "representations across temporal steps, integrating irregularity into multimodal\n",
    "representations.\n",
    "2. Self and Cross-Attention:\n",
    "    - Multi-Head Self-Attention (MH): Acquires contextual embeddings for\n",
    "each modality by focusing within the same modality across time.\n",
    "    - Multi-Head Cross-Attention (CMH): Each modality learns from the\n",
    "other, integrating information across modalities.\n",
    "3. Feed-Forward and Prediction Layers: A feed-forward sublayer follows the\n",
    "CMH outputs, with layer normalization and residual connections applied. The\n",
    "final step involves passing the integrated representations through fully\n",
    "connected layers to predict the outcome."
   ],
   "metadata": {
    "collapsed": false
   },
   "id": "8eb44cafed1eed46"
  },
  {
   "cell_type": "code",
   "outputs": [],
   "source": [],
   "metadata": {
    "collapsed": false
   },
   "id": "30b46a7751299205"
  },
  {
   "cell_type": "markdown",
   "source": [
    "# Train Model"
   ],
   "metadata": {
    "collapsed": false
   },
   "id": "ea129f0ca6817b1b"
  },
  {
   "cell_type": "code",
   "outputs": [],
   "source": [],
   "metadata": {
    "collapsed": false
   },
   "id": "bd36e4457baa5aa5"
  },
  {
   "cell_type": "markdown",
   "source": [
    "# Evaluate"
   ],
   "metadata": {
    "collapsed": false
   },
   "id": "2abaeb54759b9c2f"
  },
  {
   "cell_type": "code",
   "outputs": [],
   "source": [],
   "metadata": {
    "collapsed": false
   },
   "id": "26139a98645604c7"
  },
  {
   "cell_type": "markdown",
   "source": [
    "# Ablation 1 - Drop UTDE"
   ],
   "metadata": {
    "collapsed": false
   },
   "id": "b35e085c337f3375"
  },
  {
   "cell_type": "code",
   "outputs": [],
   "source": [],
   "metadata": {
    "collapsed": false
   },
   "id": "91ee0bc909bde8c6"
  },
  {
   "cell_type": "markdown",
   "source": [
    "# Ablation 2 - Remove mTAND"
   ],
   "metadata": {
    "collapsed": false
   },
   "id": "50a006bd896d6e70"
  },
  {
   "cell_type": "code",
   "outputs": [],
   "source": [],
   "metadata": {
    "collapsed": false
   },
   "id": "9c7df7867cf3098e"
  }
 ],
 "metadata": {
  "kernelspec": {
   "display_name": "Python 3",
   "language": "python",
   "name": "python3"
  },
  "language_info": {
   "codemirror_mode": {
    "name": "ipython",
    "version": 2
   },
   "file_extension": ".py",
   "mimetype": "text/x-python",
   "name": "python",
   "nbconvert_exporter": "python",
   "pygments_lexer": "ipython2",
   "version": "2.7.6"
  }
 },
 "nbformat": 4,
 "nbformat_minor": 5
}
