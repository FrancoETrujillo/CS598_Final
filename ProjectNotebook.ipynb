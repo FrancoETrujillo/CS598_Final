{
 "cells": [
  {
   "cell_type": "markdown",
   "source": [
    "# Improving Medical Predictions by Irregular Multimodal Electronic Health Records Modeling\n",
    " \n",
    "The general problem addressed in this paper is to find a better approach to handling\n",
    "irregular multimodal data obtained on EHRs to better assess real-time predictions in\n",
    "ICUs.\n",
    "“Health conditions among patients in intensive care units (ICUs) are monitored via\n",
    "electronic health records (EHRs), composed of numerical time series and lengthy clinical\n",
    "note sequences, both taken at irregular time intervals. Dealing with such irregularity in\n",
    "every modality, and integrating irregularity into multimodal representations to improve\n",
    "medical predictions, is a challenging problem.” (Zhang et al., 2023)\n",
    "<br>\n",
    "\n",
    "> Zhang, X., Li, S., Chen, Z., Yan, X., & Petzold, L. R. (2023, July). Improving medical predictions\n",
    "> by irregular multimodal electronic health records modeling. In International Conference on\n",
    "> Machine Learning (pp. 41300-41313). PMLR. [link](https://arxiv.org/abs/2210.12156)"
   ],
   "metadata": {
    "collapsed": false
   },
   "id": "6a61a2cc2d1c4b0e"
  },
  {
   "cell_type": "markdown",
   "source": [
    "## specific approach\n",
    "The specific approach of the paper is to model the EHR records by integrating the\n",
    "real-time series and clinical notes while considering their irregularities. To achieve this,\n",
    "the paper addressed three main challenges; Modeling Irregularity in TimeSeries,\n",
    "Processing Irregular Clinical Notes, and Multimodal Fusion.\n"
   ],
   "metadata": {
    "collapsed": false
   },
   "id": "b51b40d117099b4b"
  },
  {
   "cell_type": "markdown",
   "source": [
    "# Data Preprocessing\n",
    "Leverage the following projects to help on the data extraction\n",
    "### MIMIC benchmarks\n",
    "Helps to process timeseries data and divide train and test sets\n",
    " https://github.com/YerevaNN/mimic3-benchmarks.git\n",
    "\n",
    "### ClinicalNotesICU\n",
    "Helps to process medical notes and divide in train and test\n",
    " https://github.com/kaggarwal/ClinicalNotesICU.git\n"
   ],
   "metadata": {
    "collapsed": false
   },
   "id": "13ee902ed9e8ef43"
  },
  {
   "cell_type": "code",
   "outputs": [],
   "source": [],
   "metadata": {
    "collapsed": false
   },
   "id": "6e7d3cd1d20c29c4"
  },
  {
   "cell_type": "markdown",
   "source": [
    "### Modeling Irregularity in Time Series:\n",
    "1. Temporal Discretization-Based Embeddings (TDE): Utilizes a novel unified\n",
    "approach (UTDE) that combines:\n",
    "    - Imputation: Regularizes time series by filling in missing values based\n",
    "on prior observations or statistical methods.\n",
    "    - Discretized Multi-Time Attention (mTAND): Applies a learned\n",
    "interpolation method using a multi-time attention mechanism to\n",
    "represent the irregular time series data better.\n",
    "2. Unified Approach (UTDE): This approach integrates imputation and mTAND\n",
    "through a gating mechanism to dynamically combine the representation of\n",
    "the time series.\n"
   ],
   "metadata": {
    "collapsed": false
   },
   "id": "21e0f183c4fcff72"
  },
  {
   "cell_type": "code",
   "outputs": [],
   "source": [],
   "metadata": {
    "collapsed": false
   },
   "id": "89c2a70216a8cf56"
  },
  {
   "cell_type": "markdown",
   "source": [
    "### Processing Irregular Clinical Notes:\n",
    "1. Text Encoding: Uses a pretrained model (TextEncoder) to encode clinical\n",
    "notes into a series of representations.\n",
    "2. Irregularity Modeling: Sorts these representations by time, treats them as\n",
    "Multivariate Irregularly Sampled Time Series (MINSTS), and employs mTAND\n",
    "to generate a set of text interpolation representations to handle irregularities."
   ],
   "metadata": {
    "collapsed": false
   },
   "id": "61c9a59e7e92a2a5"
  },
  {
   "cell_type": "code",
   "outputs": [],
   "source": [],
   "metadata": {
    "collapsed": false
   },
   "id": "4939883309280f12"
  },
  {
   "cell_type": "markdown",
   "source": [
    "### Multimodal Fusion:\n",
    "1. Interleaved Attention Mechanism: Fuses time series and clinical note\n",
    "representations across temporal steps, integrating irregularity into multimodal\n",
    "representations.\n",
    "2. Self and Cross-Attention:\n",
    "    - Multi-Head Self-Attention (MH): Acquires contextual embeddings for\n",
    "each modality by focusing within the same modality across time.\n",
    "    - Multi-Head Cross-Attention (CMH): Each modality learns from the\n",
    "other, integrating information across modalities.\n",
    "3. Feed-Forward and Prediction Layers: A feed-forward sublayer follows the\n",
    "CMH outputs, with layer normalization and residual connections applied. The\n",
    "final step involves passing the integrated representations through fully\n",
    "connected layers to predict the outcome."
   ],
   "metadata": {
    "collapsed": false
   },
   "id": "8eb44cafed1eed46"
  },
  {
   "cell_type": "code",
   "outputs": [],
   "source": [],
   "metadata": {
    "collapsed": false
   },
   "id": "30b46a7751299205"
  },
  {
   "cell_type": "markdown",
   "source": [
    "# Train Model"
   ],
   "metadata": {
    "collapsed": false
   },
   "id": "ea129f0ca6817b1b"
  },
  {
   "cell_type": "code",
   "outputs": [],
   "source": [],
   "metadata": {
    "collapsed": false
   },
   "id": "bd36e4457baa5aa5"
  },
  {
   "cell_type": "markdown",
   "source": [
    "# Evaluate"
   ],
   "metadata": {
    "collapsed": false
   },
   "id": "2abaeb54759b9c2f"
  },
  {
   "cell_type": "code",
   "outputs": [],
   "source": [],
   "metadata": {
    "collapsed": false
   },
   "id": "26139a98645604c7"
  },
  {
   "cell_type": "markdown",
   "source": [
    "# Ablation 1 - Drop UTDE"
   ],
   "metadata": {
    "collapsed": false
   },
   "id": "b35e085c337f3375"
  },
  {
   "cell_type": "code",
   "outputs": [],
   "source": [],
   "metadata": {
    "collapsed": false
   },
   "id": "91ee0bc909bde8c6"
  },
  {
   "cell_type": "markdown",
   "source": [
    "# Ablation 2 - Remove mTAND"
   ],
   "metadata": {
    "collapsed": false
   },
   "id": "50a006bd896d6e70"
  },
  {
   "cell_type": "code",
   "outputs": [],
   "source": [],
   "metadata": {
    "collapsed": false
   },
   "id": "9c7df7867cf3098e"
  }
 ],
 "metadata": {
  "kernelspec": {
   "display_name": "Python 3",
   "language": "python",
   "name": "python3"
  },
  "language_info": {
   "codemirror_mode": {
    "name": "ipython",
    "version": 2
   },
   "file_extension": ".py",
   "mimetype": "text/x-python",
   "name": "python",
   "nbconvert_exporter": "python",
   "pygments_lexer": "ipython2",
   "version": "2.7.6"
  }
 },
 "nbformat": 4,
 "nbformat_minor": 5
}
